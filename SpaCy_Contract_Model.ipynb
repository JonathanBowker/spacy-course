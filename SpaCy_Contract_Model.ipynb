{
  "nbformat": 4,
  "nbformat_minor": 0,
  "metadata": {
    "colab": {
      "name": "NLP with SpaCy.ipynb",
      "provenance": [],
      "collapsed_sections": [],
      "include_colab_link": true
    },
    "kernelspec": {
      "name": "python3",
      "display_name": "Python 3"
    }
  },
  "cells": [
    {
      "cell_type": "markdown",
      "metadata": {
        "id": "view-in-github",
        "colab_type": "text"
      },
      "source": [
        "<a href=\"https://colab.research.google.com/github/JonathanBowker/spacy-course/blob/master/SpaCy_Contract_Model.ipynb\" target=\"_parent\"><img src=\"https://colab.research.google.com/assets/colab-badge.svg\" alt=\"Open In Colab\"/></a>"
      ]
    },
    {
      "cell_type": "markdown",
      "metadata": {
        "id": "5Szc5ikeyJnQ",
        "colab_type": "text"
      },
      "source": [
        "## Install [SpaCy](https://nlpforhackers.io/complete-guide-to-spacy/) (en)"
      ]
    },
    {
      "cell_type": "code",
      "metadata": {
        "id": "2cOQ5YwCvY58",
        "colab_type": "code",
        "outputId": "d13da100-c498-4881-bc7f-3eeb15a0be3d",
        "colab": {
          "base_uri": "https://localhost:8080/",
          "height": 496
        }
      },
      "source": [
        "!python -m spacy download en"
      ],
      "execution_count": 0,
      "outputs": [
        {
          "output_type": "stream",
          "text": [
            "Requirement already satisfied: en_core_web_sm==2.2.5 from https://github.com/explosion/spacy-models/releases/download/en_core_web_sm-2.2.5/en_core_web_sm-2.2.5.tar.gz#egg=en_core_web_sm==2.2.5 in /usr/local/lib/python3.6/dist-packages (2.2.5)\n",
            "Requirement already satisfied: spacy>=2.2.2 in /usr/local/lib/python3.6/dist-packages (from en_core_web_sm==2.2.5) (2.2.4)\n",
            "Requirement already satisfied: preshed<3.1.0,>=3.0.2 in /usr/local/lib/python3.6/dist-packages (from spacy>=2.2.2->en_core_web_sm==2.2.5) (3.0.2)\n",
            "Requirement already satisfied: setuptools in /usr/local/lib/python3.6/dist-packages (from spacy>=2.2.2->en_core_web_sm==2.2.5) (46.1.3)\n",
            "Requirement already satisfied: wasabi<1.1.0,>=0.4.0 in /usr/local/lib/python3.6/dist-packages (from spacy>=2.2.2->en_core_web_sm==2.2.5) (0.6.0)\n",
            "Requirement already satisfied: catalogue<1.1.0,>=0.0.7 in /usr/local/lib/python3.6/dist-packages (from spacy>=2.2.2->en_core_web_sm==2.2.5) (1.0.0)\n",
            "Requirement already satisfied: tqdm<5.0.0,>=4.38.0 in /usr/local/lib/python3.6/dist-packages (from spacy>=2.2.2->en_core_web_sm==2.2.5) (4.38.0)\n",
            "Requirement already satisfied: requests<3.0.0,>=2.13.0 in /usr/local/lib/python3.6/dist-packages (from spacy>=2.2.2->en_core_web_sm==2.2.5) (2.23.0)\n",
            "Requirement already satisfied: srsly<1.1.0,>=1.0.2 in /usr/local/lib/python3.6/dist-packages (from spacy>=2.2.2->en_core_web_sm==2.2.5) (1.0.2)\n",
            "Requirement already satisfied: numpy>=1.15.0 in /usr/local/lib/python3.6/dist-packages (from spacy>=2.2.2->en_core_web_sm==2.2.5) (1.18.3)\n",
            "Requirement already satisfied: plac<1.2.0,>=0.9.6 in /usr/local/lib/python3.6/dist-packages (from spacy>=2.2.2->en_core_web_sm==2.2.5) (1.1.3)\n",
            "Requirement already satisfied: thinc==7.4.0 in /usr/local/lib/python3.6/dist-packages (from spacy>=2.2.2->en_core_web_sm==2.2.5) (7.4.0)\n",
            "Requirement already satisfied: blis<0.5.0,>=0.4.0 in /usr/local/lib/python3.6/dist-packages (from spacy>=2.2.2->en_core_web_sm==2.2.5) (0.4.1)\n",
            "Requirement already satisfied: cymem<2.1.0,>=2.0.2 in /usr/local/lib/python3.6/dist-packages (from spacy>=2.2.2->en_core_web_sm==2.2.5) (2.0.3)\n",
            "Requirement already satisfied: murmurhash<1.1.0,>=0.28.0 in /usr/local/lib/python3.6/dist-packages (from spacy>=2.2.2->en_core_web_sm==2.2.5) (1.0.2)\n",
            "Requirement already satisfied: importlib-metadata>=0.20; python_version < \"3.8\" in /usr/local/lib/python3.6/dist-packages (from catalogue<1.1.0,>=0.0.7->spacy>=2.2.2->en_core_web_sm==2.2.5) (1.6.0)\n",
            "Requirement already satisfied: urllib3!=1.25.0,!=1.25.1,<1.26,>=1.21.1 in /usr/local/lib/python3.6/dist-packages (from requests<3.0.0,>=2.13.0->spacy>=2.2.2->en_core_web_sm==2.2.5) (1.24.3)\n",
            "Requirement already satisfied: chardet<4,>=3.0.2 in /usr/local/lib/python3.6/dist-packages (from requests<3.0.0,>=2.13.0->spacy>=2.2.2->en_core_web_sm==2.2.5) (3.0.4)\n",
            "Requirement already satisfied: certifi>=2017.4.17 in /usr/local/lib/python3.6/dist-packages (from requests<3.0.0,>=2.13.0->spacy>=2.2.2->en_core_web_sm==2.2.5) (2020.4.5.1)\n",
            "Requirement already satisfied: idna<3,>=2.5 in /usr/local/lib/python3.6/dist-packages (from requests<3.0.0,>=2.13.0->spacy>=2.2.2->en_core_web_sm==2.2.5) (2.9)\n",
            "Requirement already satisfied: zipp>=0.5 in /usr/local/lib/python3.6/dist-packages (from importlib-metadata>=0.20; python_version < \"3.8\"->catalogue<1.1.0,>=0.0.7->spacy>=2.2.2->en_core_web_sm==2.2.5) (3.1.0)\n",
            "\u001b[38;5;2m✔ Download and installation successful\u001b[0m\n",
            "You can now load the model via spacy.load('en_core_web_sm')\n",
            "\u001b[38;5;2m✔ Linking successful\u001b[0m\n",
            "/usr/local/lib/python3.6/dist-packages/en_core_web_sm -->\n",
            "/usr/local/lib/python3.6/dist-packages/spacy/data/en\n",
            "You can now load the model via spacy.load('en')\n"
          ],
          "name": "stdout"
        }
      ]
    },
    {
      "cell_type": "markdown",
      "metadata": {
        "id": "lvmjTnsQfeAu",
        "colab_type": "text"
      },
      "source": [
        "\n",
        "## **Alan - This is the code we need**\n"
      ]
    },
    {
      "cell_type": "code",
      "metadata": {
        "id": "0QP9uAl-RkRp",
        "colab_type": "code",
        "outputId": "f692812f-539c-4016-9bab-960af084b47d",
        "colab": {
          "base_uri": "https://localhost:8080/",
          "height": 1000
        }
      },
      "source": [
        "# Model trained on the OntoNotes 5 corpus for entity extaction\n",
        "\n",
        "import spacy\n",
        "\n",
        "nlp = spacy.load('en')\n",
        "parsed_doc = nlp(\"\"\"Apple is looking at Buying U.K. with a reference number MTE-1245/4456 and a STARTUP for $1 billion or (89)\"\"\")\n",
        "\n",
        "[(token.i, token.idx, token.n_lefts, token.n_rights, token.text, token.ent_type_, token.lemma_, token.pos_, token.tag_, token.dep_,\n",
        "            token.shape_, token.is_alpha, token.is_stop, token.is_bracket, token.is_title, token.is_lower, token.is_upper, token.is_sent_start, token.is_currency, token.is_digit ) for token in parsed_doc]\n",
        "\n",
        "            "
      ],
      "execution_count": 0,
      "outputs": [
        {
          "output_type": "execute_result",
          "data": {
            "text/plain": [
              "[(0,\n",
              "  0,\n",
              "  0,\n",
              "  0,\n",
              "  'Apple',\n",
              "  'ORG',\n",
              "  'Apple',\n",
              "  'PROPN',\n",
              "  'NNP',\n",
              "  'nsubj',\n",
              "  'Xxxxx',\n",
              "  True,\n",
              "  False,\n",
              "  False,\n",
              "  True,\n",
              "  False,\n",
              "  False,\n",
              "  True,\n",
              "  False,\n",
              "  False),\n",
              " (1,\n",
              "  6,\n",
              "  0,\n",
              "  0,\n",
              "  'is',\n",
              "  '',\n",
              "  'be',\n",
              "  'AUX',\n",
              "  'VBZ',\n",
              "  'aux',\n",
              "  'xx',\n",
              "  True,\n",
              "  True,\n",
              "  False,\n",
              "  False,\n",
              "  True,\n",
              "  False,\n",
              "  None,\n",
              "  False,\n",
              "  False),\n",
              " (2,\n",
              "  9,\n",
              "  2,\n",
              "  3,\n",
              "  'looking',\n",
              "  '',\n",
              "  'look',\n",
              "  'VERB',\n",
              "  'VBG',\n",
              "  'ROOT',\n",
              "  'xxxx',\n",
              "  True,\n",
              "  False,\n",
              "  False,\n",
              "  False,\n",
              "  True,\n",
              "  False,\n",
              "  None,\n",
              "  False,\n",
              "  False),\n",
              " (3,\n",
              "  17,\n",
              "  0,\n",
              "  1,\n",
              "  'at',\n",
              "  '',\n",
              "  'at',\n",
              "  'ADP',\n",
              "  'IN',\n",
              "  'prep',\n",
              "  'xx',\n",
              "  True,\n",
              "  True,\n",
              "  False,\n",
              "  False,\n",
              "  True,\n",
              "  False,\n",
              "  None,\n",
              "  False,\n",
              "  False),\n",
              " (4,\n",
              "  20,\n",
              "  0,\n",
              "  0,\n",
              "  'Buying',\n",
              "  '',\n",
              "  'Buying',\n",
              "  'PROPN',\n",
              "  'NNP',\n",
              "  'compound',\n",
              "  'Xxxxx',\n",
              "  True,\n",
              "  False,\n",
              "  False,\n",
              "  True,\n",
              "  False,\n",
              "  False,\n",
              "  None,\n",
              "  False,\n",
              "  False),\n",
              " (5,\n",
              "  27,\n",
              "  1,\n",
              "  0,\n",
              "  'U.K.',\n",
              "  'GPE',\n",
              "  'U.K.',\n",
              "  'PROPN',\n",
              "  'NNP',\n",
              "  'pobj',\n",
              "  'X.X.',\n",
              "  False,\n",
              "  False,\n",
              "  False,\n",
              "  True,\n",
              "  False,\n",
              "  True,\n",
              "  None,\n",
              "  False,\n",
              "  False),\n",
              " (6,\n",
              "  32,\n",
              "  0,\n",
              "  1,\n",
              "  'with',\n",
              "  '',\n",
              "  'with',\n",
              "  'ADP',\n",
              "  'IN',\n",
              "  'prep',\n",
              "  'xxxx',\n",
              "  True,\n",
              "  True,\n",
              "  False,\n",
              "  False,\n",
              "  True,\n",
              "  False,\n",
              "  None,\n",
              "  False,\n",
              "  False),\n",
              " (7,\n",
              "  37,\n",
              "  0,\n",
              "  0,\n",
              "  'a',\n",
              "  '',\n",
              "  'a',\n",
              "  'DET',\n",
              "  'DT',\n",
              "  'det',\n",
              "  'x',\n",
              "  True,\n",
              "  True,\n",
              "  False,\n",
              "  False,\n",
              "  True,\n",
              "  False,\n",
              "  None,\n",
              "  False,\n",
              "  False),\n",
              " (8,\n",
              "  39,\n",
              "  0,\n",
              "  0,\n",
              "  'reference',\n",
              "  '',\n",
              "  'reference',\n",
              "  'NOUN',\n",
              "  'NN',\n",
              "  'compound',\n",
              "  'xxxx',\n",
              "  True,\n",
              "  False,\n",
              "  False,\n",
              "  False,\n",
              "  True,\n",
              "  False,\n",
              "  None,\n",
              "  False,\n",
              "  False),\n",
              " (9,\n",
              "  49,\n",
              "  2,\n",
              "  3,\n",
              "  'number',\n",
              "  '',\n",
              "  'number',\n",
              "  'NOUN',\n",
              "  'NN',\n",
              "  'pobj',\n",
              "  'xxxx',\n",
              "  True,\n",
              "  False,\n",
              "  False,\n",
              "  False,\n",
              "  True,\n",
              "  False,\n",
              "  None,\n",
              "  False,\n",
              "  False),\n",
              " (10,\n",
              "  56,\n",
              "  0,\n",
              "  0,\n",
              "  'MTE-1245/4456',\n",
              "  'CARDINAL',\n",
              "  'mte-1245/4456',\n",
              "  'NOUN',\n",
              "  'NN',\n",
              "  'nummod',\n",
              "  'XXX-dddd/dddd',\n",
              "  False,\n",
              "  False,\n",
              "  False,\n",
              "  False,\n",
              "  False,\n",
              "  True,\n",
              "  None,\n",
              "  False,\n",
              "  False),\n",
              " (11,\n",
              "  70,\n",
              "  0,\n",
              "  0,\n",
              "  'and',\n",
              "  '',\n",
              "  'and',\n",
              "  'CCONJ',\n",
              "  'CC',\n",
              "  'cc',\n",
              "  'xxx',\n",
              "  True,\n",
              "  True,\n",
              "  False,\n",
              "  False,\n",
              "  True,\n",
              "  False,\n",
              "  None,\n",
              "  False,\n",
              "  False),\n",
              " (12,\n",
              "  74,\n",
              "  0,\n",
              "  0,\n",
              "  'a',\n",
              "  '',\n",
              "  'a',\n",
              "  'DET',\n",
              "  'DT',\n",
              "  'det',\n",
              "  'x',\n",
              "  True,\n",
              "  True,\n",
              "  False,\n",
              "  False,\n",
              "  True,\n",
              "  False,\n",
              "  None,\n",
              "  False,\n",
              "  False),\n",
              " (13,\n",
              "  76,\n",
              "  1,\n",
              "  1,\n",
              "  'STARTUP',\n",
              "  'ORG',\n",
              "  'startup',\n",
              "  'NOUN',\n",
              "  'NN',\n",
              "  'conj',\n",
              "  'XXXX',\n",
              "  True,\n",
              "  False,\n",
              "  False,\n",
              "  False,\n",
              "  False,\n",
              "  True,\n",
              "  None,\n",
              "  False,\n",
              "  False),\n",
              " (14,\n",
              "  84,\n",
              "  0,\n",
              "  1,\n",
              "  'for',\n",
              "  '',\n",
              "  'for',\n",
              "  'ADP',\n",
              "  'IN',\n",
              "  'prep',\n",
              "  'xxx',\n",
              "  True,\n",
              "  True,\n",
              "  False,\n",
              "  False,\n",
              "  True,\n",
              "  False,\n",
              "  None,\n",
              "  False,\n",
              "  False),\n",
              " (15,\n",
              "  88,\n",
              "  0,\n",
              "  0,\n",
              "  '$',\n",
              "  'MONEY',\n",
              "  '$',\n",
              "  'SYM',\n",
              "  '$',\n",
              "  'quantmod',\n",
              "  '$',\n",
              "  False,\n",
              "  False,\n",
              "  False,\n",
              "  False,\n",
              "  False,\n",
              "  False,\n",
              "  None,\n",
              "  True,\n",
              "  False),\n",
              " (16,\n",
              "  89,\n",
              "  0,\n",
              "  0,\n",
              "  '1',\n",
              "  'MONEY',\n",
              "  '1',\n",
              "  'NUM',\n",
              "  'CD',\n",
              "  'compound',\n",
              "  'd',\n",
              "  False,\n",
              "  False,\n",
              "  False,\n",
              "  False,\n",
              "  False,\n",
              "  False,\n",
              "  None,\n",
              "  False,\n",
              "  True),\n",
              " (17,\n",
              "  91,\n",
              "  2,\n",
              "  2,\n",
              "  'billion',\n",
              "  'MONEY',\n",
              "  'billion',\n",
              "  'NUM',\n",
              "  'CD',\n",
              "  'pobj',\n",
              "  'xxxx',\n",
              "  True,\n",
              "  False,\n",
              "  False,\n",
              "  False,\n",
              "  True,\n",
              "  False,\n",
              "  None,\n",
              "  False,\n",
              "  False),\n",
              " (18,\n",
              "  99,\n",
              "  0,\n",
              "  0,\n",
              "  'or',\n",
              "  '',\n",
              "  'or',\n",
              "  'CCONJ',\n",
              "  'CC',\n",
              "  'cc',\n",
              "  'xx',\n",
              "  True,\n",
              "  True,\n",
              "  False,\n",
              "  False,\n",
              "  True,\n",
              "  False,\n",
              "  None,\n",
              "  False,\n",
              "  False),\n",
              " (19,\n",
              "  102,\n",
              "  0,\n",
              "  0,\n",
              "  '(',\n",
              "  '',\n",
              "  '(',\n",
              "  'PUNCT',\n",
              "  '-LRB-',\n",
              "  'punct',\n",
              "  '(',\n",
              "  False,\n",
              "  False,\n",
              "  True,\n",
              "  False,\n",
              "  False,\n",
              "  False,\n",
              "  None,\n",
              "  False,\n",
              "  False),\n",
              " (20,\n",
              "  103,\n",
              "  1,\n",
              "  0,\n",
              "  '89',\n",
              "  '',\n",
              "  '89',\n",
              "  'NUM',\n",
              "  'CD',\n",
              "  'conj',\n",
              "  'dd',\n",
              "  False,\n",
              "  False,\n",
              "  False,\n",
              "  False,\n",
              "  False,\n",
              "  False,\n",
              "  None,\n",
              "  False,\n",
              "  True),\n",
              " (21,\n",
              "  105,\n",
              "  0,\n",
              "  0,\n",
              "  ')',\n",
              "  '',\n",
              "  ')',\n",
              "  'PUNCT',\n",
              "  '-RRB-',\n",
              "  'punct',\n",
              "  ')',\n",
              "  False,\n",
              "  False,\n",
              "  True,\n",
              "  False,\n",
              "  False,\n",
              "  False,\n",
              "  None,\n",
              "  False,\n",
              "  False)]"
            ]
          },
          "metadata": {
            "tags": []
          },
          "execution_count": 2
        }
      ]
    },
    {
      "cell_type": "markdown",
      "metadata": {
        "id": "o4xnmHFijmu7",
        "colab_type": "text"
      },
      "source": [
        "Sentencizer"
      ]
    },
    {
      "cell_type": "code",
      "metadata": {
        "id": "UKCtqQ6vjqyO",
        "colab_type": "code",
        "colab": {}
      },
      "source": [
        "import spacy\n",
        "nlp = spacy.load('en')\n",
        "\n",
        "from spacy.lang.en import English\n",
        "\n",
        "nlp = English()\n",
        "sentencizer = nlp.create_pipe(\"sentencizer\")\n",
        "nlp.add_pipe(sentencizer)\n",
        "doc = nlp(\"This is a sentence. This is another sentence.\")\n",
        "assert len(list(doc.sents)) == 2"
      ],
      "execution_count": 0,
      "outputs": []
    },
    {
      "cell_type": "code",
      "metadata": {
        "id": "CF9Vz85ps5FA",
        "colab_type": "code",
        "outputId": "bbccdd49-4901-44a1-ff9b-db24c8759bd8",
        "colab": {
          "base_uri": "https://localhost:8080/",
          "height": 85
        }
      },
      "source": [
        "import spacy\n",
        "nlp = spacy.load('en')\n",
        "doc = nlp(u'Hello     World!')\n",
        "for token in doc:\n",
        "    print('\"' + token.text + '\"')\n"
      ],
      "execution_count": 0,
      "outputs": [
        {
          "output_type": "stream",
          "text": [
            "\"Hello\"\n",
            "\"    \"\n",
            "\"World\"\n",
            "\"!\"\n"
          ],
          "name": "stdout"
        }
      ]
    },
    {
      "cell_type": "code",
      "metadata": {
        "id": "WJjviBURUQKI",
        "colab_type": "code",
        "outputId": "e52838f0-323d-4ed0-80c3-5dbc667c2fb0",
        "colab": {
          "base_uri": "https://localhost:8080/",
          "height": 34
        }
      },
      "source": [
        ">>> import spacy\n",
        ">>> nlp = spacy.load('en')\n",
        ">>> parsed_sentence = nlp(u'This is my sentence')\n",
        ">>> [(token.i,token.text, token.lemma_, token.pos_, token.tag_, token.dep_,\n",
        "            token.shape_, token.is_alpha, token.is_stop) for token in parsed_doc]\n"
      ],
      "execution_count": 0,
      "outputs": [
        {
          "output_type": "execute_result",
          "data": {
            "text/plain": [
              "[('This', 0), ('is', 1), ('my', 2), ('sentence', 3)]"
            ]
          },
          "metadata": {
            "tags": []
          },
          "execution_count": 9
        }
      ]
    },
    {
      "cell_type": "code",
      "metadata": {
        "id": "unrCeQSYvATg",
        "colab_type": "code",
        "outputId": "b8a9c856-68fc-4627-cdb0-e7c7ea712bdd",
        "colab": {
          "base_uri": "https://localhost:8080/",
          "height": 85
        }
      },
      "source": [
        "import spacy\n",
        "nlp = spacy.load('en')\n",
        "doc = nlp(u'Hello     World!')\n",
        "for token in doc:\n",
        "    print('\"' + token.text + '\"', token.idx)\n",
        " "
      ],
      "execution_count": 0,
      "outputs": [
        {
          "output_type": "stream",
          "text": [
            "\"Hello\" 0\n",
            "\"    \" 6\n",
            "\"World\" 10\n",
            "\"!\" 15\n"
          ],
          "name": "stdout"
        }
      ]
    },
    {
      "cell_type": "code",
      "metadata": {
        "id": "WT5G3qDJvmv1",
        "colab_type": "code",
        "outputId": "118b45ee-f1e1-45c2-eed8-2cf62a4be5e0",
        "colab": {
          "base_uri": "https://localhost:8080/",
          "height": 170
        }
      },
      "source": [
        "# Token class exposes a lot of word-level attributes\n",
        "\n",
        "doc = nlp(u\"Next week I'll   be in Madrid.\")\n",
        "for token in doc:\n",
        "    print(\"{0}\\t{1}\\t{2}\\t{3}\\t{4}\\t{5}\\t{6}\\t{7}\".format(\n",
        "        token.text,\n",
        "        token.idx,\n",
        "        token.lemma_,\n",
        "        token.is_punct,\n",
        "        token.is_space,\n",
        "        token.shape_,\n",
        "        token.pos_,\n",
        "        token.tag_\n",
        "    ))\n",
        " \n"
      ],
      "execution_count": 0,
      "outputs": [
        {
          "output_type": "stream",
          "text": [
            "Next\t0\tnext\tFalse\tFalse\tXxxx\tADJ\tJJ\n",
            "week\t5\tweek\tFalse\tFalse\txxxx\tNOUN\tNN\n",
            "I\t10\t-PRON-\tFalse\tFalse\tX\tPRON\tPRP\n",
            "'ll\t11\twill\tFalse\tFalse\t'xx\tVERB\tMD\n",
            "  \t15\t  \tFalse\tTrue\t  \tSPACE\t_SP\n",
            "be\t17\tbe\tFalse\tFalse\txx\tAUX\tVB\n",
            "in\t20\tin\tFalse\tFalse\txx\tADP\tIN\n",
            "Madrid\t23\tMadrid\tFalse\tFalse\tXxxxx\tPROPN\tNNP\n",
            ".\t29\t.\tTrue\tFalse\t.\tPUNCT\t.\n"
          ],
          "name": "stdout"
        }
      ]
    },
    {
      "cell_type": "code",
      "metadata": {
        "id": "heZQU1fEvnUL",
        "colab_type": "code",
        "outputId": "d989376e-88e5-4b6d-b6b6-6d54a87ef3ce",
        "colab": {
          "base_uri": "https://localhost:8080/",
          "height": 88
        }
      },
      "source": [
        "# Sentence Detection\n",
        "\n",
        "doc = nlp(u\"2. DUE DILIGENCE 2.1 The Supplier acknowledges that, subject to the Allowable Assumptions: 2.1.1 Network Rail has delivered or made available to the Supplier all of the information and documents that the Supplier considers necessary or relevant for the performance of its obligations under this Agreement;2.1.2 it has made its own enquiries to satisfy itself as to the accuracy and adequacy of the Due Diligence Information; 2.1.3 it has satisfied itself (whether by inspection or having raised all relevant due diligence questions with Network Rail before the Effective Date) of all relevant details relating to:\")\n",
        " \n",
        "for sent in doc.sents:\n",
        "    print(sent)\n",
        " \n"
      ],
      "execution_count": 0,
      "outputs": [
        {
          "output_type": "stream",
          "text": [
            "2.\n",
            "DUE DILIGENCE 2.1\n",
            "The Supplier acknowledges that, subject to the Allowable Assumptions: 2.1.1 Network Rail has delivered or made available to the Supplier all of the information and documents that the Supplier considers necessary or relevant for the performance of its obligations under this Agreement;2.1.2 it has made its own enquiries to satisfy itself as to the accuracy and adequacy of the Due Diligence Information; 2.1.3 it has satisfied itself (whether by inspection or having raised all relevant due diligence questions with Network Rail before the Effective Date) of all relevant details relating to:\n"
          ],
          "name": "stdout"
        }
      ]
    },
    {
      "cell_type": "code",
      "metadata": {
        "id": "n-jw7OScvsDD",
        "colab_type": "code",
        "outputId": "85f4b5a9-e832-4177-ff33-b2f07d7bafa7",
        "colab": {
          "base_uri": "https://localhost:8080/",
          "height": 34
        }
      },
      "source": [
        "# POS Tagging\n",
        "\n",
        "doc = nlp(u\"Next week I'll be in Madrid.\")\n",
        "print([(token.text, token.tag_) for token in doc])\n",
        " \n"
      ],
      "execution_count": 0,
      "outputs": [
        {
          "output_type": "stream",
          "text": [
            "[('Next', 'JJ'), ('week', 'NN'), ('I', 'PRP'), (\"'ll\", 'MD'), ('be', 'VB'), ('in', 'IN'), ('Madrid', 'NNP'), ('.', '.')]\n"
          ],
          "name": "stdout"
        }
      ]
    },
    {
      "cell_type": "code",
      "metadata": {
        "id": "qV23hKfpvsBE",
        "colab_type": "code",
        "outputId": "ffafa529-746e-4a09-ca36-c70f3ea5ef98",
        "colab": {
          "base_uri": "https://localhost:8080/",
          "height": 34
        }
      },
      "source": [
        "# NER Named Entity Recognition\n",
        "\n",
        "doc = nlp(u\"Network Rail has delivered or made available to the Supplier all of the information and documents that the Supplier considers necessary or relevant for the performance of its obligations under this Agreement\")\n",
        "for ent in doc.ents:\n",
        "    print(ent.text, ent.label_)\n"
      ],
      "execution_count": 0,
      "outputs": [
        {
          "output_type": "stream",
          "text": [
            "Network Rail ORG\n"
          ],
          "name": "stdout"
        }
      ]
    },
    {
      "cell_type": "code",
      "metadata": {
        "id": "1jMvAiWtvr-8",
        "colab_type": "code",
        "outputId": "e2ba0e32-d41e-4f1f-a1ea-3fba58ef77e7",
        "colab": {
          "base_uri": "https://localhost:8080/",
          "height": 102
        }
      },
      "source": [
        "# Spacy Entity Types\n",
        "\n",
        "doc = nlp(u\"I just bought 2 shares at 9 a.m. because the stock went up 30% in just 2 days according to the WSJ\")\n",
        "for ent in doc.ents:\n",
        "    print(ent.text, ent.label_)\n"
      ],
      "execution_count": 0,
      "outputs": [
        {
          "output_type": "stream",
          "text": [
            "2 CARDINAL\n",
            "9 a.m. TIME\n",
            "30% PERCENT\n",
            "just 2 days DATE\n",
            "WSJ ORG\n"
          ],
          "name": "stdout"
        }
      ]
    },
    {
      "cell_type": "code",
      "metadata": {
        "id": "b5TG0AV7vr7c",
        "colab_type": "code",
        "outputId": "2e1283bf-6be4-4fc4-8e36-44e1397de7c2",
        "colab": {
          "base_uri": "https://localhost:8080/",
          "height": 52
        }
      },
      "source": [
        "# displaCy\n",
        "\n",
        "from spacy import displacy\n",
        " \n",
        "doc = nlp(u'I just bought 2 shares at 9 a.m. because the stock went up 30% in just 2 days according to the WSJ')\n",
        "displacy.render(doc, style='ent', jupyter=True)"
      ],
      "execution_count": 0,
      "outputs": [
        {
          "output_type": "display_data",
          "data": {
            "text/html": [
              "<span class=\"tex2jax_ignore\"><div class=\"entities\" style=\"line-height: 2.5; direction: ltr\">I just bought \n",
              "<mark class=\"entity\" style=\"background: #e4e7d2; padding: 0.45em 0.6em; margin: 0 0.25em; line-height: 1; border-radius: 0.35em;\">\n",
              "    2\n",
              "    <span style=\"font-size: 0.8em; font-weight: bold; line-height: 1; border-radius: 0.35em; text-transform: uppercase; vertical-align: middle; margin-left: 0.5rem\">CARDINAL</span>\n",
              "</mark>\n",
              " shares at \n",
              "<mark class=\"entity\" style=\"background: #bfe1d9; padding: 0.45em 0.6em; margin: 0 0.25em; line-height: 1; border-radius: 0.35em;\">\n",
              "    9 a.m.\n",
              "    <span style=\"font-size: 0.8em; font-weight: bold; line-height: 1; border-radius: 0.35em; text-transform: uppercase; vertical-align: middle; margin-left: 0.5rem\">TIME</span>\n",
              "</mark>\n",
              " because the stock went up \n",
              "<mark class=\"entity\" style=\"background: #e4e7d2; padding: 0.45em 0.6em; margin: 0 0.25em; line-height: 1; border-radius: 0.35em;\">\n",
              "    30%\n",
              "    <span style=\"font-size: 0.8em; font-weight: bold; line-height: 1; border-radius: 0.35em; text-transform: uppercase; vertical-align: middle; margin-left: 0.5rem\">PERCENT</span>\n",
              "</mark>\n",
              " in \n",
              "<mark class=\"entity\" style=\"background: #bfe1d9; padding: 0.45em 0.6em; margin: 0 0.25em; line-height: 1; border-radius: 0.35em;\">\n",
              "    just 2 days\n",
              "    <span style=\"font-size: 0.8em; font-weight: bold; line-height: 1; border-radius: 0.35em; text-transform: uppercase; vertical-align: middle; margin-left: 0.5rem\">DATE</span>\n",
              "</mark>\n",
              " according to the \n",
              "<mark class=\"entity\" style=\"background: #7aecec; padding: 0.45em 0.6em; margin: 0 0.25em; line-height: 1; border-radius: 0.35em;\">\n",
              "    WSJ\n",
              "    <span style=\"font-size: 0.8em; font-weight: bold; line-height: 1; border-radius: 0.35em; text-transform: uppercase; vertical-align: middle; margin-left: 0.5rem\">ORG</span>\n",
              "</mark>\n",
              "</div></span>"
            ],
            "text/plain": [
              "<IPython.core.display.HTML object>"
            ]
          },
          "metadata": {
            "tags": []
          }
        }
      ]
    },
    {
      "cell_type": "code",
      "metadata": {
        "id": "JrN2aHz2vr4P",
        "colab_type": "code",
        "outputId": "f348e123-8fd5-4ee9-f6c2-4cb73f82e21a",
        "colab": {
          "base_uri": "https://localhost:8080/",
          "height": 68
        }
      },
      "source": [
        "# Chunking\n",
        "\n",
        "doc = nlp(u\"Wall Street Journal just published an interesting piece on crypto currencies\")\n",
        "for chunk in doc.noun_chunks:\n",
        "    print(chunk.text, chunk.label_, chunk.root.text)\n",
        " "
      ],
      "execution_count": 0,
      "outputs": [
        {
          "output_type": "stream",
          "text": [
            "Wall Street Journal NP Journal\n",
            "an interesting piece NP piece\n",
            "crypto currencies NP currencies\n"
          ],
          "name": "stdout"
        }
      ]
    },
    {
      "cell_type": "code",
      "metadata": {
        "id": "6DW-AFGiwm2L",
        "colab_type": "code",
        "outputId": "9f06a637-50e5-42d3-c643-c75c980ca360",
        "colab": {
          "base_uri": "https://localhost:8080/",
          "height": 425
        }
      },
      "source": [
        "# Dependency Parsing\n",
        "\n",
        "doc = nlp(u'spaCy currently provides support for the following languages. You can help by improving the existing language data and extending the tokenization patterns. ')\n",
        " \n",
        "for token in doc:\n",
        "    print(\"{0}/{1} <--{2}-- {3}/{4}\".format(\n",
        "        token.text, token.tag_, token.dep_, token.head.text, token.head.tag_))"
      ],
      "execution_count": 0,
      "outputs": [
        {
          "output_type": "stream",
          "text": [
            "spaCy/NNP <--nsubj-- provides/VBZ\n",
            "currently/RB <--advmod-- provides/VBZ\n",
            "provides/VBZ <--ROOT-- provides/VBZ\n",
            "support/NN <--dobj-- provides/VBZ\n",
            "for/IN <--prep-- support/NN\n",
            "the/DT <--det-- languages/NNS\n",
            "following/VBG <--amod-- languages/NNS\n",
            "languages/NNS <--pobj-- for/IN\n",
            "./. <--punct-- provides/VBZ\n",
            "You/PRP <--nsubj-- help/VB\n",
            "can/MD <--aux-- help/VB\n",
            "help/VB <--ROOT-- help/VB\n",
            "by/IN <--prep-- help/VB\n",
            "improving/VBG <--pcomp-- by/IN\n",
            "the/DT <--det-- data/NNS\n",
            "existing/VBG <--amod-- data/NNS\n",
            "language/NN <--compound-- data/NNS\n",
            "data/NNS <--dobj-- improving/VBG\n",
            "and/CC <--cc-- improving/VBG\n",
            "extending/VBG <--conj-- improving/VBG\n",
            "the/DT <--det-- patterns/NNS\n",
            "tokenization/NN <--compound-- patterns/NNS\n",
            "patterns/NNS <--dobj-- extending/VBG\n",
            "./. <--punct-- help/VB\n"
          ],
          "name": "stdout"
        }
      ]
    },
    {
      "cell_type": "code",
      "metadata": {
        "id": "HNnF0IUKwqmR",
        "colab_type": "code",
        "outputId": "607aa142-8448-4190-a995-18e1082dd60f",
        "colab": {
          "base_uri": "https://localhost:8080/",
          "height": 448
        }
      },
      "source": [
        "# Visualizing Dependency Parsing\n",
        "\n",
        "from spacy import displacy\n",
        " \n",
        "doc = nlp(u'spaCy currently provides support for the following languages. You can help by improving the existing language data and extending the tokenization patterns. ')\n",
        "displacy.render(doc, style='dep', jupyter=True, options={'distance': 90})"
      ],
      "execution_count": 0,
      "outputs": [
        {
          "output_type": "display_data",
          "data": {
            "text/html": [
              "<span class=\"tex2jax_ignore\"><svg xmlns=\"http://www.w3.org/2000/svg\" xmlns:xlink=\"http://www.w3.org/1999/xlink\" xml:lang=\"en\" id=\"06c2ad64b77c45fa89b60f65c9a2cd60-0\" class=\"displacy\" width=\"2030\" height=\"407.0\" direction=\"ltr\" style=\"max-width: none; height: 407.0px; color: #000000; background: #ffffff; font-family: Arial; direction: ltr\">\n",
              "<text class=\"displacy-token\" fill=\"currentColor\" text-anchor=\"middle\" y=\"317.0\">\n",
              "    <tspan class=\"displacy-word\" fill=\"currentColor\" x=\"50\">spaCy</tspan>\n",
              "    <tspan class=\"displacy-tag\" dy=\"2em\" fill=\"currentColor\" x=\"50\">PROPN</tspan>\n",
              "</text>\n",
              "\n",
              "<text class=\"displacy-token\" fill=\"currentColor\" text-anchor=\"middle\" y=\"317.0\">\n",
              "    <tspan class=\"displacy-word\" fill=\"currentColor\" x=\"140\">currently</tspan>\n",
              "    <tspan class=\"displacy-tag\" dy=\"2em\" fill=\"currentColor\" x=\"140\">ADV</tspan>\n",
              "</text>\n",
              "\n",
              "<text class=\"displacy-token\" fill=\"currentColor\" text-anchor=\"middle\" y=\"317.0\">\n",
              "    <tspan class=\"displacy-word\" fill=\"currentColor\" x=\"230\">provides</tspan>\n",
              "    <tspan class=\"displacy-tag\" dy=\"2em\" fill=\"currentColor\" x=\"230\">VERB</tspan>\n",
              "</text>\n",
              "\n",
              "<text class=\"displacy-token\" fill=\"currentColor\" text-anchor=\"middle\" y=\"317.0\">\n",
              "    <tspan class=\"displacy-word\" fill=\"currentColor\" x=\"320\">support</tspan>\n",
              "    <tspan class=\"displacy-tag\" dy=\"2em\" fill=\"currentColor\" x=\"320\">NOUN</tspan>\n",
              "</text>\n",
              "\n",
              "<text class=\"displacy-token\" fill=\"currentColor\" text-anchor=\"middle\" y=\"317.0\">\n",
              "    <tspan class=\"displacy-word\" fill=\"currentColor\" x=\"410\">for</tspan>\n",
              "    <tspan class=\"displacy-tag\" dy=\"2em\" fill=\"currentColor\" x=\"410\">ADP</tspan>\n",
              "</text>\n",
              "\n",
              "<text class=\"displacy-token\" fill=\"currentColor\" text-anchor=\"middle\" y=\"317.0\">\n",
              "    <tspan class=\"displacy-word\" fill=\"currentColor\" x=\"500\">the</tspan>\n",
              "    <tspan class=\"displacy-tag\" dy=\"2em\" fill=\"currentColor\" x=\"500\">DET</tspan>\n",
              "</text>\n",
              "\n",
              "<text class=\"displacy-token\" fill=\"currentColor\" text-anchor=\"middle\" y=\"317.0\">\n",
              "    <tspan class=\"displacy-word\" fill=\"currentColor\" x=\"590\">following</tspan>\n",
              "    <tspan class=\"displacy-tag\" dy=\"2em\" fill=\"currentColor\" x=\"590\">VERB</tspan>\n",
              "</text>\n",
              "\n",
              "<text class=\"displacy-token\" fill=\"currentColor\" text-anchor=\"middle\" y=\"317.0\">\n",
              "    <tspan class=\"displacy-word\" fill=\"currentColor\" x=\"680\">languages.</tspan>\n",
              "    <tspan class=\"displacy-tag\" dy=\"2em\" fill=\"currentColor\" x=\"680\">NOUN</tspan>\n",
              "</text>\n",
              "\n",
              "<text class=\"displacy-token\" fill=\"currentColor\" text-anchor=\"middle\" y=\"317.0\">\n",
              "    <tspan class=\"displacy-word\" fill=\"currentColor\" x=\"770\">You</tspan>\n",
              "    <tspan class=\"displacy-tag\" dy=\"2em\" fill=\"currentColor\" x=\"770\">PRON</tspan>\n",
              "</text>\n",
              "\n",
              "<text class=\"displacy-token\" fill=\"currentColor\" text-anchor=\"middle\" y=\"317.0\">\n",
              "    <tspan class=\"displacy-word\" fill=\"currentColor\" x=\"860\">can</tspan>\n",
              "    <tspan class=\"displacy-tag\" dy=\"2em\" fill=\"currentColor\" x=\"860\">VERB</tspan>\n",
              "</text>\n",
              "\n",
              "<text class=\"displacy-token\" fill=\"currentColor\" text-anchor=\"middle\" y=\"317.0\">\n",
              "    <tspan class=\"displacy-word\" fill=\"currentColor\" x=\"950\">help</tspan>\n",
              "    <tspan class=\"displacy-tag\" dy=\"2em\" fill=\"currentColor\" x=\"950\">VERB</tspan>\n",
              "</text>\n",
              "\n",
              "<text class=\"displacy-token\" fill=\"currentColor\" text-anchor=\"middle\" y=\"317.0\">\n",
              "    <tspan class=\"displacy-word\" fill=\"currentColor\" x=\"1040\">by</tspan>\n",
              "    <tspan class=\"displacy-tag\" dy=\"2em\" fill=\"currentColor\" x=\"1040\">ADP</tspan>\n",
              "</text>\n",
              "\n",
              "<text class=\"displacy-token\" fill=\"currentColor\" text-anchor=\"middle\" y=\"317.0\">\n",
              "    <tspan class=\"displacy-word\" fill=\"currentColor\" x=\"1130\">improving</tspan>\n",
              "    <tspan class=\"displacy-tag\" dy=\"2em\" fill=\"currentColor\" x=\"1130\">VERB</tspan>\n",
              "</text>\n",
              "\n",
              "<text class=\"displacy-token\" fill=\"currentColor\" text-anchor=\"middle\" y=\"317.0\">\n",
              "    <tspan class=\"displacy-word\" fill=\"currentColor\" x=\"1220\">the</tspan>\n",
              "    <tspan class=\"displacy-tag\" dy=\"2em\" fill=\"currentColor\" x=\"1220\">DET</tspan>\n",
              "</text>\n",
              "\n",
              "<text class=\"displacy-token\" fill=\"currentColor\" text-anchor=\"middle\" y=\"317.0\">\n",
              "    <tspan class=\"displacy-word\" fill=\"currentColor\" x=\"1310\">existing</tspan>\n",
              "    <tspan class=\"displacy-tag\" dy=\"2em\" fill=\"currentColor\" x=\"1310\">VERB</tspan>\n",
              "</text>\n",
              "\n",
              "<text class=\"displacy-token\" fill=\"currentColor\" text-anchor=\"middle\" y=\"317.0\">\n",
              "    <tspan class=\"displacy-word\" fill=\"currentColor\" x=\"1400\">language</tspan>\n",
              "    <tspan class=\"displacy-tag\" dy=\"2em\" fill=\"currentColor\" x=\"1400\">NOUN</tspan>\n",
              "</text>\n",
              "\n",
              "<text class=\"displacy-token\" fill=\"currentColor\" text-anchor=\"middle\" y=\"317.0\">\n",
              "    <tspan class=\"displacy-word\" fill=\"currentColor\" x=\"1490\">data</tspan>\n",
              "    <tspan class=\"displacy-tag\" dy=\"2em\" fill=\"currentColor\" x=\"1490\">NOUN</tspan>\n",
              "</text>\n",
              "\n",
              "<text class=\"displacy-token\" fill=\"currentColor\" text-anchor=\"middle\" y=\"317.0\">\n",
              "    <tspan class=\"displacy-word\" fill=\"currentColor\" x=\"1580\">and</tspan>\n",
              "    <tspan class=\"displacy-tag\" dy=\"2em\" fill=\"currentColor\" x=\"1580\">CCONJ</tspan>\n",
              "</text>\n",
              "\n",
              "<text class=\"displacy-token\" fill=\"currentColor\" text-anchor=\"middle\" y=\"317.0\">\n",
              "    <tspan class=\"displacy-word\" fill=\"currentColor\" x=\"1670\">extending</tspan>\n",
              "    <tspan class=\"displacy-tag\" dy=\"2em\" fill=\"currentColor\" x=\"1670\">VERB</tspan>\n",
              "</text>\n",
              "\n",
              "<text class=\"displacy-token\" fill=\"currentColor\" text-anchor=\"middle\" y=\"317.0\">\n",
              "    <tspan class=\"displacy-word\" fill=\"currentColor\" x=\"1760\">the</tspan>\n",
              "    <tspan class=\"displacy-tag\" dy=\"2em\" fill=\"currentColor\" x=\"1760\">DET</tspan>\n",
              "</text>\n",
              "\n",
              "<text class=\"displacy-token\" fill=\"currentColor\" text-anchor=\"middle\" y=\"317.0\">\n",
              "    <tspan class=\"displacy-word\" fill=\"currentColor\" x=\"1850\">tokenization</tspan>\n",
              "    <tspan class=\"displacy-tag\" dy=\"2em\" fill=\"currentColor\" x=\"1850\">NOUN</tspan>\n",
              "</text>\n",
              "\n",
              "<text class=\"displacy-token\" fill=\"currentColor\" text-anchor=\"middle\" y=\"317.0\">\n",
              "    <tspan class=\"displacy-word\" fill=\"currentColor\" x=\"1940\">patterns.</tspan>\n",
              "    <tspan class=\"displacy-tag\" dy=\"2em\" fill=\"currentColor\" x=\"1940\">NOUN</tspan>\n",
              "</text>\n",
              "\n",
              "<g class=\"displacy-arrow\">\n",
              "    <path class=\"displacy-arc\" id=\"arrow-06c2ad64b77c45fa89b60f65c9a2cd60-0-0\" stroke-width=\"2px\" d=\"M70,272.0 C70,182.0 210.0,182.0 210.0,272.0\" fill=\"none\" stroke=\"currentColor\"/>\n",
              "    <text dy=\"1.25em\" style=\"font-size: 0.8em; letter-spacing: 1px\">\n",
              "        <textPath xlink:href=\"#arrow-06c2ad64b77c45fa89b60f65c9a2cd60-0-0\" class=\"displacy-label\" startOffset=\"50%\" side=\"left\" fill=\"currentColor\" text-anchor=\"middle\">nsubj</textPath>\n",
              "    </text>\n",
              "    <path class=\"displacy-arrowhead\" d=\"M70,274.0 L62,262.0 78,262.0\" fill=\"currentColor\"/>\n",
              "</g>\n",
              "\n",
              "<g class=\"displacy-arrow\">\n",
              "    <path class=\"displacy-arc\" id=\"arrow-06c2ad64b77c45fa89b60f65c9a2cd60-0-1\" stroke-width=\"2px\" d=\"M160,272.0 C160,227.0 205.0,227.0 205.0,272.0\" fill=\"none\" stroke=\"currentColor\"/>\n",
              "    <text dy=\"1.25em\" style=\"font-size: 0.8em; letter-spacing: 1px\">\n",
              "        <textPath xlink:href=\"#arrow-06c2ad64b77c45fa89b60f65c9a2cd60-0-1\" class=\"displacy-label\" startOffset=\"50%\" side=\"left\" fill=\"currentColor\" text-anchor=\"middle\">advmod</textPath>\n",
              "    </text>\n",
              "    <path class=\"displacy-arrowhead\" d=\"M160,274.0 L152,262.0 168,262.0\" fill=\"currentColor\"/>\n",
              "</g>\n",
              "\n",
              "<g class=\"displacy-arrow\">\n",
              "    <path class=\"displacy-arc\" id=\"arrow-06c2ad64b77c45fa89b60f65c9a2cd60-0-2\" stroke-width=\"2px\" d=\"M250,272.0 C250,227.0 295.0,227.0 295.0,272.0\" fill=\"none\" stroke=\"currentColor\"/>\n",
              "    <text dy=\"1.25em\" style=\"font-size: 0.8em; letter-spacing: 1px\">\n",
              "        <textPath xlink:href=\"#arrow-06c2ad64b77c45fa89b60f65c9a2cd60-0-2\" class=\"displacy-label\" startOffset=\"50%\" side=\"left\" fill=\"currentColor\" text-anchor=\"middle\">dobj</textPath>\n",
              "    </text>\n",
              "    <path class=\"displacy-arrowhead\" d=\"M295.0,274.0 L303.0,262.0 287.0,262.0\" fill=\"currentColor\"/>\n",
              "</g>\n",
              "\n",
              "<g class=\"displacy-arrow\">\n",
              "    <path class=\"displacy-arc\" id=\"arrow-06c2ad64b77c45fa89b60f65c9a2cd60-0-3\" stroke-width=\"2px\" d=\"M340,272.0 C340,227.0 385.0,227.0 385.0,272.0\" fill=\"none\" stroke=\"currentColor\"/>\n",
              "    <text dy=\"1.25em\" style=\"font-size: 0.8em; letter-spacing: 1px\">\n",
              "        <textPath xlink:href=\"#arrow-06c2ad64b77c45fa89b60f65c9a2cd60-0-3\" class=\"displacy-label\" startOffset=\"50%\" side=\"left\" fill=\"currentColor\" text-anchor=\"middle\">prep</textPath>\n",
              "    </text>\n",
              "    <path class=\"displacy-arrowhead\" d=\"M385.0,274.0 L393.0,262.0 377.0,262.0\" fill=\"currentColor\"/>\n",
              "</g>\n",
              "\n",
              "<g class=\"displacy-arrow\">\n",
              "    <path class=\"displacy-arc\" id=\"arrow-06c2ad64b77c45fa89b60f65c9a2cd60-0-4\" stroke-width=\"2px\" d=\"M520,272.0 C520,182.0 660.0,182.0 660.0,272.0\" fill=\"none\" stroke=\"currentColor\"/>\n",
              "    <text dy=\"1.25em\" style=\"font-size: 0.8em; letter-spacing: 1px\">\n",
              "        <textPath xlink:href=\"#arrow-06c2ad64b77c45fa89b60f65c9a2cd60-0-4\" class=\"displacy-label\" startOffset=\"50%\" side=\"left\" fill=\"currentColor\" text-anchor=\"middle\">det</textPath>\n",
              "    </text>\n",
              "    <path class=\"displacy-arrowhead\" d=\"M520,274.0 L512,262.0 528,262.0\" fill=\"currentColor\"/>\n",
              "</g>\n",
              "\n",
              "<g class=\"displacy-arrow\">\n",
              "    <path class=\"displacy-arc\" id=\"arrow-06c2ad64b77c45fa89b60f65c9a2cd60-0-5\" stroke-width=\"2px\" d=\"M610,272.0 C610,227.0 655.0,227.0 655.0,272.0\" fill=\"none\" stroke=\"currentColor\"/>\n",
              "    <text dy=\"1.25em\" style=\"font-size: 0.8em; letter-spacing: 1px\">\n",
              "        <textPath xlink:href=\"#arrow-06c2ad64b77c45fa89b60f65c9a2cd60-0-5\" class=\"displacy-label\" startOffset=\"50%\" side=\"left\" fill=\"currentColor\" text-anchor=\"middle\">amod</textPath>\n",
              "    </text>\n",
              "    <path class=\"displacy-arrowhead\" d=\"M610,274.0 L602,262.0 618,262.0\" fill=\"currentColor\"/>\n",
              "</g>\n",
              "\n",
              "<g class=\"displacy-arrow\">\n",
              "    <path class=\"displacy-arc\" id=\"arrow-06c2ad64b77c45fa89b60f65c9a2cd60-0-6\" stroke-width=\"2px\" d=\"M430,272.0 C430,137.0 665.0,137.0 665.0,272.0\" fill=\"none\" stroke=\"currentColor\"/>\n",
              "    <text dy=\"1.25em\" style=\"font-size: 0.8em; letter-spacing: 1px\">\n",
              "        <textPath xlink:href=\"#arrow-06c2ad64b77c45fa89b60f65c9a2cd60-0-6\" class=\"displacy-label\" startOffset=\"50%\" side=\"left\" fill=\"currentColor\" text-anchor=\"middle\">pobj</textPath>\n",
              "    </text>\n",
              "    <path class=\"displacy-arrowhead\" d=\"M665.0,274.0 L673.0,262.0 657.0,262.0\" fill=\"currentColor\"/>\n",
              "</g>\n",
              "\n",
              "<g class=\"displacy-arrow\">\n",
              "    <path class=\"displacy-arc\" id=\"arrow-06c2ad64b77c45fa89b60f65c9a2cd60-0-7\" stroke-width=\"2px\" d=\"M790,272.0 C790,182.0 930.0,182.0 930.0,272.0\" fill=\"none\" stroke=\"currentColor\"/>\n",
              "    <text dy=\"1.25em\" style=\"font-size: 0.8em; letter-spacing: 1px\">\n",
              "        <textPath xlink:href=\"#arrow-06c2ad64b77c45fa89b60f65c9a2cd60-0-7\" class=\"displacy-label\" startOffset=\"50%\" side=\"left\" fill=\"currentColor\" text-anchor=\"middle\">nsubj</textPath>\n",
              "    </text>\n",
              "    <path class=\"displacy-arrowhead\" d=\"M790,274.0 L782,262.0 798,262.0\" fill=\"currentColor\"/>\n",
              "</g>\n",
              "\n",
              "<g class=\"displacy-arrow\">\n",
              "    <path class=\"displacy-arc\" id=\"arrow-06c2ad64b77c45fa89b60f65c9a2cd60-0-8\" stroke-width=\"2px\" d=\"M880,272.0 C880,227.0 925.0,227.0 925.0,272.0\" fill=\"none\" stroke=\"currentColor\"/>\n",
              "    <text dy=\"1.25em\" style=\"font-size: 0.8em; letter-spacing: 1px\">\n",
              "        <textPath xlink:href=\"#arrow-06c2ad64b77c45fa89b60f65c9a2cd60-0-8\" class=\"displacy-label\" startOffset=\"50%\" side=\"left\" fill=\"currentColor\" text-anchor=\"middle\">aux</textPath>\n",
              "    </text>\n",
              "    <path class=\"displacy-arrowhead\" d=\"M880,274.0 L872,262.0 888,262.0\" fill=\"currentColor\"/>\n",
              "</g>\n",
              "\n",
              "<g class=\"displacy-arrow\">\n",
              "    <path class=\"displacy-arc\" id=\"arrow-06c2ad64b77c45fa89b60f65c9a2cd60-0-9\" stroke-width=\"2px\" d=\"M970,272.0 C970,227.0 1015.0,227.0 1015.0,272.0\" fill=\"none\" stroke=\"currentColor\"/>\n",
              "    <text dy=\"1.25em\" style=\"font-size: 0.8em; letter-spacing: 1px\">\n",
              "        <textPath xlink:href=\"#arrow-06c2ad64b77c45fa89b60f65c9a2cd60-0-9\" class=\"displacy-label\" startOffset=\"50%\" side=\"left\" fill=\"currentColor\" text-anchor=\"middle\">prep</textPath>\n",
              "    </text>\n",
              "    <path class=\"displacy-arrowhead\" d=\"M1015.0,274.0 L1023.0,262.0 1007.0,262.0\" fill=\"currentColor\"/>\n",
              "</g>\n",
              "\n",
              "<g class=\"displacy-arrow\">\n",
              "    <path class=\"displacy-arc\" id=\"arrow-06c2ad64b77c45fa89b60f65c9a2cd60-0-10\" stroke-width=\"2px\" d=\"M1060,272.0 C1060,227.0 1105.0,227.0 1105.0,272.0\" fill=\"none\" stroke=\"currentColor\"/>\n",
              "    <text dy=\"1.25em\" style=\"font-size: 0.8em; letter-spacing: 1px\">\n",
              "        <textPath xlink:href=\"#arrow-06c2ad64b77c45fa89b60f65c9a2cd60-0-10\" class=\"displacy-label\" startOffset=\"50%\" side=\"left\" fill=\"currentColor\" text-anchor=\"middle\">pcomp</textPath>\n",
              "    </text>\n",
              "    <path class=\"displacy-arrowhead\" d=\"M1105.0,274.0 L1113.0,262.0 1097.0,262.0\" fill=\"currentColor\"/>\n",
              "</g>\n",
              "\n",
              "<g class=\"displacy-arrow\">\n",
              "    <path class=\"displacy-arc\" id=\"arrow-06c2ad64b77c45fa89b60f65c9a2cd60-0-11\" stroke-width=\"2px\" d=\"M1240,272.0 C1240,137.0 1475.0,137.0 1475.0,272.0\" fill=\"none\" stroke=\"currentColor\"/>\n",
              "    <text dy=\"1.25em\" style=\"font-size: 0.8em; letter-spacing: 1px\">\n",
              "        <textPath xlink:href=\"#arrow-06c2ad64b77c45fa89b60f65c9a2cd60-0-11\" class=\"displacy-label\" startOffset=\"50%\" side=\"left\" fill=\"currentColor\" text-anchor=\"middle\">det</textPath>\n",
              "    </text>\n",
              "    <path class=\"displacy-arrowhead\" d=\"M1240,274.0 L1232,262.0 1248,262.0\" fill=\"currentColor\"/>\n",
              "</g>\n",
              "\n",
              "<g class=\"displacy-arrow\">\n",
              "    <path class=\"displacy-arc\" id=\"arrow-06c2ad64b77c45fa89b60f65c9a2cd60-0-12\" stroke-width=\"2px\" d=\"M1330,272.0 C1330,182.0 1470.0,182.0 1470.0,272.0\" fill=\"none\" stroke=\"currentColor\"/>\n",
              "    <text dy=\"1.25em\" style=\"font-size: 0.8em; letter-spacing: 1px\">\n",
              "        <textPath xlink:href=\"#arrow-06c2ad64b77c45fa89b60f65c9a2cd60-0-12\" class=\"displacy-label\" startOffset=\"50%\" side=\"left\" fill=\"currentColor\" text-anchor=\"middle\">amod</textPath>\n",
              "    </text>\n",
              "    <path class=\"displacy-arrowhead\" d=\"M1330,274.0 L1322,262.0 1338,262.0\" fill=\"currentColor\"/>\n",
              "</g>\n",
              "\n",
              "<g class=\"displacy-arrow\">\n",
              "    <path class=\"displacy-arc\" id=\"arrow-06c2ad64b77c45fa89b60f65c9a2cd60-0-13\" stroke-width=\"2px\" d=\"M1420,272.0 C1420,227.0 1465.0,227.0 1465.0,272.0\" fill=\"none\" stroke=\"currentColor\"/>\n",
              "    <text dy=\"1.25em\" style=\"font-size: 0.8em; letter-spacing: 1px\">\n",
              "        <textPath xlink:href=\"#arrow-06c2ad64b77c45fa89b60f65c9a2cd60-0-13\" class=\"displacy-label\" startOffset=\"50%\" side=\"left\" fill=\"currentColor\" text-anchor=\"middle\">compound</textPath>\n",
              "    </text>\n",
              "    <path class=\"displacy-arrowhead\" d=\"M1420,274.0 L1412,262.0 1428,262.0\" fill=\"currentColor\"/>\n",
              "</g>\n",
              "\n",
              "<g class=\"displacy-arrow\">\n",
              "    <path class=\"displacy-arc\" id=\"arrow-06c2ad64b77c45fa89b60f65c9a2cd60-0-14\" stroke-width=\"2px\" d=\"M1150,272.0 C1150,92.0 1480.0,92.0 1480.0,272.0\" fill=\"none\" stroke=\"currentColor\"/>\n",
              "    <text dy=\"1.25em\" style=\"font-size: 0.8em; letter-spacing: 1px\">\n",
              "        <textPath xlink:href=\"#arrow-06c2ad64b77c45fa89b60f65c9a2cd60-0-14\" class=\"displacy-label\" startOffset=\"50%\" side=\"left\" fill=\"currentColor\" text-anchor=\"middle\">dobj</textPath>\n",
              "    </text>\n",
              "    <path class=\"displacy-arrowhead\" d=\"M1480.0,274.0 L1488.0,262.0 1472.0,262.0\" fill=\"currentColor\"/>\n",
              "</g>\n",
              "\n",
              "<g class=\"displacy-arrow\">\n",
              "    <path class=\"displacy-arc\" id=\"arrow-06c2ad64b77c45fa89b60f65c9a2cd60-0-15\" stroke-width=\"2px\" d=\"M1150,272.0 C1150,47.0 1575.0,47.0 1575.0,272.0\" fill=\"none\" stroke=\"currentColor\"/>\n",
              "    <text dy=\"1.25em\" style=\"font-size: 0.8em; letter-spacing: 1px\">\n",
              "        <textPath xlink:href=\"#arrow-06c2ad64b77c45fa89b60f65c9a2cd60-0-15\" class=\"displacy-label\" startOffset=\"50%\" side=\"left\" fill=\"currentColor\" text-anchor=\"middle\">cc</textPath>\n",
              "    </text>\n",
              "    <path class=\"displacy-arrowhead\" d=\"M1575.0,274.0 L1583.0,262.0 1567.0,262.0\" fill=\"currentColor\"/>\n",
              "</g>\n",
              "\n",
              "<g class=\"displacy-arrow\">\n",
              "    <path class=\"displacy-arc\" id=\"arrow-06c2ad64b77c45fa89b60f65c9a2cd60-0-16\" stroke-width=\"2px\" d=\"M1150,272.0 C1150,2.0 1670.0,2.0 1670.0,272.0\" fill=\"none\" stroke=\"currentColor\"/>\n",
              "    <text dy=\"1.25em\" style=\"font-size: 0.8em; letter-spacing: 1px\">\n",
              "        <textPath xlink:href=\"#arrow-06c2ad64b77c45fa89b60f65c9a2cd60-0-16\" class=\"displacy-label\" startOffset=\"50%\" side=\"left\" fill=\"currentColor\" text-anchor=\"middle\">conj</textPath>\n",
              "    </text>\n",
              "    <path class=\"displacy-arrowhead\" d=\"M1670.0,274.0 L1678.0,262.0 1662.0,262.0\" fill=\"currentColor\"/>\n",
              "</g>\n",
              "\n",
              "<g class=\"displacy-arrow\">\n",
              "    <path class=\"displacy-arc\" id=\"arrow-06c2ad64b77c45fa89b60f65c9a2cd60-0-17\" stroke-width=\"2px\" d=\"M1780,272.0 C1780,182.0 1920.0,182.0 1920.0,272.0\" fill=\"none\" stroke=\"currentColor\"/>\n",
              "    <text dy=\"1.25em\" style=\"font-size: 0.8em; letter-spacing: 1px\">\n",
              "        <textPath xlink:href=\"#arrow-06c2ad64b77c45fa89b60f65c9a2cd60-0-17\" class=\"displacy-label\" startOffset=\"50%\" side=\"left\" fill=\"currentColor\" text-anchor=\"middle\">det</textPath>\n",
              "    </text>\n",
              "    <path class=\"displacy-arrowhead\" d=\"M1780,274.0 L1772,262.0 1788,262.0\" fill=\"currentColor\"/>\n",
              "</g>\n",
              "\n",
              "<g class=\"displacy-arrow\">\n",
              "    <path class=\"displacy-arc\" id=\"arrow-06c2ad64b77c45fa89b60f65c9a2cd60-0-18\" stroke-width=\"2px\" d=\"M1870,272.0 C1870,227.0 1915.0,227.0 1915.0,272.0\" fill=\"none\" stroke=\"currentColor\"/>\n",
              "    <text dy=\"1.25em\" style=\"font-size: 0.8em; letter-spacing: 1px\">\n",
              "        <textPath xlink:href=\"#arrow-06c2ad64b77c45fa89b60f65c9a2cd60-0-18\" class=\"displacy-label\" startOffset=\"50%\" side=\"left\" fill=\"currentColor\" text-anchor=\"middle\">compound</textPath>\n",
              "    </text>\n",
              "    <path class=\"displacy-arrowhead\" d=\"M1870,274.0 L1862,262.0 1878,262.0\" fill=\"currentColor\"/>\n",
              "</g>\n",
              "\n",
              "<g class=\"displacy-arrow\">\n",
              "    <path class=\"displacy-arc\" id=\"arrow-06c2ad64b77c45fa89b60f65c9a2cd60-0-19\" stroke-width=\"2px\" d=\"M1690,272.0 C1690,137.0 1925.0,137.0 1925.0,272.0\" fill=\"none\" stroke=\"currentColor\"/>\n",
              "    <text dy=\"1.25em\" style=\"font-size: 0.8em; letter-spacing: 1px\">\n",
              "        <textPath xlink:href=\"#arrow-06c2ad64b77c45fa89b60f65c9a2cd60-0-19\" class=\"displacy-label\" startOffset=\"50%\" side=\"left\" fill=\"currentColor\" text-anchor=\"middle\">dobj</textPath>\n",
              "    </text>\n",
              "    <path class=\"displacy-arrowhead\" d=\"M1925.0,274.0 L1933.0,262.0 1917.0,262.0\" fill=\"currentColor\"/>\n",
              "</g>\n",
              "</svg></span>"
            ],
            "text/plain": [
              "<IPython.core.display.HTML object>"
            ]
          },
          "metadata": {
            "tags": []
          }
        }
      ]
    },
    {
      "cell_type": "code",
      "metadata": {
        "id": "EiHaVsU_w0Am",
        "colab_type": "code",
        "outputId": "5b06ad93-9228-44f9-d598-cf5c5c332501",
        "colab": {
          "base_uri": "https://localhost:8080/",
          "height": 428
        }
      },
      "source": [
        "!python -m spacy download en_core_web_lg"
      ],
      "execution_count": 0,
      "outputs": [
        {
          "output_type": "stream",
          "text": [
            "Requirement already satisfied: en_core_web_lg==2.2.5 from https://github.com/explosion/spacy-models/releases/download/en_core_web_lg-2.2.5/en_core_web_lg-2.2.5.tar.gz#egg=en_core_web_lg==2.2.5 in /usr/local/lib/python3.6/dist-packages (2.2.5)\n",
            "Requirement already satisfied: spacy>=2.2.2 in /usr/local/lib/python3.6/dist-packages (from en_core_web_lg==2.2.5) (2.2.4)\n",
            "Requirement already satisfied: murmurhash<1.1.0,>=0.28.0 in /usr/local/lib/python3.6/dist-packages (from spacy>=2.2.2->en_core_web_lg==2.2.5) (1.0.2)\n",
            "Requirement already satisfied: plac<1.2.0,>=0.9.6 in /usr/local/lib/python3.6/dist-packages (from spacy>=2.2.2->en_core_web_lg==2.2.5) (1.1.3)\n",
            "Requirement already satisfied: wasabi<1.1.0,>=0.4.0 in /usr/local/lib/python3.6/dist-packages (from spacy>=2.2.2->en_core_web_lg==2.2.5) (0.6.0)\n",
            "Requirement already satisfied: requests<3.0.0,>=2.13.0 in /usr/local/lib/python3.6/dist-packages (from spacy>=2.2.2->en_core_web_lg==2.2.5) (2.23.0)\n",
            "Requirement already satisfied: tqdm<5.0.0,>=4.38.0 in /usr/local/lib/python3.6/dist-packages (from spacy>=2.2.2->en_core_web_lg==2.2.5) (4.38.0)\n",
            "Requirement already satisfied: preshed<3.1.0,>=3.0.2 in /usr/local/lib/python3.6/dist-packages (from spacy>=2.2.2->en_core_web_lg==2.2.5) (3.0.2)\n",
            "Requirement already satisfied: catalogue<1.1.0,>=0.0.7 in /usr/local/lib/python3.6/dist-packages (from spacy>=2.2.2->en_core_web_lg==2.2.5) (1.0.0)\n",
            "Requirement already satisfied: setuptools in /usr/local/lib/python3.6/dist-packages (from spacy>=2.2.2->en_core_web_lg==2.2.5) (46.1.3)\n",
            "Requirement already satisfied: blis<0.5.0,>=0.4.0 in /usr/local/lib/python3.6/dist-packages (from spacy>=2.2.2->en_core_web_lg==2.2.5) (0.4.1)\n",
            "Requirement already satisfied: srsly<1.1.0,>=1.0.2 in /usr/local/lib/python3.6/dist-packages (from spacy>=2.2.2->en_core_web_lg==2.2.5) (1.0.2)\n",
            "Requirement already satisfied: cymem<2.1.0,>=2.0.2 in /usr/local/lib/python3.6/dist-packages (from spacy>=2.2.2->en_core_web_lg==2.2.5) (2.0.3)\n",
            "Requirement already satisfied: thinc==7.4.0 in /usr/local/lib/python3.6/dist-packages (from spacy>=2.2.2->en_core_web_lg==2.2.5) (7.4.0)\n",
            "Requirement already satisfied: numpy>=1.15.0 in /usr/local/lib/python3.6/dist-packages (from spacy>=2.2.2->en_core_web_lg==2.2.5) (1.18.3)\n",
            "Requirement already satisfied: idna<3,>=2.5 in /usr/local/lib/python3.6/dist-packages (from requests<3.0.0,>=2.13.0->spacy>=2.2.2->en_core_web_lg==2.2.5) (2.9)\n",
            "Requirement already satisfied: chardet<4,>=3.0.2 in /usr/local/lib/python3.6/dist-packages (from requests<3.0.0,>=2.13.0->spacy>=2.2.2->en_core_web_lg==2.2.5) (3.0.4)\n",
            "Requirement already satisfied: certifi>=2017.4.17 in /usr/local/lib/python3.6/dist-packages (from requests<3.0.0,>=2.13.0->spacy>=2.2.2->en_core_web_lg==2.2.5) (2020.4.5.1)\n",
            "Requirement already satisfied: urllib3!=1.25.0,!=1.25.1,<1.26,>=1.21.1 in /usr/local/lib/python3.6/dist-packages (from requests<3.0.0,>=2.13.0->spacy>=2.2.2->en_core_web_lg==2.2.5) (1.24.3)\n",
            "Requirement already satisfied: importlib-metadata>=0.20; python_version < \"3.8\" in /usr/local/lib/python3.6/dist-packages (from catalogue<1.1.0,>=0.0.7->spacy>=2.2.2->en_core_web_lg==2.2.5) (1.6.0)\n",
            "Requirement already satisfied: zipp>=0.5 in /usr/local/lib/python3.6/dist-packages (from importlib-metadata>=0.20; python_version < \"3.8\"->catalogue<1.1.0,>=0.0.7->spacy>=2.2.2->en_core_web_lg==2.2.5) (3.1.0)\n",
            "\u001b[38;5;2m✔ Download and installation successful\u001b[0m\n",
            "You can now load the model via spacy.load('en_core_web_lg')\n"
          ],
          "name": "stdout"
        }
      ]
    },
    {
      "cell_type": "code",
      "metadata": {
        "id": "_EnZKPCQwz8p",
        "colab_type": "code",
        "colab": {}
      },
      "source": [
        "# Load the en_core_web_lg embeddings \n",
        "\n",
        "nlp = spacy.load('en_core_web_sm')\n"
      ],
      "execution_count": 0,
      "outputs": []
    },
    {
      "cell_type": "code",
      "metadata": {
        "id": "dvaC9K0kxkGE",
        "colab_type": "code",
        "outputId": "576d1dd3-cc3c-41d4-efb1-1b7a6d32aba6",
        "colab": {
          "base_uri": "https://localhost:8080/",
          "height": 867
        }
      },
      "source": [
        "# View vector representation for the word 'banana'\n",
        "\n",
        "print(nlp.vocab[u'banana'].vector)"
      ],
      "execution_count": 0,
      "outputs": [
        {
          "output_type": "stream",
          "text": [
            "[ 2.0228e-01 -7.6618e-02  3.7032e-01  3.2845e-02 -4.1957e-01  7.2069e-02\n",
            " -3.7476e-01  5.7460e-02 -1.2401e-02  5.2949e-01 -5.2380e-01 -1.9771e-01\n",
            " -3.4147e-01  5.3317e-01 -2.5331e-02  1.7380e-01  1.6772e-01  8.3984e-01\n",
            "  5.5107e-02  1.0547e-01  3.7872e-01  2.4275e-01  1.4745e-02  5.5951e-01\n",
            "  1.2521e-01 -6.7596e-01  3.5842e-01 -4.0028e-02  9.5949e-02 -5.0690e-01\n",
            " -8.5318e-02  1.7980e-01  3.3867e-01  1.3230e-01  3.1021e-01  2.1878e-01\n",
            "  1.6853e-01  1.9874e-01 -5.7385e-01 -1.0649e-01  2.6669e-01  1.2838e-01\n",
            " -1.2803e-01 -1.3284e-01  1.2657e-01  8.6723e-01  9.6721e-02  4.8306e-01\n",
            "  2.1271e-01 -5.4990e-02 -8.2425e-02  2.2408e-01  2.3975e-01 -6.2260e-02\n",
            "  6.2194e-01 -5.9900e-01  4.3201e-01  2.8143e-01  3.3842e-02 -4.8815e-01\n",
            " -2.1359e-01  2.7401e-01  2.4095e-01  4.5950e-01 -1.8605e-01 -1.0497e+00\n",
            " -9.7305e-02 -1.8908e-01 -7.0929e-01  4.0195e-01 -1.8768e-01  5.1687e-01\n",
            "  1.2520e-01  8.4150e-01  1.2097e-01  8.8239e-02 -2.9196e-02  1.2151e-03\n",
            "  5.6825e-02 -2.7421e-01  2.5564e-01  6.9793e-02 -2.2258e-01 -3.6006e-01\n",
            " -2.2402e-01 -5.3699e-02  1.2022e+00  5.4535e-01 -5.7998e-01  1.0905e-01\n",
            "  4.2167e-01  2.0662e-01  1.2936e-01 -4.1457e-02 -6.6777e-01  4.0467e-01\n",
            " -1.5218e-02 -2.7640e-01 -1.5611e-01 -7.9198e-02  4.0037e-02 -1.2944e-01\n",
            " -2.4090e-04 -2.6785e-01 -3.8115e-01 -9.7245e-01  3.1726e-01 -4.3951e-01\n",
            "  4.1934e-01  1.8353e-01 -1.5260e-01 -1.0808e-01 -1.0358e+00  7.6217e-02\n",
            "  1.6519e-01  2.6526e-04  1.6616e-01 -1.5281e-01  1.8123e-01  7.0274e-01\n",
            "  5.7956e-03  5.1664e-02 -5.9745e-02 -2.7551e-01 -3.9049e-01  6.1132e-02\n",
            "  5.5430e-01 -8.7997e-02 -4.1681e-01  3.2826e-01 -5.2549e-01 -4.4288e-01\n",
            "  8.2183e-03  2.4486e-01 -2.2982e-01 -3.4981e-01  2.6894e-01  3.9166e-01\n",
            " -4.1904e-01  1.6191e-01 -2.6263e+00  6.4134e-01  3.9743e-01 -1.2868e-01\n",
            " -3.1946e-01 -2.5633e-01 -1.2220e-01  3.2275e-01 -7.9933e-02 -1.5348e-01\n",
            "  3.1505e-01  3.0591e-01  2.6012e-01  1.8553e-01 -2.4043e-01  4.2886e-02\n",
            "  4.0622e-01 -2.4256e-01  6.3870e-01  6.9983e-01 -1.4043e-01  2.5209e-01\n",
            "  4.8984e-01 -6.1067e-02 -3.6766e-01 -5.5089e-01 -3.8265e-01 -2.0843e-01\n",
            "  2.2832e-01  5.1218e-01  2.7868e-01  4.7652e-01  4.7951e-02 -3.4008e-01\n",
            " -3.2873e-01 -4.1967e-01 -7.5499e-02 -3.8954e-01 -2.9622e-02 -3.4070e-01\n",
            "  2.2170e-01 -6.2856e-02 -5.1903e-01 -3.7774e-01 -4.3477e-03 -5.8301e-01\n",
            " -8.7546e-02 -2.3929e-01 -2.4711e-01 -2.5887e-01 -2.9894e-01  1.3715e-01\n",
            "  2.9892e-02  3.6544e-02 -4.9665e-01 -1.8160e-01  5.2939e-01  2.1992e-01\n",
            " -4.4514e-01  3.7798e-01 -5.7062e-01 -4.6946e-02  8.1806e-02  1.9279e-02\n",
            "  3.3246e-01 -1.4620e-01  1.7156e-01  3.9981e-01  3.6217e-01  1.2816e-01\n",
            "  3.1644e-01  3.7569e-01 -7.4690e-02 -4.8480e-02 -3.1401e-01 -1.9286e-01\n",
            " -3.1294e-01 -1.7553e-02 -1.7514e-01 -2.7587e-02 -1.0000e+00  1.8387e-01\n",
            "  8.1434e-01 -1.8913e-01  5.0999e-01 -9.1960e-03 -1.9295e-03  2.8189e-01\n",
            "  2.7247e-02  4.3409e-01 -5.4967e-01 -9.7426e-02 -2.4540e-01 -1.7203e-01\n",
            " -8.8650e-02 -3.0298e-01 -1.3591e-01 -2.7765e-01  3.1286e-03  2.0556e-01\n",
            " -1.5772e-01 -5.2308e-01 -6.4701e-01 -3.7014e-01  6.9393e-02  1.1401e-01\n",
            "  2.7594e-01 -1.3875e-01 -2.7268e-01  6.6891e-01 -5.6454e-02  2.4017e-01\n",
            " -2.6730e-01  2.9860e-01  1.0083e-01  5.5592e-01  3.2849e-01  7.6858e-02\n",
            "  1.5528e-01  2.5636e-01 -1.0772e-01 -1.2359e-01  1.1827e-01 -9.9029e-02\n",
            " -3.4328e-01  1.1502e-01 -3.7808e-01 -3.9012e-02 -3.4593e-01 -1.9404e-01\n",
            " -3.3580e-01 -6.2334e-02  2.8919e-01  2.8032e-01 -5.3741e-01  6.2794e-01\n",
            "  5.6955e-02  6.2147e-01 -2.5282e-01  4.1670e-01 -1.0108e-02 -2.5434e-01\n",
            "  4.0003e-01  4.2432e-01  2.2672e-01  1.7553e-01  2.3049e-01  2.8323e-01\n",
            "  1.3882e-01  3.1218e-03  1.7057e-01  3.6685e-01  2.5247e-03 -6.4009e-01\n",
            " -2.9765e-01  7.8943e-01  3.3168e-01 -1.1966e+00 -4.7156e-02  5.3175e-01]\n"
          ],
          "name": "stdout"
        }
      ]
    },
    {
      "cell_type": "code",
      "metadata": {
        "id": "UN0BORcNwz56",
        "colab_type": "code",
        "outputId": "c3da074a-2616-4a1d-d004-b87fef71a1f2",
        "colab": {
          "base_uri": "https://localhost:8080/",
          "height": 34
        }
      },
      "source": [
        "# Word embedding Math: \"queen\" = \"king\" \n",
        "\n",
        "from scipy import spatial\n",
        " \n",
        "cosine_similarity = lambda x, y: 1 - spatial.distance.cosine(x, y)\n",
        " \n",
        "man = nlp.vocab[u'man'].vector\n",
        "woman = nlp.vocab[u'woman'].vector\n",
        "queen = nlp.vocab[u'queen'].vector\n",
        "king = nlp.vocab[u'king'].vector\n",
        " \n",
        "# We now need to find the closest vector in the vocabulary to the result of \"man\" - \"woman\" + \"queen\"\n",
        "maybe_king = man - woman + queen\n",
        "computed_similarities = []\n",
        " \n",
        "for word in nlp.vocab:\n",
        "    # Ignore words without vectors\n",
        "    if not word.has_vector:\n",
        "        continue\n",
        " \n",
        "    similarity = cosine_similarity(maybe_king, word.vector)\n",
        "    computed_similarities.append((word, similarity))\n",
        " \n",
        "computed_similarities = sorted(computed_similarities, key=lambda item: -item[1])\n",
        "print([w[0].text for w in computed_similarities[:10]])\n",
        " \n",
        "# ['Queen', 'QUEEN', 'queen', 'King', 'KING', 'king', 'KIng', 'KINGS', 'kings', 'Kings']\n",
        " "
      ],
      "execution_count": 0,
      "outputs": [
        {
          "output_type": "stream",
          "text": [
            "['Queen', 'QUEEN', 'queen', 'King', 'KING', 'king', 'KIng', 'Kings', 'KINGS', 'kings']\n"
          ],
          "name": "stdout"
        }
      ]
    },
    {
      "cell_type": "code",
      "metadata": {
        "id": "sgzWmQW3wz3m",
        "colab_type": "code",
        "outputId": "7563f95f-e4ce-47ff-cfbe-21db848b7063",
        "colab": {
          "base_uri": "https://localhost:8080/",
          "height": 51
        }
      },
      "source": [
        "# Computing Similiarity\n",
        "\n",
        "banana = nlp.vocab[u'banana']\n",
        "dog = nlp.vocab[u'dog']\n",
        "fruit = nlp.vocab[u'fruit']\n",
        "animal = nlp.vocab[u'animal']\n",
        " \n",
        "print(dog.similarity(animal), dog.similarity(fruit)) # 0.6618534 0.23552845\n",
        "print(banana.similarity(fruit), banana.similarity(animal)) # 0.67148364 0.2427285\n",
        " \n"
      ],
      "execution_count": 0,
      "outputs": [
        {
          "output_type": "stream",
          "text": [
            "0.66185343 0.23552851\n",
            "0.67148364 0.24272855\n"
          ],
          "name": "stdout"
        }
      ]
    },
    {
      "cell_type": "code",
      "metadata": {
        "id": "QRWOetg-wz0N",
        "colab_type": "code",
        "outputId": "5556c8dc-0833-4d0d-d5a6-3b3b8e490253",
        "colab": {
          "base_uri": "https://localhost:8080/",
          "height": 68
        }
      },
      "source": [
        "# Computing Similarity on entire texts\n",
        "\n",
        "target = nlp(u\"Cats are beautiful animals.\")\n",
        " \n",
        "doc1 = nlp(u\"Dogs are awesome.\")\n",
        "doc2 = nlp(u\"Some gorgeous creatures are felines.\")\n",
        "doc3 = nlp(u\"Dolphins are swimming mammals.\")\n",
        " \n",
        "print(target.similarity(doc1))  # 0.8901765218466683\n",
        "print(target.similarity(doc2))  # 0.9115828449161616\n",
        "print(target.similarity(doc3))  # 0.7822956752876101"
      ],
      "execution_count": 0,
      "outputs": [
        {
          "output_type": "stream",
          "text": [
            "0.8901766262114666\n",
            "0.9115828449161616\n",
            "0.7822956256736615\n"
          ],
          "name": "stdout"
        }
      ]
    },
    {
      "cell_type": "code",
      "metadata": {
        "id": "yl9TqYS6vJgI",
        "colab_type": "code",
        "outputId": "597f6522-8405-4f22-dc5a-acb3106bfe9c",
        "colab": {
          "base_uri": "https://localhost:8080/",
          "height": 204
        }
      },
      "source": [
        "# Part of speech tagging\n",
        "\n",
        "nlp = spacy.load('en_core_web_lg')\n",
        "doc = nlp(\"Apple is looking at buying U.K. startup for $1 billion\")\n",
        "\n",
        "for token in doc:\n",
        "    print(token.text, token.lemma_, token.pos_, token.tag_, token.dep_,\n",
        "            token.shape_, token.is_alpha, token.is_stop)"
      ],
      "execution_count": 0,
      "outputs": [
        {
          "output_type": "stream",
          "text": [
            "Apple Apple PROPN NNP nsubj Xxxxx True False\n",
            "is be AUX VBZ aux xx True True\n",
            "looking look VERB VBG ROOT xxxx True False\n",
            "at at ADP IN prep xx True True\n",
            "buying buy VERB VBG pcomp xxxx True False\n",
            "U.K. U.K. PROPN NNP compound X.X. False False\n",
            "startup startup NOUN NN dobj xxxx True False\n",
            "for for ADP IN prep xxx True True\n",
            "$ $ SYM $ quantmod $ False False\n",
            "1 1 NUM CD compound d False False\n",
            "billion billion NUM CD pobj xxxx True False\n"
          ],
          "name": "stdout"
        }
      ]
    },
    {
      "cell_type": "code",
      "metadata": {
        "id": "UwzkI-r3vuwj",
        "colab_type": "code",
        "outputId": "bd13389b-2134-4e22-ba70-cc141b3fc706",
        "colab": {
          "base_uri": "https://localhost:8080/",
          "height": 102
        }
      },
      "source": [
        "# Named entity recognition\n",
        "\n",
        "nlp = spacy.load('en_core_web_lg')\n",
        "doc = nlp(\"I just bought 2 shares at 9 a.m. because the stock went up 30% in just 2 days according to the WSJ\")\n",
        "\n",
        "for ent in doc.ents:\n",
        "    print(ent.text, ent.start_char, ent.end_char, ent.label_)"
      ],
      "execution_count": 0,
      "outputs": [
        {
          "output_type": "stream",
          "text": [
            "2 14 15 CARDINAL\n",
            "9 a.m. 26 32 TIME\n",
            "30% 59 62 PERCENT\n",
            "just 2 days 66 77 DATE\n",
            "WSJ 95 98 ORG\n"
          ],
          "name": "stdout"
        }
      ]
    },
    {
      "cell_type": "code",
      "metadata": {
        "id": "uSqWfBrIxlFR",
        "colab_type": "code",
        "outputId": "00e2102b-f4f8-45eb-8292-a23a1c275467",
        "colab": {
          "base_uri": "https://localhost:8080/",
          "height": 51
        }
      },
      "source": [
        "import spacy\n",
        "\n",
        "texts = [\n",
        "    \"Net income was $9.4 million compared to the prior year of $2.7 million.\",\n",
        "    \"Revenue exceeded twelve billion dollars, with a loss of $1b.\",\n",
        "]\n",
        "\n",
        "nlp = spacy.load('en_core_web_lg')\n",
        "for doc in nlp.pipe(texts, disable=[\"tagger\", \"parser\"]):\n",
        "    # Do something with the doc here\n",
        "    print([(ent.text, ent.label_) for ent in doc.ents])"
      ],
      "execution_count": 0,
      "outputs": [
        {
          "output_type": "stream",
          "text": [
            "[('$9.4 million', 'MONEY'), ('the prior year', 'DATE'), ('$2.7 million', 'MONEY')]\n",
            "[('twelve billion dollars', 'MONEY'), ('1b', 'MONEY')]\n"
          ],
          "name": "stdout"
        }
      ]
    },
    {
      "cell_type": "code",
      "metadata": {
        "id": "z9nKfQC80vIa",
        "colab_type": "code",
        "outputId": "4c1c4cd9-c810-4b21-a228-d99780aa67ff",
        "colab": {
          "base_uri": "https://localhost:8080/",
          "height": 351
        }
      },
      "source": [
        "texts = [t.text for t in nlp(\"I have a blue car\")]\n",
        "assert texts == [\"I\", \"have\", \"a\", \"blue\", \"car\"]\n",
        "\n",
        "merge_nps = nlp.create_pipe(\"merge_noun_chunks\")\n",
        "nlp.add_pipe(merge_nps)\n",
        "\n",
        "texts = [t.text for t in nlp(\"I have a blue car\")]\n",
        "assert texts == [\"I\", \"have\", \"a blue car\"]"
      ],
      "execution_count": 0,
      "outputs": [
        {
          "output_type": "error",
          "ename": "ValueError",
          "evalue": "ignored",
          "traceback": [
            "\u001b[0;31m---------------------------------------------------------------------------\u001b[0m",
            "\u001b[0;31mValueError\u001b[0m                                Traceback (most recent call last)",
            "\u001b[0;32m<ipython-input-10-2afd28a783b7>\u001b[0m in \u001b[0;36m<module>\u001b[0;34m()\u001b[0m\n\u001b[1;32m      3\u001b[0m \u001b[0;34m\u001b[0m\u001b[0m\n\u001b[1;32m      4\u001b[0m \u001b[0mmerge_nps\u001b[0m \u001b[0;34m=\u001b[0m \u001b[0mnlp\u001b[0m\u001b[0;34m.\u001b[0m\u001b[0mcreate_pipe\u001b[0m\u001b[0;34m(\u001b[0m\u001b[0;34m\"merge_noun_chunks\"\u001b[0m\u001b[0;34m)\u001b[0m\u001b[0;34m\u001b[0m\u001b[0;34m\u001b[0m\u001b[0m\n\u001b[0;32m----> 5\u001b[0;31m \u001b[0mnlp\u001b[0m\u001b[0;34m.\u001b[0m\u001b[0madd_pipe\u001b[0m\u001b[0;34m(\u001b[0m\u001b[0mmerge_nps\u001b[0m\u001b[0;34m)\u001b[0m\u001b[0;34m\u001b[0m\u001b[0;34m\u001b[0m\u001b[0m\n\u001b[0m\u001b[1;32m      6\u001b[0m \u001b[0;34m\u001b[0m\u001b[0m\n\u001b[1;32m      7\u001b[0m \u001b[0mtexts\u001b[0m \u001b[0;34m=\u001b[0m \u001b[0;34m[\u001b[0m\u001b[0mt\u001b[0m\u001b[0;34m.\u001b[0m\u001b[0mtext\u001b[0m \u001b[0;32mfor\u001b[0m \u001b[0mt\u001b[0m \u001b[0;32min\u001b[0m \u001b[0mnlp\u001b[0m\u001b[0;34m(\u001b[0m\u001b[0;34m\"I have a blue car\"\u001b[0m\u001b[0;34m)\u001b[0m\u001b[0;34m]\u001b[0m\u001b[0;34m\u001b[0m\u001b[0;34m\u001b[0m\u001b[0m\n",
            "\u001b[0;32m/usr/local/lib/python3.6/dist-packages/spacy/language.py\u001b[0m in \u001b[0;36madd_pipe\u001b[0;34m(self, component, name, before, after, first, last)\u001b[0m\n\u001b[1;32m    329\u001b[0m             \u001b[0mname\u001b[0m \u001b[0;34m=\u001b[0m \u001b[0mutil\u001b[0m\u001b[0;34m.\u001b[0m\u001b[0mget_component_name\u001b[0m\u001b[0;34m(\u001b[0m\u001b[0mcomponent\u001b[0m\u001b[0;34m)\u001b[0m\u001b[0;34m\u001b[0m\u001b[0;34m\u001b[0m\u001b[0m\n\u001b[1;32m    330\u001b[0m         \u001b[0;32mif\u001b[0m \u001b[0mname\u001b[0m \u001b[0;32min\u001b[0m \u001b[0mself\u001b[0m\u001b[0;34m.\u001b[0m\u001b[0mpipe_names\u001b[0m\u001b[0;34m:\u001b[0m\u001b[0;34m\u001b[0m\u001b[0;34m\u001b[0m\u001b[0m\n\u001b[0;32m--> 331\u001b[0;31m             \u001b[0;32mraise\u001b[0m \u001b[0mValueError\u001b[0m\u001b[0;34m(\u001b[0m\u001b[0mErrors\u001b[0m\u001b[0;34m.\u001b[0m\u001b[0mE007\u001b[0m\u001b[0;34m.\u001b[0m\u001b[0mformat\u001b[0m\u001b[0;34m(\u001b[0m\u001b[0mname\u001b[0m\u001b[0;34m=\u001b[0m\u001b[0mname\u001b[0m\u001b[0;34m,\u001b[0m \u001b[0mopts\u001b[0m\u001b[0;34m=\u001b[0m\u001b[0mself\u001b[0m\u001b[0;34m.\u001b[0m\u001b[0mpipe_names\u001b[0m\u001b[0;34m)\u001b[0m\u001b[0;34m)\u001b[0m\u001b[0;34m\u001b[0m\u001b[0;34m\u001b[0m\u001b[0m\n\u001b[0m\u001b[1;32m    332\u001b[0m         \u001b[0;32mif\u001b[0m \u001b[0msum\u001b[0m\u001b[0;34m(\u001b[0m\u001b[0;34m[\u001b[0m\u001b[0mbool\u001b[0m\u001b[0;34m(\u001b[0m\u001b[0mbefore\u001b[0m\u001b[0;34m)\u001b[0m\u001b[0;34m,\u001b[0m \u001b[0mbool\u001b[0m\u001b[0;34m(\u001b[0m\u001b[0mafter\u001b[0m\u001b[0;34m)\u001b[0m\u001b[0;34m,\u001b[0m \u001b[0mbool\u001b[0m\u001b[0;34m(\u001b[0m\u001b[0mfirst\u001b[0m\u001b[0;34m)\u001b[0m\u001b[0;34m,\u001b[0m \u001b[0mbool\u001b[0m\u001b[0;34m(\u001b[0m\u001b[0mlast\u001b[0m\u001b[0;34m)\u001b[0m\u001b[0;34m]\u001b[0m\u001b[0;34m)\u001b[0m \u001b[0;34m>=\u001b[0m \u001b[0;36m2\u001b[0m\u001b[0;34m:\u001b[0m\u001b[0;34m\u001b[0m\u001b[0;34m\u001b[0m\u001b[0m\n\u001b[1;32m    333\u001b[0m             \u001b[0;32mraise\u001b[0m \u001b[0mValueError\u001b[0m\u001b[0;34m(\u001b[0m\u001b[0mErrors\u001b[0m\u001b[0;34m.\u001b[0m\u001b[0mE006\u001b[0m\u001b[0;34m)\u001b[0m\u001b[0;34m\u001b[0m\u001b[0;34m\u001b[0m\u001b[0m\n",
            "\u001b[0;31mValueError\u001b[0m: [E007] 'merge_noun_chunks' already exists in pipeline. Existing names: ['sentencizer', 'merge_noun_chunks']"
          ]
        }
      ]
    },
    {
      "cell_type": "code",
      "metadata": {
        "id": "HjpPbBqCkaDS",
        "colab_type": "code",
        "outputId": "d2459026-5758-40e4-ceef-6add211f8a1e",
        "colab": {
          "base_uri": "https://localhost:8080/",
          "height": 71
        }
      },
      "source": [
        "from spacy.lang.en import English\n",
        "nlp = English()\n",
        "sbd = nlp.create_pipe('sentencizer')\n",
        "nlp.add_pipe(sbd)\n",
        "\n",
        "text=\"The OntoNotes project is a collaborative effort between BBN Technologies, the University of Colorado, the University of Pennsylvania, and the University of Southern California's Information Sciences Institute to produce such a resource. It aims to annotate a large corpus comprising various genres of text (news, conversational telephone speech, weblogs, use net, broadcast, talk shows) in three languages (English, Chinese, and Arabic) with structural information (syntax and predicate argument structure) and shallow semantics (word sense linked to an ontology and coreference). OntoNotes builds on two time-tested resources, following the Penn Treebank for syntax and the Penn PropBank for predicate-argument structure. Its semantic representation will include word sense disambiguation for nouns and verbs, with each word sense connected to an ontology, and coreference. Over the course of the five-year program, our current goals call for annotation of over a million words each of English and Chinese, and half a million words of Arabic.\"\n",
        "doc = nlp(text)\n",
        "\n",
        "sents_list = []\n",
        "for sent in doc.sents:\n",
        "   sents_list.append(sent.text)\n",
        "\n",
        "print(sents_list)\n",
        "print([token.text for token in doc])"
      ],
      "execution_count": 0,
      "outputs": [
        {
          "output_type": "stream",
          "text": [
            "[\"The OntoNotes project is a collaborative effort between BBN Technologies, the University of Colorado, the University of Pennsylvania, and the University of Southern California's Information Sciences Institute to produce such a resource.\", 'It aims to annotate a large corpus comprising various genres of text (news, conversational telephone speech, weblogs, use net, broadcast, talk shows) in three languages (English, Chinese, and Arabic) with structural information (syntax and predicate argument structure) and shallow semantics (word sense linked to an ontology and coreference).', 'OntoNotes builds on two time-tested resources, following the Penn Treebank for syntax and the Penn PropBank for predicate-argument structure.', 'Its semantic representation will include word sense disambiguation for nouns and verbs, with each word sense connected to an ontology, and coreference.', 'Over the course of the five-year program, our current goals call for annotation of over a million words each of English and Chinese, and half a million words of Arabic.']\n",
            "['The', 'OntoNotes', 'project', 'is', 'a', 'collaborative', 'effort', 'between', 'BBN', 'Technologies', ',', 'the', 'University', 'of', 'Colorado', ',', 'the', 'University', 'of', 'Pennsylvania', ',', 'and', 'the', 'University', 'of', 'Southern', 'California', \"'s\", 'Information', 'Sciences', 'Institute', 'to', 'produce', 'such', 'a', 'resource', '.', 'It', 'aims', 'to', 'annotate', 'a', 'large', 'corpus', 'comprising', 'various', 'genres', 'of', 'text', '(', 'news', ',', 'conversational', 'telephone', 'speech', ',', 'weblogs', ',', 'use', 'net', ',', 'broadcast', ',', 'talk', 'shows', ')', 'in', 'three', 'languages', '(', 'English', ',', 'Chinese', ',', 'and', 'Arabic', ')', 'with', 'structural', 'information', '(', 'syntax', 'and', 'predicate', 'argument', 'structure', ')', 'and', 'shallow', 'semantics', '(', 'word', 'sense', 'linked', 'to', 'an', 'ontology', 'and', 'coreference', ')', '.', 'OntoNotes', 'builds', 'on', 'two', 'time', '-', 'tested', 'resources', ',', 'following', 'the', 'Penn', 'Treebank', 'for', 'syntax', 'and', 'the', 'Penn', 'PropBank', 'for', 'predicate', '-', 'argument', 'structure', '.', 'Its', 'semantic', 'representation', 'will', 'include', 'word', 'sense', 'disambiguation', 'for', 'nouns', 'and', 'verbs', ',', 'with', 'each', 'word', 'sense', 'connected', 'to', 'an', 'ontology', ',', 'and', 'coreference', '.', 'Over', 'the', 'course', 'of', 'the', 'five', '-', 'year', 'program', ',', 'our', 'current', 'goals', 'call', 'for', 'annotation', 'of', 'over', 'a', 'million', 'words', 'each', 'of', 'English', 'and', 'Chinese', ',', 'and', 'half', 'a', 'million', 'words', 'of', 'Arabic', '.']\n"
          ],
          "name": "stdout"
        }
      ]
    },
    {
      "cell_type": "code",
      "metadata": {
        "id": "XyC06fmDlcrz",
        "colab_type": "code",
        "outputId": "6a581a0b-f0aa-429f-e497-273efbe3d840",
        "colab": {
          "base_uri": "https://localhost:8080/",
          "height": 292
        }
      },
      "source": [
        "nlp=spacy.load('en_core_web_sm')\n",
        "def set_custom_boundaries(doc):\n",
        "    for token in doc[:-1]:\n",
        "        if token.text == \".(\" or token.text == \").\":\n",
        "            doc[token.i+1].is_sent_start = True\n",
        "        elif token.text == \"Rs.\" or token.text == \")\":\n",
        "            doc[token.i+1].is_sent_start = False\n",
        "    return doc\n",
        "\n",
        "nlp.add_pipe(set_custom_boundaries, before=\"parser\")\n",
        "doc = nlp(text)\n",
        "\n",
        "for sent in doc.sents:\n",
        " print(sent.text)\n",
        " print([token.text for token in doc])\n",
        "\n",
        " print([(token.i, token.idx, token.n_lefts, token.n_rights, token.text, token.ent_type_, token.lemma_, token.pos_, token.tag_, token.dep_,\n",
        "            token.shape_, token.is_alpha, token.is_stop, token.is_bracket, token.is_title, token.is_lower, token.is_upper, token.is_sent_start, token.is_currency, token.is_digit ) for token in doc])"
      ],
      "execution_count": 0,
      "outputs": [
        {
          "output_type": "stream",
          "text": [
            "The OntoNotes project is a collaborative effort between BBN Technologies, the University of Colorado, the University of Pennsylvania, and the University of Southern California's Information Sciences Institute to produce such a resource.\n",
            "['The', 'OntoNotes', 'project', 'is', 'a', 'collaborative', 'effort', 'between', 'BBN', 'Technologies', ',', 'the', 'University', 'of', 'Colorado', ',', 'the', 'University', 'of', 'Pennsylvania', ',', 'and', 'the', 'University', 'of', 'Southern', 'California', \"'s\", 'Information', 'Sciences', 'Institute', 'to', 'produce', 'such', 'a', 'resource', '.', 'It', 'aims', 'to', 'annotate', 'a', 'large', 'corpus', 'comprising', 'various', 'genres', 'of', 'text', '(', 'news', ',', 'conversational', 'telephone', 'speech', ',', 'weblogs', ',', 'use', 'net', ',', 'broadcast', ',', 'talk', 'shows', ')', 'in', 'three', 'languages', '(', 'English', ',', 'Chinese', ',', 'and', 'Arabic', ')', 'with', 'structural', 'information', '(', 'syntax', 'and', 'predicate', 'argument', 'structure', ')', 'and', 'shallow', 'semantics', '(', 'word', 'sense', 'linked', 'to', 'an', 'ontology', 'and', 'coreference', ')', '.', 'OntoNotes', 'builds', 'on', 'two', 'time', '-', 'tested', 'resources', ',', 'following', 'the', 'Penn', 'Treebank', 'for', 'syntax', 'and', 'the', 'Penn', 'PropBank', 'for', 'predicate', '-', 'argument', 'structure', '.', 'Its', 'semantic', 'representation', 'will', 'include', 'word', 'sense', 'disambiguation', 'for', 'nouns', 'and', 'verbs', ',', 'with', 'each', 'word', 'sense', 'connected', 'to', 'an', 'ontology', ',', 'and', 'coreference', '.', 'Over', 'the', 'course', 'of', 'the', 'five', '-', 'year', 'program', ',', 'our', 'current', 'goals', 'call', 'for', 'annotation', 'of', 'over', 'a', 'million', 'words', 'each', 'of', 'English', 'and', 'Chinese', ',', 'and', 'half', 'a', 'million', 'words', 'of', 'Arabic', '.']\n",
            "[(0, 0, 0, 0, 'The', '', 'the', 'DET', 'DT', 'det', 'Xxx', True, True, False, True, False, False, True, False, False), (1, 4, 0, 0, 'OntoNotes', 'ORG', 'OntoNotes', 'PROPN', 'NNP', 'compound', 'XxxxXxxxx', True, False, False, False, False, False, None, False, False), (2, 14, 2, 0, 'project', '', 'project', 'NOUN', 'NN', 'nsubj', 'xxxx', True, False, False, False, True, False, None, False, False), (3, 22, 1, 2, 'is', '', 'be', 'AUX', 'VBZ', 'ROOT', 'xx', True, True, False, False, True, False, None, False, False), (4, 25, 0, 0, 'a', '', 'a', 'DET', 'DT', 'det', 'x', True, True, False, False, True, False, None, False, False), (5, 27, 0, 0, 'collaborative', '', 'collaborative', 'ADJ', 'JJ', 'amod', 'xxxx', True, False, False, False, True, False, None, False, False), (6, 41, 2, 2, 'effort', '', 'effort', 'NOUN', 'NN', 'attr', 'xxxx', True, False, False, False, True, False, None, False, False), (7, 48, 0, 1, 'between', '', 'between', 'ADP', 'IN', 'prep', 'xxxx', True, True, False, False, True, False, None, False, False), (8, 56, 0, 0, 'BBN', 'ORG', 'BBN', 'PROPN', 'NNP', 'compound', 'XXX', True, False, False, False, False, True, None, False, False), (9, 60, 1, 2, 'Technologies', 'ORG', 'Technologies', 'PROPN', 'NNPS', 'pobj', 'Xxxxx', True, False, False, True, False, False, None, False, False), (10, 72, 0, 0, ',', '', ',', 'PUNCT', ',', 'punct', ',', False, False, False, False, False, False, None, False, False), (11, 74, 0, 0, 'the', 'ORG', 'the', 'DET', 'DT', 'det', 'xxx', True, True, False, False, True, False, None, False, False), (12, 78, 1, 3, 'University', 'ORG', 'University', 'PROPN', 'NNP', 'appos', 'Xxxxx', True, False, False, True, False, False, None, False, False), (13, 89, 0, 1, 'of', 'ORG', 'of', 'ADP', 'IN', 'prep', 'xx', True, True, False, False, True, False, None, False, False), (14, 92, 0, 0, 'Colorado', 'ORG', 'Colorado', 'PROPN', 'NNP', 'pobj', 'Xxxxx', True, False, False, True, False, False, None, False, False), (15, 100, 0, 0, ',', '', ',', 'PUNCT', ',', 'punct', ',', False, False, False, False, False, False, None, False, False), (16, 102, 0, 0, 'the', 'ORG', 'the', 'DET', 'DT', 'det', 'xxx', True, True, False, False, True, False, None, False, False), (17, 106, 1, 4, 'University', 'ORG', 'University', 'PROPN', 'NNP', 'conj', 'Xxxxx', True, False, False, True, False, False, None, False, False), (18, 117, 0, 1, 'of', 'ORG', 'of', 'ADP', 'IN', 'prep', 'xx', True, True, False, False, True, False, None, False, False), (19, 120, 0, 0, 'Pennsylvania', 'ORG', 'Pennsylvania', 'PROPN', 'NNP', 'pobj', 'Xxxxx', True, False, False, True, False, False, None, False, False), (20, 132, 0, 0, ',', '', ',', 'PUNCT', ',', 'punct', ',', False, False, False, False, False, False, None, False, False), (21, 134, 0, 0, 'and', '', 'and', 'CCONJ', 'CC', 'cc', 'xxx', True, True, False, False, True, False, None, False, False), (22, 138, 0, 0, 'the', 'ORG', 'the', 'DET', 'DT', 'det', 'xxx', True, True, False, False, True, False, None, False, False), (23, 142, 1, 2, 'University', 'ORG', 'University', 'PROPN', 'NNP', 'poss', 'Xxxxx', True, False, False, True, False, False, None, False, False), (24, 153, 0, 1, 'of', 'ORG', 'of', 'ADP', 'IN', 'prep', 'xx', True, True, False, False, True, False, None, False, False), (25, 156, 0, 0, 'Southern', 'ORG', 'Southern', 'PROPN', 'NNP', 'compound', 'Xxxxx', True, False, False, True, False, False, None, False, False), (26, 165, 1, 0, 'California', 'ORG', 'California', 'PROPN', 'NNP', 'pobj', 'Xxxxx', True, False, False, True, False, False, None, False, False), (27, 175, 0, 0, \"'s\", 'ORG', \"'s\", 'PART', 'POS', 'case', \"'x\", False, True, False, False, True, False, None, False, False), (28, 178, 0, 0, 'Information', 'ORG', 'Information', 'PROPN', 'NNP', 'compound', 'Xxxxx', True, False, False, True, False, False, None, False, False), (29, 190, 1, 0, 'Sciences', 'ORG', 'Sciences', 'PROPN', 'NNPS', 'compound', 'Xxxxx', True, False, False, True, False, False, None, False, False), (30, 199, 2, 0, 'Institute', 'ORG', 'Institute', 'PROPN', 'NNP', 'conj', 'Xxxxx', True, False, False, True, False, False, None, False, False), (31, 209, 0, 0, 'to', '', 'to', 'PART', 'TO', 'aux', 'xx', True, True, False, False, True, False, None, False, False), (32, 212, 1, 1, 'produce', '', 'produce', 'VERB', 'VB', 'acl', 'xxxx', True, False, False, False, True, False, None, False, False), (33, 220, 0, 0, 'such', '', 'such', 'DET', 'PDT', 'predet', 'xxxx', True, True, False, False, True, False, None, False, False), (34, 225, 0, 0, 'a', '', 'a', 'DET', 'DT', 'det', 'x', True, True, False, False, True, False, None, False, False), (35, 227, 2, 0, 'resource', '', 'resource', 'NOUN', 'NN', 'dobj', 'xxxx', True, False, False, False, True, False, None, False, False), (36, 235, 0, 0, '.', '', '.', 'PUNCT', '.', 'punct', '.', False, False, False, False, False, False, None, False, False), (37, 237, 0, 0, 'It', '', '-PRON-', 'PRON', 'PRP', 'nsubj', 'Xx', True, True, False, True, False, False, True, False, False), (38, 240, 1, 2, 'aims', '', 'aim', 'VERB', 'VBZ', 'ROOT', 'xxxx', True, False, False, False, True, False, None, False, False), (39, 245, 0, 0, 'to', '', 'to', 'PART', 'TO', 'aux', 'xx', True, True, False, False, True, False, None, False, False), (40, 248, 1, 2, 'annotate', '', 'annotate', 'VERB', 'VB', 'xcomp', 'xxxx', True, False, False, False, True, False, None, False, False), (41, 257, 0, 0, 'a', '', 'a', 'DET', 'DT', 'det', 'x', True, True, False, False, True, False, None, False, False), (42, 259, 0, 0, 'large', '', 'large', 'ADJ', 'JJ', 'amod', 'xxxx', True, False, False, False, True, False, None, False, False), (43, 265, 2, 1, 'corpus', '', 'corpus', 'NOUN', 'NN', 'dobj', 'xxxx', True, False, False, False, True, False, None, False, False), (44, 272, 0, 1, 'comprising', '', 'comprise', 'VERB', 'VBG', 'acl', 'xxxx', True, False, False, False, True, False, None, False, False), (45, 283, 0, 0, 'various', '', 'various', 'ADJ', 'JJ', 'amod', 'xxxx', True, True, False, False, True, False, None, False, False), (46, 291, 1, 1, 'genres', '', 'genre', 'NOUN', 'NNS', 'dobj', 'xxxx', True, False, False, False, True, False, None, False, False), (47, 298, 0, 1, 'of', '', 'of', 'ADP', 'IN', 'prep', 'xx', True, True, False, False, True, False, None, False, False), (48, 301, 0, 1, 'text', '', 'text', 'NOUN', 'NN', 'pobj', 'xxxx', True, False, False, False, True, False, None, False, False), (49, 306, 0, 0, '(', '', '(', 'PUNCT', '-LRB-', 'punct', '(', False, False, True, False, False, False, None, False, False), (50, 307, 1, 3, 'news', '', 'news', 'NOUN', 'NN', 'appos', 'xxxx', True, False, False, False, True, False, None, False, False), (51, 311, 0, 0, ',', '', ',', 'PUNCT', ',', 'punct', ',', False, False, False, False, False, False, None, False, False), (52, 313, 0, 0, 'conversational', '', 'conversational', 'ADJ', 'JJ', 'amod', 'xxxx', True, False, False, False, True, False, None, False, False), (53, 328, 0, 0, 'telephone', '', 'telephone', 'NOUN', 'NN', 'compound', 'xxxx', True, False, False, False, True, False, None, False, False), (54, 338, 2, 2, 'speech', '', 'speech', 'NOUN', 'NN', 'conj', 'xxxx', True, False, False, False, True, False, None, False, False), (55, 344, 0, 0, ',', '', ',', 'PUNCT', ',', 'punct', ',', False, False, False, False, False, False, None, False, False), (56, 346, 0, 0, 'weblogs', '', 'weblogs', 'PROPN', 'NNP', 'conj', 'xxxx', True, False, False, False, True, False, None, False, False), (57, 353, 0, 0, ',', '', ',', 'PUNCT', ',', 'punct', ',', False, False, False, False, False, False, None, False, False), (58, 355, 0, 4, 'use', '', 'use', 'VERB', 'VBP', 'dep', 'xxx', True, False, False, False, True, False, None, False, False), (59, 359, 0, 2, 'net', '', 'net', 'NOUN', 'NN', 'dobj', 'xxx', True, False, False, False, True, False, None, False, False), (60, 362, 0, 0, ',', '', ',', 'PUNCT', ',', 'punct', ',', False, False, False, False, False, False, None, False, False), (61, 364, 0, 0, 'broadcast', '', 'broadcast', 'NOUN', 'NN', 'conj', 'xxxx', True, False, False, False, True, False, None, False, False), (62, 373, 0, 0, ',', '', ',', 'PUNCT', ',', 'punct', ',', False, False, False, False, False, False, None, False, False), (63, 375, 0, 0, 'talk', '', 'talk', 'NOUN', 'NN', 'compound', 'xxxx', True, False, False, False, True, False, None, False, False), (64, 380, 2, 1, 'shows', '', 'show', 'NOUN', 'NNS', 'dobj', 'xxxx', True, False, False, False, True, False, None, False, False), (65, 385, 0, 0, ')', '', ')', 'PUNCT', '-RRB-', 'punct', ')', False, False, True, False, False, False, None, False, False), (66, 387, 0, 1, 'in', '', 'in', 'ADP', 'IN', 'prep', 'xx', True, True, False, False, True, False, False, False, False), (67, 390, 0, 0, 'three', 'CARDINAL', 'three', 'NUM', 'CD', 'nummod', 'xxxx', True, True, False, False, True, False, None, False, False), (68, 396, 1, 3, 'languages', '', 'language', 'NOUN', 'NNS', 'pobj', 'xxxx', True, False, False, False, True, False, None, False, False), (69, 406, 0, 0, '(', '', '(', 'PUNCT', '-LRB-', 'punct', '(', False, False, True, False, False, False, None, False, False), (70, 407, 0, 2, 'English', 'LANGUAGE', 'English', 'PROPN', 'NNP', 'appos', 'Xxxxx', True, False, False, True, False, False, None, False, False), (71, 414, 0, 0, ',', '', ',', 'PUNCT', ',', 'punct', ',', False, False, False, False, False, False, None, False, False), (72, 416, 0, 3, 'Chinese', 'LANGUAGE', 'chinese', 'ADJ', 'JJ', 'conj', 'Xxxxx', True, False, False, True, False, False, None, False, False), (73, 423, 0, 0, ',', '', ',', 'PUNCT', ',', 'punct', ',', False, False, False, False, False, False, None, False, False), (74, 425, 0, 0, 'and', '', 'and', 'CCONJ', 'CC', 'cc', 'xxx', True, True, False, False, True, False, None, False, False), (75, 429, 0, 0, 'Arabic', 'LANGUAGE', 'Arabic', 'PROPN', 'NNP', 'conj', 'Xxxxx', True, False, False, True, False, False, None, False, False), (76, 435, 0, 0, ')', '', ')', 'PUNCT', '-RRB-', 'punct', ')', False, False, True, False, False, False, None, False, False), (77, 437, 0, 1, 'with', '', 'with', 'ADP', 'IN', 'prep', 'xxxx', True, True, False, False, True, False, False, False, False), (78, 442, 0, 0, 'structural', '', 'structural', 'ADJ', 'JJ', 'amod', 'xxxx', True, False, False, False, True, False, None, False, False), (79, 453, 1, 5, 'information', '', 'information', 'NOUN', 'NN', 'pobj', 'xxxx', True, False, False, False, True, False, None, False, False), (80, 465, 0, 0, '(', '', '(', 'PUNCT', '-LRB-', 'punct', '(', False, False, True, False, False, False, None, False, False), (81, 466, 0, 2, 'syntax', '', 'syntax', 'VERB', 'VB', 'appos', 'xxxx', True, False, False, False, True, False, None, False, False), (82, 473, 0, 0, 'and', '', 'and', 'CCONJ', 'CC', 'cc', 'xxx', True, True, False, False, True, False, None, False, False), (83, 477, 0, 1, 'predicate', '', 'predicate', 'VERB', 'VB', 'conj', 'xxxx', True, False, False, False, True, False, None, False, False), (84, 487, 0, 0, 'argument', '', 'argument', 'NOUN', 'NN', 'compound', 'xxxx', True, False, False, False, True, False, None, False, False), (85, 496, 1, 0, 'structure', '', 'structure', 'NOUN', 'NN', 'dobj', 'xxxx', True, False, False, False, True, False, None, False, False), (86, 505, 0, 0, ')', '', ')', 'PUNCT', '-RRB-', 'punct', ')', False, False, True, False, False, False, None, False, False), (87, 507, 0, 0, 'and', '', 'and', 'CCONJ', 'CC', 'cc', 'xxx', True, True, False, False, True, False, False, False, False), (88, 511, 0, 0, 'shallow', '', 'shallow', 'ADJ', 'JJ', 'amod', 'xxxx', True, False, False, False, True, False, None, False, False), (89, 519, 1, 3, 'semantics', '', 'semantic', 'NOUN', 'NNS', 'conj', 'xxxx', True, False, False, False, True, False, None, False, False), (90, 529, 0, 0, '(', '', '(', 'PUNCT', '-LRB-', 'punct', '(', False, False, True, False, False, False, None, False, False), (91, 530, 0, 0, 'word', '', 'word', 'NOUN', 'NN', 'compound', 'xxxx', True, False, False, False, True, False, None, False, False), (92, 535, 1, 1, 'sense', '', 'sense', 'NOUN', 'NN', 'appos', 'xxxx', True, False, False, False, True, False, None, False, False), (93, 541, 0, 1, 'linked', '', 'link', 'VERB', 'VBN', 'acl', 'xxxx', True, False, False, False, True, False, None, False, False), (94, 548, 0, 1, 'to', '', 'to', 'ADP', 'IN', 'prep', 'xx', True, True, False, False, True, False, None, False, False), (95, 551, 0, 0, 'an', '', 'an', 'DET', 'DT', 'det', 'xx', True, True, False, False, True, False, None, False, False), (96, 554, 1, 2, 'ontology', '', 'ontology', 'NOUN', 'NN', 'pobj', 'xxxx', True, False, False, False, True, False, None, False, False), (97, 563, 0, 0, 'and', '', 'and', 'CCONJ', 'CC', 'cc', 'xxx', True, True, False, False, True, False, None, False, False), (98, 567, 0, 0, 'coreference', '', 'coreference', 'NOUN', 'NN', 'conj', 'xxxx', True, False, False, False, True, False, None, False, False), (99, 578, 0, 0, ')', '', ')', 'PUNCT', '-RRB-', 'punct', ')', False, False, True, False, False, False, None, False, False), (100, 579, 0, 0, '.', '', '.', 'PUNCT', '.', 'punct', '.', False, False, False, False, False, False, False, False, False), (101, 581, 0, 0, 'OntoNotes', '', 'OntoNotes', 'PROPN', 'NNP', 'nsubj', 'XxxxXxxxx', True, False, False, False, False, False, True, False, False), (102, 591, 1, 5, 'builds', '', 'build', 'VERB', 'VBZ', 'ROOT', 'xxxx', True, False, False, False, True, False, None, False, False), (103, 598, 0, 0, 'on', '', 'on', 'ADP', 'IN', 'prt', 'xx', True, True, False, False, True, False, None, False, False), (104, 601, 0, 0, 'two', 'CARDINAL', 'two', 'NUM', 'CD', 'nummod', 'xxx', True, True, False, False, True, False, None, False, False), (105, 605, 0, 0, 'time', '', 'time', 'NOUN', 'NN', 'npadvmod', 'xxxx', True, False, False, False, True, False, None, False, False), (106, 609, 0, 0, '-', '', '-', 'PUNCT', 'HYPH', 'punct', '-', False, False, False, False, False, False, None, False, False), (107, 610, 2, 0, 'tested', '', 'test', 'VERB', 'VBN', 'amod', 'xxxx', True, False, False, False, True, False, None, False, False), (108, 617, 2, 0, 'resources', '', 'resource', 'NOUN', 'NNS', 'dobj', 'xxxx', True, False, False, False, True, False, None, False, False), (109, 626, 0, 0, ',', '', ',', 'PUNCT', ',', 'punct', ',', False, False, False, False, False, False, None, False, False), (110, 628, 0, 2, 'following', '', 'follow', 'VERB', 'VBG', 'prep', 'xxxx', True, False, False, False, True, False, None, False, False), (111, 638, 0, 0, 'the', 'ORG', 'the', 'DET', 'DT', 'det', 'xxx', True, True, False, False, True, False, None, False, False), (112, 642, 0, 0, 'Penn', 'ORG', 'Penn', 'PROPN', 'NNP', 'compound', 'Xxxx', True, False, False, True, False, False, None, False, False), (113, 647, 2, 1, 'Treebank', 'ORG', 'Treebank', 'PROPN', 'NNP', 'pobj', 'Xxxxx', True, False, False, True, False, False, None, False, False), (114, 656, 0, 1, 'for', '', 'for', 'ADP', 'IN', 'prep', 'xxx', True, True, False, False, True, False, None, False, False), (115, 660, 0, 2, 'syntax', '', 'syntax', 'NOUN', 'NN', 'pobj', 'xxxx', True, False, False, False, True, False, None, False, False), (116, 667, 0, 0, 'and', '', 'and', 'CCONJ', 'CC', 'cc', 'xxx', True, True, False, False, True, False, None, False, False), (117, 671, 0, 0, 'the', 'ORG', 'the', 'DET', 'DT', 'det', 'xxx', True, True, False, False, True, False, None, False, False), (118, 675, 0, 0, 'Penn', 'ORG', 'Penn', 'PROPN', 'NNP', 'compound', 'Xxxx', True, False, False, True, False, False, None, False, False), (119, 680, 2, 0, 'PropBank', 'ORG', 'PropBank', 'PROPN', 'NNP', 'conj', 'XxxxXxxx', True, False, False, False, False, False, None, False, False), (120, 689, 0, 1, 'for', '', 'for', 'ADP', 'IN', 'prep', 'xxx', True, True, False, False, True, False, None, False, False), (121, 693, 0, 0, 'predicate', '', 'predicate', 'NOUN', 'NN', 'compound', 'xxxx', True, False, False, False, True, False, None, False, False), (122, 702, 0, 0, '-', '', '-', 'PUNCT', 'HYPH', 'punct', '-', False, False, False, False, False, False, None, False, False), (123, 703, 2, 0, 'argument', '', 'argument', 'NOUN', 'NN', 'compound', 'xxxx', True, False, False, False, True, False, None, False, False), (124, 712, 1, 0, 'structure', '', 'structure', 'NOUN', 'NN', 'pobj', 'xxxx', True, False, False, False, True, False, None, False, False), (125, 721, 0, 0, '.', '', '.', 'PUNCT', '.', 'punct', '.', False, False, False, False, False, False, None, False, False), (126, 723, 0, 0, 'Its', '', '-PRON-', 'DET', 'PRP$', 'poss', 'Xxx', True, True, False, True, False, False, True, False, False), (127, 727, 0, 0, 'semantic', '', 'semantic', 'ADJ', 'JJ', 'amod', 'xxxx', True, False, False, False, True, False, None, False, False), (128, 736, 2, 0, 'representation', '', 'representation', 'NOUN', 'NN', 'nsubj', 'xxxx', True, False, False, False, True, False, None, False, False), (129, 751, 0, 0, 'will', '', 'will', 'VERB', 'MD', 'aux', 'xxxx', True, True, False, False, True, False, None, False, False), (130, 756, 2, 4, 'include', '', 'include', 'VERB', 'VB', 'ROOT', 'xxxx', True, False, False, False, True, False, None, False, False), (131, 764, 0, 0, 'word', '', 'word', 'NOUN', 'NN', 'compound', 'xxxx', True, False, False, False, True, False, None, False, False), (132, 769, 0, 0, 'sense', '', 'sense', 'NOUN', 'NN', 'compound', 'xxxx', True, False, False, False, True, False, None, False, False), (133, 775, 2, 1, 'disambiguation', '', 'disambiguation', 'NOUN', 'NN', 'dobj', 'xxxx', True, False, False, False, True, False, None, False, False), (134, 790, 0, 1, 'for', '', 'for', 'ADP', 'IN', 'prep', 'xxx', True, True, False, False, True, False, None, False, False), (135, 794, 0, 2, 'nouns', '', 'noun', 'NOUN', 'NNS', 'pobj', 'xxxx', True, False, False, False, True, False, None, False, False), (136, 800, 0, 0, 'and', '', 'and', 'CCONJ', 'CC', 'cc', 'xxx', True, True, False, False, True, False, None, False, False), (137, 804, 0, 0, 'verbs', '', 'verb', 'NOUN', 'NNS', 'conj', 'xxxx', True, False, False, False, True, False, None, False, False), (138, 809, 0, 0, ',', '', ',', 'PUNCT', ',', 'punct', ',', False, False, False, False, False, False, None, False, False), (139, 811, 0, 1, 'with', '', 'with', 'ADP', 'IN', 'prep', 'xxxx', True, True, False, False, True, False, None, False, False), (140, 816, 0, 0, 'each', '', 'each', 'DET', 'DT', 'det', 'xxxx', True, True, False, False, True, False, None, False, False), (141, 821, 0, 0, 'word', '', 'word', 'NOUN', 'NN', 'compound', 'xxxx', True, False, False, False, True, False, None, False, False), (142, 826, 2, 4, 'sense', '', 'sense', 'NOUN', 'NN', 'pobj', 'xxxx', True, False, False, False, True, False, None, False, False), (143, 832, 0, 1, 'connected', '', 'connect', 'VERB', 'VBN', 'acl', 'xxxx', True, False, False, False, True, False, None, False, False), (144, 842, 0, 1, 'to', '', 'to', 'ADP', 'IN', 'prep', 'xx', True, True, False, False, True, False, None, False, False), (145, 845, 0, 0, 'an', '', 'an', 'DET', 'DT', 'det', 'xx', True, True, False, False, True, False, None, False, False), (146, 848, 1, 0, 'ontology', '', 'ontology', 'NOUN', 'NN', 'pobj', 'xxxx', True, False, False, False, True, False, None, False, False), (147, 856, 0, 0, ',', '', ',', 'PUNCT', ',', 'punct', ',', False, False, False, False, False, False, None, False, False), (148, 858, 0, 0, 'and', '', 'and', 'CCONJ', 'CC', 'cc', 'xxx', True, True, False, False, True, False, None, False, False), (149, 862, 0, 0, 'coreference', '', 'coreference', 'NOUN', 'NN', 'conj', 'xxxx', True, False, False, False, True, False, None, False, False), (150, 873, 0, 0, '.', '', '.', 'PUNCT', '.', 'punct', '.', False, False, False, False, False, False, None, False, False), (151, 875, 0, 1, 'Over', '', 'over', 'ADP', 'IN', 'prep', 'Xxxx', True, True, False, True, False, False, True, False, False), (152, 880, 0, 0, 'the', '', 'the', 'DET', 'DT', 'det', 'xxx', True, True, False, False, True, False, None, False, False), (153, 884, 1, 1, 'course', '', 'course', 'NOUN', 'NN', 'pobj', 'xxxx', True, False, False, False, True, False, None, False, False), (154, 891, 0, 1, 'of', '', 'of', 'ADP', 'IN', 'prep', 'xx', True, True, False, False, True, False, None, False, False), (155, 894, 0, 0, 'the', '', 'the', 'DET', 'DT', 'det', 'xxx', True, True, False, False, True, False, None, False, False), (156, 898, 0, 0, 'five', 'DATE', 'five', 'NUM', 'CD', 'nummod', 'xxxx', True, True, False, False, True, False, None, False, False), (157, 902, 0, 0, '-', 'DATE', '-', 'PUNCT', 'HYPH', 'punct', '-', False, False, False, False, False, False, None, False, False), (158, 903, 2, 0, 'year', 'DATE', 'year', 'NOUN', 'NN', 'compound', 'xxxx', True, False, False, False, True, False, None, False, False), (159, 908, 2, 0, 'program', '', 'program', 'NOUN', 'NN', 'pobj', 'xxxx', True, False, False, False, True, False, None, False, False), (160, 915, 0, 0, ',', '', ',', 'PUNCT', ',', 'punct', ',', False, False, False, False, False, False, None, False, False), (161, 917, 0, 0, 'our', '', '-PRON-', 'DET', 'PRP$', 'poss', 'xxx', True, True, False, False, True, False, None, False, False), (162, 921, 0, 0, 'current', '', 'current', 'ADJ', 'JJ', 'amod', 'xxxx', True, False, False, False, True, False, None, False, False), (163, 929, 2, 0, 'goals', '', 'goal', 'NOUN', 'NNS', 'nsubj', 'xxxx', True, False, False, False, True, False, None, False, False), (164, 935, 3, 2, 'call', '', 'call', 'VERB', 'VBP', 'ROOT', 'xxxx', True, True, False, False, True, False, None, False, False), (165, 940, 0, 1, 'for', '', 'for', 'ADP', 'IN', 'prep', 'xxx', True, True, False, False, True, False, None, False, False), (166, 944, 0, 1, 'annotation', '', 'annotation', 'NOUN', 'NN', 'pobj', 'xxxx', True, False, False, False, True, False, None, False, False), (167, 955, 0, 1, 'of', '', 'of', 'ADP', 'IN', 'prep', 'xx', True, True, False, False, True, False, None, False, False), (168, 958, 0, 0, 'over', 'CARDINAL', 'over', 'ADP', 'IN', 'quantmod', 'xxxx', True, True, False, False, True, False, None, False, False), (169, 963, 0, 0, 'a', 'CARDINAL', 'a', 'DET', 'DT', 'quantmod', 'x', True, True, False, False, True, False, None, False, False), (170, 965, 2, 0, 'million', 'CARDINAL', 'million', 'NUM', 'CD', 'nummod', 'xxxx', True, False, False, False, True, False, None, False, False), (171, 973, 1, 4, 'words', '', 'word', 'NOUN', 'NNS', 'pobj', 'xxxx', True, False, False, False, True, False, None, False, False), (172, 979, 0, 1, 'each', '', 'each', 'DET', 'DT', 'npadvmod', 'xxxx', True, True, False, False, True, False, None, False, False), (173, 984, 0, 1, 'of', '', 'of', 'ADP', 'IN', 'prep', 'xx', True, True, False, False, True, False, None, False, False), (174, 987, 0, 2, 'English', 'LANGUAGE', 'English', 'PROPN', 'NNP', 'pobj', 'Xxxxx', True, False, False, True, False, False, None, False, False), (175, 995, 0, 0, 'and', '', 'and', 'CCONJ', 'CC', 'cc', 'xxx', True, True, False, False, True, False, None, False, False), (176, 999, 0, 0, 'Chinese', 'LANGUAGE', 'Chinese', 'PROPN', 'NNP', 'conj', 'Xxxxx', True, False, False, True, False, False, None, False, False), (177, 1006, 0, 0, ',', '', ',', 'PUNCT', ',', 'punct', ',', False, False, False, False, False, False, None, False, False), (178, 1008, 0, 0, 'and', '', 'and', 'CCONJ', 'CC', 'cc', 'xxx', True, True, False, False, True, False, None, False, False), (179, 1012, 0, 0, 'half', 'CARDINAL', 'half', 'DET', 'PDT', 'quantmod', 'xxxx', True, False, False, False, True, False, None, False, False), (180, 1017, 0, 0, 'a', 'CARDINAL', 'a', 'DET', 'DT', 'quantmod', 'x', True, True, False, False, True, False, None, False, False), (181, 1019, 2, 0, 'million', 'CARDINAL', 'million', 'NUM', 'CD', 'nummod', 'xxxx', True, False, False, False, True, False, None, False, False), (182, 1027, 1, 1, 'words', '', 'word', 'NOUN', 'NNS', 'conj', 'xxxx', True, False, False, False, True, False, None, False, False), (183, 1033, 0, 1, 'of', '', 'of', 'ADP', 'IN', 'prep', 'xx', True, True, False, False, True, False, None, False, False), (184, 1036, 0, 0, 'Arabic', 'LANGUAGE', 'Arabic', 'PROPN', 'NNP', 'pobj', 'Xxxxx', True, False, False, True, False, False, None, False, False), (185, 1042, 0, 0, '.', '', '.', 'PUNCT', '.', 'punct', '.', False, False, False, False, False, False, None, False, False)]\n",
            "It aims to annotate a large corpus comprising various genres of text (news, conversational telephone speech, weblogs, use net, broadcast, talk shows) in three languages (English, Chinese, and Arabic) with structural information (syntax and predicate argument structure) and shallow semantics (word sense linked to an ontology and coreference).\n",
            "['The', 'OntoNotes', 'project', 'is', 'a', 'collaborative', 'effort', 'between', 'BBN', 'Technologies', ',', 'the', 'University', 'of', 'Colorado', ',', 'the', 'University', 'of', 'Pennsylvania', ',', 'and', 'the', 'University', 'of', 'Southern', 'California', \"'s\", 'Information', 'Sciences', 'Institute', 'to', 'produce', 'such', 'a', 'resource', '.', 'It', 'aims', 'to', 'annotate', 'a', 'large', 'corpus', 'comprising', 'various', 'genres', 'of', 'text', '(', 'news', ',', 'conversational', 'telephone', 'speech', ',', 'weblogs', ',', 'use', 'net', ',', 'broadcast', ',', 'talk', 'shows', ')', 'in', 'three', 'languages', '(', 'English', ',', 'Chinese', ',', 'and', 'Arabic', ')', 'with', 'structural', 'information', '(', 'syntax', 'and', 'predicate', 'argument', 'structure', ')', 'and', 'shallow', 'semantics', '(', 'word', 'sense', 'linked', 'to', 'an', 'ontology', 'and', 'coreference', ')', '.', 'OntoNotes', 'builds', 'on', 'two', 'time', '-', 'tested', 'resources', ',', 'following', 'the', 'Penn', 'Treebank', 'for', 'syntax', 'and', 'the', 'Penn', 'PropBank', 'for', 'predicate', '-', 'argument', 'structure', '.', 'Its', 'semantic', 'representation', 'will', 'include', 'word', 'sense', 'disambiguation', 'for', 'nouns', 'and', 'verbs', ',', 'with', 'each', 'word', 'sense', 'connected', 'to', 'an', 'ontology', ',', 'and', 'coreference', '.', 'Over', 'the', 'course', 'of', 'the', 'five', '-', 'year', 'program', ',', 'our', 'current', 'goals', 'call', 'for', 'annotation', 'of', 'over', 'a', 'million', 'words', 'each', 'of', 'English', 'and', 'Chinese', ',', 'and', 'half', 'a', 'million', 'words', 'of', 'Arabic', '.']\n",
            "[(0, 0, 0, 0, 'The', '', 'the', 'DET', 'DT', 'det', 'Xxx', True, True, False, True, False, False, True, False, False), (1, 4, 0, 0, 'OntoNotes', 'ORG', 'OntoNotes', 'PROPN', 'NNP', 'compound', 'XxxxXxxxx', True, False, False, False, False, False, None, False, False), (2, 14, 2, 0, 'project', '', 'project', 'NOUN', 'NN', 'nsubj', 'xxxx', True, False, False, False, True, False, None, False, False), (3, 22, 1, 2, 'is', '', 'be', 'AUX', 'VBZ', 'ROOT', 'xx', True, True, False, False, True, False, None, False, False), (4, 25, 0, 0, 'a', '', 'a', 'DET', 'DT', 'det', 'x', True, True, False, False, True, False, None, False, False), (5, 27, 0, 0, 'collaborative', '', 'collaborative', 'ADJ', 'JJ', 'amod', 'xxxx', True, False, False, False, True, False, None, False, False), (6, 41, 2, 2, 'effort', '', 'effort', 'NOUN', 'NN', 'attr', 'xxxx', True, False, False, False, True, False, None, False, False), (7, 48, 0, 1, 'between', '', 'between', 'ADP', 'IN', 'prep', 'xxxx', True, True, False, False, True, False, None, False, False), (8, 56, 0, 0, 'BBN', 'ORG', 'BBN', 'PROPN', 'NNP', 'compound', 'XXX', True, False, False, False, False, True, None, False, False), (9, 60, 1, 2, 'Technologies', 'ORG', 'Technologies', 'PROPN', 'NNPS', 'pobj', 'Xxxxx', True, False, False, True, False, False, None, False, False), (10, 72, 0, 0, ',', '', ',', 'PUNCT', ',', 'punct', ',', False, False, False, False, False, False, None, False, False), (11, 74, 0, 0, 'the', 'ORG', 'the', 'DET', 'DT', 'det', 'xxx', True, True, False, False, True, False, None, False, False), (12, 78, 1, 3, 'University', 'ORG', 'University', 'PROPN', 'NNP', 'appos', 'Xxxxx', True, False, False, True, False, False, None, False, False), (13, 89, 0, 1, 'of', 'ORG', 'of', 'ADP', 'IN', 'prep', 'xx', True, True, False, False, True, False, None, False, False), (14, 92, 0, 0, 'Colorado', 'ORG', 'Colorado', 'PROPN', 'NNP', 'pobj', 'Xxxxx', True, False, False, True, False, False, None, False, False), (15, 100, 0, 0, ',', '', ',', 'PUNCT', ',', 'punct', ',', False, False, False, False, False, False, None, False, False), (16, 102, 0, 0, 'the', 'ORG', 'the', 'DET', 'DT', 'det', 'xxx', True, True, False, False, True, False, None, False, False), (17, 106, 1, 4, 'University', 'ORG', 'University', 'PROPN', 'NNP', 'conj', 'Xxxxx', True, False, False, True, False, False, None, False, False), (18, 117, 0, 1, 'of', 'ORG', 'of', 'ADP', 'IN', 'prep', 'xx', True, True, False, False, True, False, None, False, False), (19, 120, 0, 0, 'Pennsylvania', 'ORG', 'Pennsylvania', 'PROPN', 'NNP', 'pobj', 'Xxxxx', True, False, False, True, False, False, None, False, False), (20, 132, 0, 0, ',', '', ',', 'PUNCT', ',', 'punct', ',', False, False, False, False, False, False, None, False, False), (21, 134, 0, 0, 'and', '', 'and', 'CCONJ', 'CC', 'cc', 'xxx', True, True, False, False, True, False, None, False, False), (22, 138, 0, 0, 'the', 'ORG', 'the', 'DET', 'DT', 'det', 'xxx', True, True, False, False, True, False, None, False, False), (23, 142, 1, 2, 'University', 'ORG', 'University', 'PROPN', 'NNP', 'poss', 'Xxxxx', True, False, False, True, False, False, None, False, False), (24, 153, 0, 1, 'of', 'ORG', 'of', 'ADP', 'IN', 'prep', 'xx', True, True, False, False, True, False, None, False, False), (25, 156, 0, 0, 'Southern', 'ORG', 'Southern', 'PROPN', 'NNP', 'compound', 'Xxxxx', True, False, False, True, False, False, None, False, False), (26, 165, 1, 0, 'California', 'ORG', 'California', 'PROPN', 'NNP', 'pobj', 'Xxxxx', True, False, False, True, False, False, None, False, False), (27, 175, 0, 0, \"'s\", 'ORG', \"'s\", 'PART', 'POS', 'case', \"'x\", False, True, False, False, True, False, None, False, False), (28, 178, 0, 0, 'Information', 'ORG', 'Information', 'PROPN', 'NNP', 'compound', 'Xxxxx', True, False, False, True, False, False, None, False, False), (29, 190, 1, 0, 'Sciences', 'ORG', 'Sciences', 'PROPN', 'NNPS', 'compound', 'Xxxxx', True, False, False, True, False, False, None, False, False), (30, 199, 2, 0, 'Institute', 'ORG', 'Institute', 'PROPN', 'NNP', 'conj', 'Xxxxx', True, False, False, True, False, False, None, False, False), (31, 209, 0, 0, 'to', '', 'to', 'PART', 'TO', 'aux', 'xx', True, True, False, False, True, False, None, False, False), (32, 212, 1, 1, 'produce', '', 'produce', 'VERB', 'VB', 'acl', 'xxxx', True, False, False, False, True, False, None, False, False), (33, 220, 0, 0, 'such', '', 'such', 'DET', 'PDT', 'predet', 'xxxx', True, True, False, False, True, False, None, False, False), (34, 225, 0, 0, 'a', '', 'a', 'DET', 'DT', 'det', 'x', True, True, False, False, True, False, None, False, False), (35, 227, 2, 0, 'resource', '', 'resource', 'NOUN', 'NN', 'dobj', 'xxxx', True, False, False, False, True, False, None, False, False), (36, 235, 0, 0, '.', '', '.', 'PUNCT', '.', 'punct', '.', False, False, False, False, False, False, None, False, False), (37, 237, 0, 0, 'It', '', '-PRON-', 'PRON', 'PRP', 'nsubj', 'Xx', True, True, False, True, False, False, True, False, False), (38, 240, 1, 2, 'aims', '', 'aim', 'VERB', 'VBZ', 'ROOT', 'xxxx', True, False, False, False, True, False, None, False, False), (39, 245, 0, 0, 'to', '', 'to', 'PART', 'TO', 'aux', 'xx', True, True, False, False, True, False, None, False, False), (40, 248, 1, 2, 'annotate', '', 'annotate', 'VERB', 'VB', 'xcomp', 'xxxx', True, False, False, False, True, False, None, False, False), (41, 257, 0, 0, 'a', '', 'a', 'DET', 'DT', 'det', 'x', True, True, False, False, True, False, None, False, False), (42, 259, 0, 0, 'large', '', 'large', 'ADJ', 'JJ', 'amod', 'xxxx', True, False, False, False, True, False, None, False, False), (43, 265, 2, 1, 'corpus', '', 'corpus', 'NOUN', 'NN', 'dobj', 'xxxx', True, False, False, False, True, False, None, False, False), (44, 272, 0, 1, 'comprising', '', 'comprise', 'VERB', 'VBG', 'acl', 'xxxx', True, False, False, False, True, False, None, False, False), (45, 283, 0, 0, 'various', '', 'various', 'ADJ', 'JJ', 'amod', 'xxxx', True, True, False, False, True, False, None, False, False), (46, 291, 1, 1, 'genres', '', 'genre', 'NOUN', 'NNS', 'dobj', 'xxxx', True, False, False, False, True, False, None, False, False), (47, 298, 0, 1, 'of', '', 'of', 'ADP', 'IN', 'prep', 'xx', True, True, False, False, True, False, None, False, False), (48, 301, 0, 1, 'text', '', 'text', 'NOUN', 'NN', 'pobj', 'xxxx', True, False, False, False, True, False, None, False, False), (49, 306, 0, 0, '(', '', '(', 'PUNCT', '-LRB-', 'punct', '(', False, False, True, False, False, False, None, False, False), (50, 307, 1, 3, 'news', '', 'news', 'NOUN', 'NN', 'appos', 'xxxx', True, False, False, False, True, False, None, False, False), (51, 311, 0, 0, ',', '', ',', 'PUNCT', ',', 'punct', ',', False, False, False, False, False, False, None, False, False), (52, 313, 0, 0, 'conversational', '', 'conversational', 'ADJ', 'JJ', 'amod', 'xxxx', True, False, False, False, True, False, None, False, False), (53, 328, 0, 0, 'telephone', '', 'telephone', 'NOUN', 'NN', 'compound', 'xxxx', True, False, False, False, True, False, None, False, False), (54, 338, 2, 2, 'speech', '', 'speech', 'NOUN', 'NN', 'conj', 'xxxx', True, False, False, False, True, False, None, False, False), (55, 344, 0, 0, ',', '', ',', 'PUNCT', ',', 'punct', ',', False, False, False, False, False, False, None, False, False), (56, 346, 0, 0, 'weblogs', '', 'weblogs', 'PROPN', 'NNP', 'conj', 'xxxx', True, False, False, False, True, False, None, False, False), (57, 353, 0, 0, ',', '', ',', 'PUNCT', ',', 'punct', ',', False, False, False, False, False, False, None, False, False), (58, 355, 0, 4, 'use', '', 'use', 'VERB', 'VBP', 'dep', 'xxx', True, False, False, False, True, False, None, False, False), (59, 359, 0, 2, 'net', '', 'net', 'NOUN', 'NN', 'dobj', 'xxx', True, False, False, False, True, False, None, False, False), (60, 362, 0, 0, ',', '', ',', 'PUNCT', ',', 'punct', ',', False, False, False, False, False, False, None, False, False), (61, 364, 0, 0, 'broadcast', '', 'broadcast', 'NOUN', 'NN', 'conj', 'xxxx', True, False, False, False, True, False, None, False, False), (62, 373, 0, 0, ',', '', ',', 'PUNCT', ',', 'punct', ',', False, False, False, False, False, False, None, False, False), (63, 375, 0, 0, 'talk', '', 'talk', 'NOUN', 'NN', 'compound', 'xxxx', True, False, False, False, True, False, None, False, False), (64, 380, 2, 1, 'shows', '', 'show', 'NOUN', 'NNS', 'dobj', 'xxxx', True, False, False, False, True, False, None, False, False), (65, 385, 0, 0, ')', '', ')', 'PUNCT', '-RRB-', 'punct', ')', False, False, True, False, False, False, None, False, False), (66, 387, 0, 1, 'in', '', 'in', 'ADP', 'IN', 'prep', 'xx', True, True, False, False, True, False, False, False, False), (67, 390, 0, 0, 'three', 'CARDINAL', 'three', 'NUM', 'CD', 'nummod', 'xxxx', True, True, False, False, True, False, None, False, False), (68, 396, 1, 3, 'languages', '', 'language', 'NOUN', 'NNS', 'pobj', 'xxxx', True, False, False, False, True, False, None, False, False), (69, 406, 0, 0, '(', '', '(', 'PUNCT', '-LRB-', 'punct', '(', False, False, True, False, False, False, None, False, False), (70, 407, 0, 2, 'English', 'LANGUAGE', 'English', 'PROPN', 'NNP', 'appos', 'Xxxxx', True, False, False, True, False, False, None, False, False), (71, 414, 0, 0, ',', '', ',', 'PUNCT', ',', 'punct', ',', False, False, False, False, False, False, None, False, False), (72, 416, 0, 3, 'Chinese', 'LANGUAGE', 'chinese', 'ADJ', 'JJ', 'conj', 'Xxxxx', True, False, False, True, False, False, None, False, False), (73, 423, 0, 0, ',', '', ',', 'PUNCT', ',', 'punct', ',', False, False, False, False, False, False, None, False, False), (74, 425, 0, 0, 'and', '', 'and', 'CCONJ', 'CC', 'cc', 'xxx', True, True, False, False, True, False, None, False, False), (75, 429, 0, 0, 'Arabic', 'LANGUAGE', 'Arabic', 'PROPN', 'NNP', 'conj', 'Xxxxx', True, False, False, True, False, False, None, False, False), (76, 435, 0, 0, ')', '', ')', 'PUNCT', '-RRB-', 'punct', ')', False, False, True, False, False, False, None, False, False), (77, 437, 0, 1, 'with', '', 'with', 'ADP', 'IN', 'prep', 'xxxx', True, True, False, False, True, False, False, False, False), (78, 442, 0, 0, 'structural', '', 'structural', 'ADJ', 'JJ', 'amod', 'xxxx', True, False, False, False, True, False, None, False, False), (79, 453, 1, 5, 'information', '', 'information', 'NOUN', 'NN', 'pobj', 'xxxx', True, False, False, False, True, False, None, False, False), (80, 465, 0, 0, '(', '', '(', 'PUNCT', '-LRB-', 'punct', '(', False, False, True, False, False, False, None, False, False), (81, 466, 0, 2, 'syntax', '', 'syntax', 'VERB', 'VB', 'appos', 'xxxx', True, False, False, False, True, False, None, False, False), (82, 473, 0, 0, 'and', '', 'and', 'CCONJ', 'CC', 'cc', 'xxx', True, True, False, False, True, False, None, False, False), (83, 477, 0, 1, 'predicate', '', 'predicate', 'VERB', 'VB', 'conj', 'xxxx', True, False, False, False, True, False, None, False, False), (84, 487, 0, 0, 'argument', '', 'argument', 'NOUN', 'NN', 'compound', 'xxxx', True, False, False, False, True, False, None, False, False), (85, 496, 1, 0, 'structure', '', 'structure', 'NOUN', 'NN', 'dobj', 'xxxx', True, False, False, False, True, False, None, False, False), (86, 505, 0, 0, ')', '', ')', 'PUNCT', '-RRB-', 'punct', ')', False, False, True, False, False, False, None, False, False), (87, 507, 0, 0, 'and', '', 'and', 'CCONJ', 'CC', 'cc', 'xxx', True, True, False, False, True, False, False, False, False), (88, 511, 0, 0, 'shallow', '', 'shallow', 'ADJ', 'JJ', 'amod', 'xxxx', True, False, False, False, True, False, None, False, False), (89, 519, 1, 3, 'semantics', '', 'semantic', 'NOUN', 'NNS', 'conj', 'xxxx', True, False, False, False, True, False, None, False, False), (90, 529, 0, 0, '(', '', '(', 'PUNCT', '-LRB-', 'punct', '(', False, False, True, False, False, False, None, False, False), (91, 530, 0, 0, 'word', '', 'word', 'NOUN', 'NN', 'compound', 'xxxx', True, False, False, False, True, False, None, False, False), (92, 535, 1, 1, 'sense', '', 'sense', 'NOUN', 'NN', 'appos', 'xxxx', True, False, False, False, True, False, None, False, False), (93, 541, 0, 1, 'linked', '', 'link', 'VERB', 'VBN', 'acl', 'xxxx', True, False, False, False, True, False, None, False, False), (94, 548, 0, 1, 'to', '', 'to', 'ADP', 'IN', 'prep', 'xx', True, True, False, False, True, False, None, False, False), (95, 551, 0, 0, 'an', '', 'an', 'DET', 'DT', 'det', 'xx', True, True, False, False, True, False, None, False, False), (96, 554, 1, 2, 'ontology', '', 'ontology', 'NOUN', 'NN', 'pobj', 'xxxx', True, False, False, False, True, False, None, False, False), (97, 563, 0, 0, 'and', '', 'and', 'CCONJ', 'CC', 'cc', 'xxx', True, True, False, False, True, False, None, False, False), (98, 567, 0, 0, 'coreference', '', 'coreference', 'NOUN', 'NN', 'conj', 'xxxx', True, False, False, False, True, False, None, False, False), (99, 578, 0, 0, ')', '', ')', 'PUNCT', '-RRB-', 'punct', ')', False, False, True, False, False, False, None, False, False), (100, 579, 0, 0, '.', '', '.', 'PUNCT', '.', 'punct', '.', False, False, False, False, False, False, False, False, False), (101, 581, 0, 0, 'OntoNotes', '', 'OntoNotes', 'PROPN', 'NNP', 'nsubj', 'XxxxXxxxx', True, False, False, False, False, False, True, False, False), (102, 591, 1, 5, 'builds', '', 'build', 'VERB', 'VBZ', 'ROOT', 'xxxx', True, False, False, False, True, False, None, False, False), (103, 598, 0, 0, 'on', '', 'on', 'ADP', 'IN', 'prt', 'xx', True, True, False, False, True, False, None, False, False), (104, 601, 0, 0, 'two', 'CARDINAL', 'two', 'NUM', 'CD', 'nummod', 'xxx', True, True, False, False, True, False, None, False, False), (105, 605, 0, 0, 'time', '', 'time', 'NOUN', 'NN', 'npadvmod', 'xxxx', True, False, False, False, True, False, None, False, False), (106, 609, 0, 0, '-', '', '-', 'PUNCT', 'HYPH', 'punct', '-', False, False, False, False, False, False, None, False, False), (107, 610, 2, 0, 'tested', '', 'test', 'VERB', 'VBN', 'amod', 'xxxx', True, False, False, False, True, False, None, False, False), (108, 617, 2, 0, 'resources', '', 'resource', 'NOUN', 'NNS', 'dobj', 'xxxx', True, False, False, False, True, False, None, False, False), (109, 626, 0, 0, ',', '', ',', 'PUNCT', ',', 'punct', ',', False, False, False, False, False, False, None, False, False), (110, 628, 0, 2, 'following', '', 'follow', 'VERB', 'VBG', 'prep', 'xxxx', True, False, False, False, True, False, None, False, False), (111, 638, 0, 0, 'the', 'ORG', 'the', 'DET', 'DT', 'det', 'xxx', True, True, False, False, True, False, None, False, False), (112, 642, 0, 0, 'Penn', 'ORG', 'Penn', 'PROPN', 'NNP', 'compound', 'Xxxx', True, False, False, True, False, False, None, False, False), (113, 647, 2, 1, 'Treebank', 'ORG', 'Treebank', 'PROPN', 'NNP', 'pobj', 'Xxxxx', True, False, False, True, False, False, None, False, False), (114, 656, 0, 1, 'for', '', 'for', 'ADP', 'IN', 'prep', 'xxx', True, True, False, False, True, False, None, False, False), (115, 660, 0, 2, 'syntax', '', 'syntax', 'NOUN', 'NN', 'pobj', 'xxxx', True, False, False, False, True, False, None, False, False), (116, 667, 0, 0, 'and', '', 'and', 'CCONJ', 'CC', 'cc', 'xxx', True, True, False, False, True, False, None, False, False), (117, 671, 0, 0, 'the', 'ORG', 'the', 'DET', 'DT', 'det', 'xxx', True, True, False, False, True, False, None, False, False), (118, 675, 0, 0, 'Penn', 'ORG', 'Penn', 'PROPN', 'NNP', 'compound', 'Xxxx', True, False, False, True, False, False, None, False, False), (119, 680, 2, 0, 'PropBank', 'ORG', 'PropBank', 'PROPN', 'NNP', 'conj', 'XxxxXxxx', True, False, False, False, False, False, None, False, False), (120, 689, 0, 1, 'for', '', 'for', 'ADP', 'IN', 'prep', 'xxx', True, True, False, False, True, False, None, False, False), (121, 693, 0, 0, 'predicate', '', 'predicate', 'NOUN', 'NN', 'compound', 'xxxx', True, False, False, False, True, False, None, False, False), (122, 702, 0, 0, '-', '', '-', 'PUNCT', 'HYPH', 'punct', '-', False, False, False, False, False, False, None, False, False), (123, 703, 2, 0, 'argument', '', 'argument', 'NOUN', 'NN', 'compound', 'xxxx', True, False, False, False, True, False, None, False, False), (124, 712, 1, 0, 'structure', '', 'structure', 'NOUN', 'NN', 'pobj', 'xxxx', True, False, False, False, True, False, None, False, False), (125, 721, 0, 0, '.', '', '.', 'PUNCT', '.', 'punct', '.', False, False, False, False, False, False, None, False, False), (126, 723, 0, 0, 'Its', '', '-PRON-', 'DET', 'PRP$', 'poss', 'Xxx', True, True, False, True, False, False, True, False, False), (127, 727, 0, 0, 'semantic', '', 'semantic', 'ADJ', 'JJ', 'amod', 'xxxx', True, False, False, False, True, False, None, False, False), (128, 736, 2, 0, 'representation', '', 'representation', 'NOUN', 'NN', 'nsubj', 'xxxx', True, False, False, False, True, False, None, False, False), (129, 751, 0, 0, 'will', '', 'will', 'VERB', 'MD', 'aux', 'xxxx', True, True, False, False, True, False, None, False, False), (130, 756, 2, 4, 'include', '', 'include', 'VERB', 'VB', 'ROOT', 'xxxx', True, False, False, False, True, False, None, False, False), (131, 764, 0, 0, 'word', '', 'word', 'NOUN', 'NN', 'compound', 'xxxx', True, False, False, False, True, False, None, False, False), (132, 769, 0, 0, 'sense', '', 'sense', 'NOUN', 'NN', 'compound', 'xxxx', True, False, False, False, True, False, None, False, False), (133, 775, 2, 1, 'disambiguation', '', 'disambiguation', 'NOUN', 'NN', 'dobj', 'xxxx', True, False, False, False, True, False, None, False, False), (134, 790, 0, 1, 'for', '', 'for', 'ADP', 'IN', 'prep', 'xxx', True, True, False, False, True, False, None, False, False), (135, 794, 0, 2, 'nouns', '', 'noun', 'NOUN', 'NNS', 'pobj', 'xxxx', True, False, False, False, True, False, None, False, False), (136, 800, 0, 0, 'and', '', 'and', 'CCONJ', 'CC', 'cc', 'xxx', True, True, False, False, True, False, None, False, False), (137, 804, 0, 0, 'verbs', '', 'verb', 'NOUN', 'NNS', 'conj', 'xxxx', True, False, False, False, True, False, None, False, False), (138, 809, 0, 0, ',', '', ',', 'PUNCT', ',', 'punct', ',', False, False, False, False, False, False, None, False, False), (139, 811, 0, 1, 'with', '', 'with', 'ADP', 'IN', 'prep', 'xxxx', True, True, False, False, True, False, None, False, False), (140, 816, 0, 0, 'each', '', 'each', 'DET', 'DT', 'det', 'xxxx', True, True, False, False, True, False, None, False, False), (141, 821, 0, 0, 'word', '', 'word', 'NOUN', 'NN', 'compound', 'xxxx', True, False, False, False, True, False, None, False, False), (142, 826, 2, 4, 'sense', '', 'sense', 'NOUN', 'NN', 'pobj', 'xxxx', True, False, False, False, True, False, None, False, False), (143, 832, 0, 1, 'connected', '', 'connect', 'VERB', 'VBN', 'acl', 'xxxx', True, False, False, False, True, False, None, False, False), (144, 842, 0, 1, 'to', '', 'to', 'ADP', 'IN', 'prep', 'xx', True, True, False, False, True, False, None, False, False), (145, 845, 0, 0, 'an', '', 'an', 'DET', 'DT', 'det', 'xx', True, True, False, False, True, False, None, False, False), (146, 848, 1, 0, 'ontology', '', 'ontology', 'NOUN', 'NN', 'pobj', 'xxxx', True, False, False, False, True, False, None, False, False), (147, 856, 0, 0, ',', '', ',', 'PUNCT', ',', 'punct', ',', False, False, False, False, False, False, None, False, False), (148, 858, 0, 0, 'and', '', 'and', 'CCONJ', 'CC', 'cc', 'xxx', True, True, False, False, True, False, None, False, False), (149, 862, 0, 0, 'coreference', '', 'coreference', 'NOUN', 'NN', 'conj', 'xxxx', True, False, False, False, True, False, None, False, False), (150, 873, 0, 0, '.', '', '.', 'PUNCT', '.', 'punct', '.', False, False, False, False, False, False, None, False, False), (151, 875, 0, 1, 'Over', '', 'over', 'ADP', 'IN', 'prep', 'Xxxx', True, True, False, True, False, False, True, False, False), (152, 880, 0, 0, 'the', '', 'the', 'DET', 'DT', 'det', 'xxx', True, True, False, False, True, False, None, False, False), (153, 884, 1, 1, 'course', '', 'course', 'NOUN', 'NN', 'pobj', 'xxxx', True, False, False, False, True, False, None, False, False), (154, 891, 0, 1, 'of', '', 'of', 'ADP', 'IN', 'prep', 'xx', True, True, False, False, True, False, None, False, False), (155, 894, 0, 0, 'the', '', 'the', 'DET', 'DT', 'det', 'xxx', True, True, False, False, True, False, None, False, False), (156, 898, 0, 0, 'five', 'DATE', 'five', 'NUM', 'CD', 'nummod', 'xxxx', True, True, False, False, True, False, None, False, False), (157, 902, 0, 0, '-', 'DATE', '-', 'PUNCT', 'HYPH', 'punct', '-', False, False, False, False, False, False, None, False, False), (158, 903, 2, 0, 'year', 'DATE', 'year', 'NOUN', 'NN', 'compound', 'xxxx', True, False, False, False, True, False, None, False, False), (159, 908, 2, 0, 'program', '', 'program', 'NOUN', 'NN', 'pobj', 'xxxx', True, False, False, False, True, False, None, False, False), (160, 915, 0, 0, ',', '', ',', 'PUNCT', ',', 'punct', ',', False, False, False, False, False, False, None, False, False), (161, 917, 0, 0, 'our', '', '-PRON-', 'DET', 'PRP$', 'poss', 'xxx', True, True, False, False, True, False, None, False, False), (162, 921, 0, 0, 'current', '', 'current', 'ADJ', 'JJ', 'amod', 'xxxx', True, False, False, False, True, False, None, False, False), (163, 929, 2, 0, 'goals', '', 'goal', 'NOUN', 'NNS', 'nsubj', 'xxxx', True, False, False, False, True, False, None, False, False), (164, 935, 3, 2, 'call', '', 'call', 'VERB', 'VBP', 'ROOT', 'xxxx', True, True, False, False, True, False, None, False, False), (165, 940, 0, 1, 'for', '', 'for', 'ADP', 'IN', 'prep', 'xxx', True, True, False, False, True, False, None, False, False), (166, 944, 0, 1, 'annotation', '', 'annotation', 'NOUN', 'NN', 'pobj', 'xxxx', True, False, False, False, True, False, None, False, False), (167, 955, 0, 1, 'of', '', 'of', 'ADP', 'IN', 'prep', 'xx', True, True, False, False, True, False, None, False, False), (168, 958, 0, 0, 'over', 'CARDINAL', 'over', 'ADP', 'IN', 'quantmod', 'xxxx', True, True, False, False, True, False, None, False, False), (169, 963, 0, 0, 'a', 'CARDINAL', 'a', 'DET', 'DT', 'quantmod', 'x', True, True, False, False, True, False, None, False, False), (170, 965, 2, 0, 'million', 'CARDINAL', 'million', 'NUM', 'CD', 'nummod', 'xxxx', True, False, False, False, True, False, None, False, False), (171, 973, 1, 4, 'words', '', 'word', 'NOUN', 'NNS', 'pobj', 'xxxx', True, False, False, False, True, False, None, False, False), (172, 979, 0, 1, 'each', '', 'each', 'DET', 'DT', 'npadvmod', 'xxxx', True, True, False, False, True, False, None, False, False), (173, 984, 0, 1, 'of', '', 'of', 'ADP', 'IN', 'prep', 'xx', True, True, False, False, True, False, None, False, False), (174, 987, 0, 2, 'English', 'LANGUAGE', 'English', 'PROPN', 'NNP', 'pobj', 'Xxxxx', True, False, False, True, False, False, None, False, False), (175, 995, 0, 0, 'and', '', 'and', 'CCONJ', 'CC', 'cc', 'xxx', True, True, False, False, True, False, None, False, False), (176, 999, 0, 0, 'Chinese', 'LANGUAGE', 'Chinese', 'PROPN', 'NNP', 'conj', 'Xxxxx', True, False, False, True, False, False, None, False, False), (177, 1006, 0, 0, ',', '', ',', 'PUNCT', ',', 'punct', ',', False, False, False, False, False, False, None, False, False), (178, 1008, 0, 0, 'and', '', 'and', 'CCONJ', 'CC', 'cc', 'xxx', True, True, False, False, True, False, None, False, False), (179, 1012, 0, 0, 'half', 'CARDINAL', 'half', 'DET', 'PDT', 'quantmod', 'xxxx', True, False, False, False, True, False, None, False, False), (180, 1017, 0, 0, 'a', 'CARDINAL', 'a', 'DET', 'DT', 'quantmod', 'x', True, True, False, False, True, False, None, False, False), (181, 1019, 2, 0, 'million', 'CARDINAL', 'million', 'NUM', 'CD', 'nummod', 'xxxx', True, False, False, False, True, False, None, False, False), (182, 1027, 1, 1, 'words', '', 'word', 'NOUN', 'NNS', 'conj', 'xxxx', True, False, False, False, True, False, None, False, False), (183, 1033, 0, 1, 'of', '', 'of', 'ADP', 'IN', 'prep', 'xx', True, True, False, False, True, False, None, False, False), (184, 1036, 0, 0, 'Arabic', 'LANGUAGE', 'Arabic', 'PROPN', 'NNP', 'pobj', 'Xxxxx', True, False, False, True, False, False, None, False, False), (185, 1042, 0, 0, '.', '', '.', 'PUNCT', '.', 'punct', '.', False, False, False, False, False, False, None, False, False)]\n",
            "OntoNotes builds on two time-tested resources, following the Penn Treebank for syntax and the Penn PropBank for predicate-argument structure.\n",
            "['The', 'OntoNotes', 'project', 'is', 'a', 'collaborative', 'effort', 'between', 'BBN', 'Technologies', ',', 'the', 'University', 'of', 'Colorado', ',', 'the', 'University', 'of', 'Pennsylvania', ',', 'and', 'the', 'University', 'of', 'Southern', 'California', \"'s\", 'Information', 'Sciences', 'Institute', 'to', 'produce', 'such', 'a', 'resource', '.', 'It', 'aims', 'to', 'annotate', 'a', 'large', 'corpus', 'comprising', 'various', 'genres', 'of', 'text', '(', 'news', ',', 'conversational', 'telephone', 'speech', ',', 'weblogs', ',', 'use', 'net', ',', 'broadcast', ',', 'talk', 'shows', ')', 'in', 'three', 'languages', '(', 'English', ',', 'Chinese', ',', 'and', 'Arabic', ')', 'with', 'structural', 'information', '(', 'syntax', 'and', 'predicate', 'argument', 'structure', ')', 'and', 'shallow', 'semantics', '(', 'word', 'sense', 'linked', 'to', 'an', 'ontology', 'and', 'coreference', ')', '.', 'OntoNotes', 'builds', 'on', 'two', 'time', '-', 'tested', 'resources', ',', 'following', 'the', 'Penn', 'Treebank', 'for', 'syntax', 'and', 'the', 'Penn', 'PropBank', 'for', 'predicate', '-', 'argument', 'structure', '.', 'Its', 'semantic', 'representation', 'will', 'include', 'word', 'sense', 'disambiguation', 'for', 'nouns', 'and', 'verbs', ',', 'with', 'each', 'word', 'sense', 'connected', 'to', 'an', 'ontology', ',', 'and', 'coreference', '.', 'Over', 'the', 'course', 'of', 'the', 'five', '-', 'year', 'program', ',', 'our', 'current', 'goals', 'call', 'for', 'annotation', 'of', 'over', 'a', 'million', 'words', 'each', 'of', 'English', 'and', 'Chinese', ',', 'and', 'half', 'a', 'million', 'words', 'of', 'Arabic', '.']\n",
            "[(0, 0, 0, 0, 'The', '', 'the', 'DET', 'DT', 'det', 'Xxx', True, True, False, True, False, False, True, False, False), (1, 4, 0, 0, 'OntoNotes', 'ORG', 'OntoNotes', 'PROPN', 'NNP', 'compound', 'XxxxXxxxx', True, False, False, False, False, False, None, False, False), (2, 14, 2, 0, 'project', '', 'project', 'NOUN', 'NN', 'nsubj', 'xxxx', True, False, False, False, True, False, None, False, False), (3, 22, 1, 2, 'is', '', 'be', 'AUX', 'VBZ', 'ROOT', 'xx', True, True, False, False, True, False, None, False, False), (4, 25, 0, 0, 'a', '', 'a', 'DET', 'DT', 'det', 'x', True, True, False, False, True, False, None, False, False), (5, 27, 0, 0, 'collaborative', '', 'collaborative', 'ADJ', 'JJ', 'amod', 'xxxx', True, False, False, False, True, False, None, False, False), (6, 41, 2, 2, 'effort', '', 'effort', 'NOUN', 'NN', 'attr', 'xxxx', True, False, False, False, True, False, None, False, False), (7, 48, 0, 1, 'between', '', 'between', 'ADP', 'IN', 'prep', 'xxxx', True, True, False, False, True, False, None, False, False), (8, 56, 0, 0, 'BBN', 'ORG', 'BBN', 'PROPN', 'NNP', 'compound', 'XXX', True, False, False, False, False, True, None, False, False), (9, 60, 1, 2, 'Technologies', 'ORG', 'Technologies', 'PROPN', 'NNPS', 'pobj', 'Xxxxx', True, False, False, True, False, False, None, False, False), (10, 72, 0, 0, ',', '', ',', 'PUNCT', ',', 'punct', ',', False, False, False, False, False, False, None, False, False), (11, 74, 0, 0, 'the', 'ORG', 'the', 'DET', 'DT', 'det', 'xxx', True, True, False, False, True, False, None, False, False), (12, 78, 1, 3, 'University', 'ORG', 'University', 'PROPN', 'NNP', 'appos', 'Xxxxx', True, False, False, True, False, False, None, False, False), (13, 89, 0, 1, 'of', 'ORG', 'of', 'ADP', 'IN', 'prep', 'xx', True, True, False, False, True, False, None, False, False), (14, 92, 0, 0, 'Colorado', 'ORG', 'Colorado', 'PROPN', 'NNP', 'pobj', 'Xxxxx', True, False, False, True, False, False, None, False, False), (15, 100, 0, 0, ',', '', ',', 'PUNCT', ',', 'punct', ',', False, False, False, False, False, False, None, False, False), (16, 102, 0, 0, 'the', 'ORG', 'the', 'DET', 'DT', 'det', 'xxx', True, True, False, False, True, False, None, False, False), (17, 106, 1, 4, 'University', 'ORG', 'University', 'PROPN', 'NNP', 'conj', 'Xxxxx', True, False, False, True, False, False, None, False, False), (18, 117, 0, 1, 'of', 'ORG', 'of', 'ADP', 'IN', 'prep', 'xx', True, True, False, False, True, False, None, False, False), (19, 120, 0, 0, 'Pennsylvania', 'ORG', 'Pennsylvania', 'PROPN', 'NNP', 'pobj', 'Xxxxx', True, False, False, True, False, False, None, False, False), (20, 132, 0, 0, ',', '', ',', 'PUNCT', ',', 'punct', ',', False, False, False, False, False, False, None, False, False), (21, 134, 0, 0, 'and', '', 'and', 'CCONJ', 'CC', 'cc', 'xxx', True, True, False, False, True, False, None, False, False), (22, 138, 0, 0, 'the', 'ORG', 'the', 'DET', 'DT', 'det', 'xxx', True, True, False, False, True, False, None, False, False), (23, 142, 1, 2, 'University', 'ORG', 'University', 'PROPN', 'NNP', 'poss', 'Xxxxx', True, False, False, True, False, False, None, False, False), (24, 153, 0, 1, 'of', 'ORG', 'of', 'ADP', 'IN', 'prep', 'xx', True, True, False, False, True, False, None, False, False), (25, 156, 0, 0, 'Southern', 'ORG', 'Southern', 'PROPN', 'NNP', 'compound', 'Xxxxx', True, False, False, True, False, False, None, False, False), (26, 165, 1, 0, 'California', 'ORG', 'California', 'PROPN', 'NNP', 'pobj', 'Xxxxx', True, False, False, True, False, False, None, False, False), (27, 175, 0, 0, \"'s\", 'ORG', \"'s\", 'PART', 'POS', 'case', \"'x\", False, True, False, False, True, False, None, False, False), (28, 178, 0, 0, 'Information', 'ORG', 'Information', 'PROPN', 'NNP', 'compound', 'Xxxxx', True, False, False, True, False, False, None, False, False), (29, 190, 1, 0, 'Sciences', 'ORG', 'Sciences', 'PROPN', 'NNPS', 'compound', 'Xxxxx', True, False, False, True, False, False, None, False, False), (30, 199, 2, 0, 'Institute', 'ORG', 'Institute', 'PROPN', 'NNP', 'conj', 'Xxxxx', True, False, False, True, False, False, None, False, False), (31, 209, 0, 0, 'to', '', 'to', 'PART', 'TO', 'aux', 'xx', True, True, False, False, True, False, None, False, False), (32, 212, 1, 1, 'produce', '', 'produce', 'VERB', 'VB', 'acl', 'xxxx', True, False, False, False, True, False, None, False, False), (33, 220, 0, 0, 'such', '', 'such', 'DET', 'PDT', 'predet', 'xxxx', True, True, False, False, True, False, None, False, False), (34, 225, 0, 0, 'a', '', 'a', 'DET', 'DT', 'det', 'x', True, True, False, False, True, False, None, False, False), (35, 227, 2, 0, 'resource', '', 'resource', 'NOUN', 'NN', 'dobj', 'xxxx', True, False, False, False, True, False, None, False, False), (36, 235, 0, 0, '.', '', '.', 'PUNCT', '.', 'punct', '.', False, False, False, False, False, False, None, False, False), (37, 237, 0, 0, 'It', '', '-PRON-', 'PRON', 'PRP', 'nsubj', 'Xx', True, True, False, True, False, False, True, False, False), (38, 240, 1, 2, 'aims', '', 'aim', 'VERB', 'VBZ', 'ROOT', 'xxxx', True, False, False, False, True, False, None, False, False), (39, 245, 0, 0, 'to', '', 'to', 'PART', 'TO', 'aux', 'xx', True, True, False, False, True, False, None, False, False), (40, 248, 1, 2, 'annotate', '', 'annotate', 'VERB', 'VB', 'xcomp', 'xxxx', True, False, False, False, True, False, None, False, False), (41, 257, 0, 0, 'a', '', 'a', 'DET', 'DT', 'det', 'x', True, True, False, False, True, False, None, False, False), (42, 259, 0, 0, 'large', '', 'large', 'ADJ', 'JJ', 'amod', 'xxxx', True, False, False, False, True, False, None, False, False), (43, 265, 2, 1, 'corpus', '', 'corpus', 'NOUN', 'NN', 'dobj', 'xxxx', True, False, False, False, True, False, None, False, False), (44, 272, 0, 1, 'comprising', '', 'comprise', 'VERB', 'VBG', 'acl', 'xxxx', True, False, False, False, True, False, None, False, False), (45, 283, 0, 0, 'various', '', 'various', 'ADJ', 'JJ', 'amod', 'xxxx', True, True, False, False, True, False, None, False, False), (46, 291, 1, 1, 'genres', '', 'genre', 'NOUN', 'NNS', 'dobj', 'xxxx', True, False, False, False, True, False, None, False, False), (47, 298, 0, 1, 'of', '', 'of', 'ADP', 'IN', 'prep', 'xx', True, True, False, False, True, False, None, False, False), (48, 301, 0, 1, 'text', '', 'text', 'NOUN', 'NN', 'pobj', 'xxxx', True, False, False, False, True, False, None, False, False), (49, 306, 0, 0, '(', '', '(', 'PUNCT', '-LRB-', 'punct', '(', False, False, True, False, False, False, None, False, False), (50, 307, 1, 3, 'news', '', 'news', 'NOUN', 'NN', 'appos', 'xxxx', True, False, False, False, True, False, None, False, False), (51, 311, 0, 0, ',', '', ',', 'PUNCT', ',', 'punct', ',', False, False, False, False, False, False, None, False, False), (52, 313, 0, 0, 'conversational', '', 'conversational', 'ADJ', 'JJ', 'amod', 'xxxx', True, False, False, False, True, False, None, False, False), (53, 328, 0, 0, 'telephone', '', 'telephone', 'NOUN', 'NN', 'compound', 'xxxx', True, False, False, False, True, False, None, False, False), (54, 338, 2, 2, 'speech', '', 'speech', 'NOUN', 'NN', 'conj', 'xxxx', True, False, False, False, True, False, None, False, False), (55, 344, 0, 0, ',', '', ',', 'PUNCT', ',', 'punct', ',', False, False, False, False, False, False, None, False, False), (56, 346, 0, 0, 'weblogs', '', 'weblogs', 'PROPN', 'NNP', 'conj', 'xxxx', True, False, False, False, True, False, None, False, False), (57, 353, 0, 0, ',', '', ',', 'PUNCT', ',', 'punct', ',', False, False, False, False, False, False, None, False, False), (58, 355, 0, 4, 'use', '', 'use', 'VERB', 'VBP', 'dep', 'xxx', True, False, False, False, True, False, None, False, False), (59, 359, 0, 2, 'net', '', 'net', 'NOUN', 'NN', 'dobj', 'xxx', True, False, False, False, True, False, None, False, False), (60, 362, 0, 0, ',', '', ',', 'PUNCT', ',', 'punct', ',', False, False, False, False, False, False, None, False, False), (61, 364, 0, 0, 'broadcast', '', 'broadcast', 'NOUN', 'NN', 'conj', 'xxxx', True, False, False, False, True, False, None, False, False), (62, 373, 0, 0, ',', '', ',', 'PUNCT', ',', 'punct', ',', False, False, False, False, False, False, None, False, False), (63, 375, 0, 0, 'talk', '', 'talk', 'NOUN', 'NN', 'compound', 'xxxx', True, False, False, False, True, False, None, False, False), (64, 380, 2, 1, 'shows', '', 'show', 'NOUN', 'NNS', 'dobj', 'xxxx', True, False, False, False, True, False, None, False, False), (65, 385, 0, 0, ')', '', ')', 'PUNCT', '-RRB-', 'punct', ')', False, False, True, False, False, False, None, False, False), (66, 387, 0, 1, 'in', '', 'in', 'ADP', 'IN', 'prep', 'xx', True, True, False, False, True, False, False, False, False), (67, 390, 0, 0, 'three', 'CARDINAL', 'three', 'NUM', 'CD', 'nummod', 'xxxx', True, True, False, False, True, False, None, False, False), (68, 396, 1, 3, 'languages', '', 'language', 'NOUN', 'NNS', 'pobj', 'xxxx', True, False, False, False, True, False, None, False, False), (69, 406, 0, 0, '(', '', '(', 'PUNCT', '-LRB-', 'punct', '(', False, False, True, False, False, False, None, False, False), (70, 407, 0, 2, 'English', 'LANGUAGE', 'English', 'PROPN', 'NNP', 'appos', 'Xxxxx', True, False, False, True, False, False, None, False, False), (71, 414, 0, 0, ',', '', ',', 'PUNCT', ',', 'punct', ',', False, False, False, False, False, False, None, False, False), (72, 416, 0, 3, 'Chinese', 'LANGUAGE', 'chinese', 'ADJ', 'JJ', 'conj', 'Xxxxx', True, False, False, True, False, False, None, False, False), (73, 423, 0, 0, ',', '', ',', 'PUNCT', ',', 'punct', ',', False, False, False, False, False, False, None, False, False), (74, 425, 0, 0, 'and', '', 'and', 'CCONJ', 'CC', 'cc', 'xxx', True, True, False, False, True, False, None, False, False), (75, 429, 0, 0, 'Arabic', 'LANGUAGE', 'Arabic', 'PROPN', 'NNP', 'conj', 'Xxxxx', True, False, False, True, False, False, None, False, False), (76, 435, 0, 0, ')', '', ')', 'PUNCT', '-RRB-', 'punct', ')', False, False, True, False, False, False, None, False, False), (77, 437, 0, 1, 'with', '', 'with', 'ADP', 'IN', 'prep', 'xxxx', True, True, False, False, True, False, False, False, False), (78, 442, 0, 0, 'structural', '', 'structural', 'ADJ', 'JJ', 'amod', 'xxxx', True, False, False, False, True, False, None, False, False), (79, 453, 1, 5, 'information', '', 'information', 'NOUN', 'NN', 'pobj', 'xxxx', True, False, False, False, True, False, None, False, False), (80, 465, 0, 0, '(', '', '(', 'PUNCT', '-LRB-', 'punct', '(', False, False, True, False, False, False, None, False, False), (81, 466, 0, 2, 'syntax', '', 'syntax', 'VERB', 'VB', 'appos', 'xxxx', True, False, False, False, True, False, None, False, False), (82, 473, 0, 0, 'and', '', 'and', 'CCONJ', 'CC', 'cc', 'xxx', True, True, False, False, True, False, None, False, False), (83, 477, 0, 1, 'predicate', '', 'predicate', 'VERB', 'VB', 'conj', 'xxxx', True, False, False, False, True, False, None, False, False), (84, 487, 0, 0, 'argument', '', 'argument', 'NOUN', 'NN', 'compound', 'xxxx', True, False, False, False, True, False, None, False, False), (85, 496, 1, 0, 'structure', '', 'structure', 'NOUN', 'NN', 'dobj', 'xxxx', True, False, False, False, True, False, None, False, False), (86, 505, 0, 0, ')', '', ')', 'PUNCT', '-RRB-', 'punct', ')', False, False, True, False, False, False, None, False, False), (87, 507, 0, 0, 'and', '', 'and', 'CCONJ', 'CC', 'cc', 'xxx', True, True, False, False, True, False, False, False, False), (88, 511, 0, 0, 'shallow', '', 'shallow', 'ADJ', 'JJ', 'amod', 'xxxx', True, False, False, False, True, False, None, False, False), (89, 519, 1, 3, 'semantics', '', 'semantic', 'NOUN', 'NNS', 'conj', 'xxxx', True, False, False, False, True, False, None, False, False), (90, 529, 0, 0, '(', '', '(', 'PUNCT', '-LRB-', 'punct', '(', False, False, True, False, False, False, None, False, False), (91, 530, 0, 0, 'word', '', 'word', 'NOUN', 'NN', 'compound', 'xxxx', True, False, False, False, True, False, None, False, False), (92, 535, 1, 1, 'sense', '', 'sense', 'NOUN', 'NN', 'appos', 'xxxx', True, False, False, False, True, False, None, False, False), (93, 541, 0, 1, 'linked', '', 'link', 'VERB', 'VBN', 'acl', 'xxxx', True, False, False, False, True, False, None, False, False), (94, 548, 0, 1, 'to', '', 'to', 'ADP', 'IN', 'prep', 'xx', True, True, False, False, True, False, None, False, False), (95, 551, 0, 0, 'an', '', 'an', 'DET', 'DT', 'det', 'xx', True, True, False, False, True, False, None, False, False), (96, 554, 1, 2, 'ontology', '', 'ontology', 'NOUN', 'NN', 'pobj', 'xxxx', True, False, False, False, True, False, None, False, False), (97, 563, 0, 0, 'and', '', 'and', 'CCONJ', 'CC', 'cc', 'xxx', True, True, False, False, True, False, None, False, False), (98, 567, 0, 0, 'coreference', '', 'coreference', 'NOUN', 'NN', 'conj', 'xxxx', True, False, False, False, True, False, None, False, False), (99, 578, 0, 0, ')', '', ')', 'PUNCT', '-RRB-', 'punct', ')', False, False, True, False, False, False, None, False, False), (100, 579, 0, 0, '.', '', '.', 'PUNCT', '.', 'punct', '.', False, False, False, False, False, False, False, False, False), (101, 581, 0, 0, 'OntoNotes', '', 'OntoNotes', 'PROPN', 'NNP', 'nsubj', 'XxxxXxxxx', True, False, False, False, False, False, True, False, False), (102, 591, 1, 5, 'builds', '', 'build', 'VERB', 'VBZ', 'ROOT', 'xxxx', True, False, False, False, True, False, None, False, False), (103, 598, 0, 0, 'on', '', 'on', 'ADP', 'IN', 'prt', 'xx', True, True, False, False, True, False, None, False, False), (104, 601, 0, 0, 'two', 'CARDINAL', 'two', 'NUM', 'CD', 'nummod', 'xxx', True, True, False, False, True, False, None, False, False), (105, 605, 0, 0, 'time', '', 'time', 'NOUN', 'NN', 'npadvmod', 'xxxx', True, False, False, False, True, False, None, False, False), (106, 609, 0, 0, '-', '', '-', 'PUNCT', 'HYPH', 'punct', '-', False, False, False, False, False, False, None, False, False), (107, 610, 2, 0, 'tested', '', 'test', 'VERB', 'VBN', 'amod', 'xxxx', True, False, False, False, True, False, None, False, False), (108, 617, 2, 0, 'resources', '', 'resource', 'NOUN', 'NNS', 'dobj', 'xxxx', True, False, False, False, True, False, None, False, False), (109, 626, 0, 0, ',', '', ',', 'PUNCT', ',', 'punct', ',', False, False, False, False, False, False, None, False, False), (110, 628, 0, 2, 'following', '', 'follow', 'VERB', 'VBG', 'prep', 'xxxx', True, False, False, False, True, False, None, False, False), (111, 638, 0, 0, 'the', 'ORG', 'the', 'DET', 'DT', 'det', 'xxx', True, True, False, False, True, False, None, False, False), (112, 642, 0, 0, 'Penn', 'ORG', 'Penn', 'PROPN', 'NNP', 'compound', 'Xxxx', True, False, False, True, False, False, None, False, False), (113, 647, 2, 1, 'Treebank', 'ORG', 'Treebank', 'PROPN', 'NNP', 'pobj', 'Xxxxx', True, False, False, True, False, False, None, False, False), (114, 656, 0, 1, 'for', '', 'for', 'ADP', 'IN', 'prep', 'xxx', True, True, False, False, True, False, None, False, False), (115, 660, 0, 2, 'syntax', '', 'syntax', 'NOUN', 'NN', 'pobj', 'xxxx', True, False, False, False, True, False, None, False, False), (116, 667, 0, 0, 'and', '', 'and', 'CCONJ', 'CC', 'cc', 'xxx', True, True, False, False, True, False, None, False, False), (117, 671, 0, 0, 'the', 'ORG', 'the', 'DET', 'DT', 'det', 'xxx', True, True, False, False, True, False, None, False, False), (118, 675, 0, 0, 'Penn', 'ORG', 'Penn', 'PROPN', 'NNP', 'compound', 'Xxxx', True, False, False, True, False, False, None, False, False), (119, 680, 2, 0, 'PropBank', 'ORG', 'PropBank', 'PROPN', 'NNP', 'conj', 'XxxxXxxx', True, False, False, False, False, False, None, False, False), (120, 689, 0, 1, 'for', '', 'for', 'ADP', 'IN', 'prep', 'xxx', True, True, False, False, True, False, None, False, False), (121, 693, 0, 0, 'predicate', '', 'predicate', 'NOUN', 'NN', 'compound', 'xxxx', True, False, False, False, True, False, None, False, False), (122, 702, 0, 0, '-', '', '-', 'PUNCT', 'HYPH', 'punct', '-', False, False, False, False, False, False, None, False, False), (123, 703, 2, 0, 'argument', '', 'argument', 'NOUN', 'NN', 'compound', 'xxxx', True, False, False, False, True, False, None, False, False), (124, 712, 1, 0, 'structure', '', 'structure', 'NOUN', 'NN', 'pobj', 'xxxx', True, False, False, False, True, False, None, False, False), (125, 721, 0, 0, '.', '', '.', 'PUNCT', '.', 'punct', '.', False, False, False, False, False, False, None, False, False), (126, 723, 0, 0, 'Its', '', '-PRON-', 'DET', 'PRP$', 'poss', 'Xxx', True, True, False, True, False, False, True, False, False), (127, 727, 0, 0, 'semantic', '', 'semantic', 'ADJ', 'JJ', 'amod', 'xxxx', True, False, False, False, True, False, None, False, False), (128, 736, 2, 0, 'representation', '', 'representation', 'NOUN', 'NN', 'nsubj', 'xxxx', True, False, False, False, True, False, None, False, False), (129, 751, 0, 0, 'will', '', 'will', 'VERB', 'MD', 'aux', 'xxxx', True, True, False, False, True, False, None, False, False), (130, 756, 2, 4, 'include', '', 'include', 'VERB', 'VB', 'ROOT', 'xxxx', True, False, False, False, True, False, None, False, False), (131, 764, 0, 0, 'word', '', 'word', 'NOUN', 'NN', 'compound', 'xxxx', True, False, False, False, True, False, None, False, False), (132, 769, 0, 0, 'sense', '', 'sense', 'NOUN', 'NN', 'compound', 'xxxx', True, False, False, False, True, False, None, False, False), (133, 775, 2, 1, 'disambiguation', '', 'disambiguation', 'NOUN', 'NN', 'dobj', 'xxxx', True, False, False, False, True, False, None, False, False), (134, 790, 0, 1, 'for', '', 'for', 'ADP', 'IN', 'prep', 'xxx', True, True, False, False, True, False, None, False, False), (135, 794, 0, 2, 'nouns', '', 'noun', 'NOUN', 'NNS', 'pobj', 'xxxx', True, False, False, False, True, False, None, False, False), (136, 800, 0, 0, 'and', '', 'and', 'CCONJ', 'CC', 'cc', 'xxx', True, True, False, False, True, False, None, False, False), (137, 804, 0, 0, 'verbs', '', 'verb', 'NOUN', 'NNS', 'conj', 'xxxx', True, False, False, False, True, False, None, False, False), (138, 809, 0, 0, ',', '', ',', 'PUNCT', ',', 'punct', ',', False, False, False, False, False, False, None, False, False), (139, 811, 0, 1, 'with', '', 'with', 'ADP', 'IN', 'prep', 'xxxx', True, True, False, False, True, False, None, False, False), (140, 816, 0, 0, 'each', '', 'each', 'DET', 'DT', 'det', 'xxxx', True, True, False, False, True, False, None, False, False), (141, 821, 0, 0, 'word', '', 'word', 'NOUN', 'NN', 'compound', 'xxxx', True, False, False, False, True, False, None, False, False), (142, 826, 2, 4, 'sense', '', 'sense', 'NOUN', 'NN', 'pobj', 'xxxx', True, False, False, False, True, False, None, False, False), (143, 832, 0, 1, 'connected', '', 'connect', 'VERB', 'VBN', 'acl', 'xxxx', True, False, False, False, True, False, None, False, False), (144, 842, 0, 1, 'to', '', 'to', 'ADP', 'IN', 'prep', 'xx', True, True, False, False, True, False, None, False, False), (145, 845, 0, 0, 'an', '', 'an', 'DET', 'DT', 'det', 'xx', True, True, False, False, True, False, None, False, False), (146, 848, 1, 0, 'ontology', '', 'ontology', 'NOUN', 'NN', 'pobj', 'xxxx', True, False, False, False, True, False, None, False, False), (147, 856, 0, 0, ',', '', ',', 'PUNCT', ',', 'punct', ',', False, False, False, False, False, False, None, False, False), (148, 858, 0, 0, 'and', '', 'and', 'CCONJ', 'CC', 'cc', 'xxx', True, True, False, False, True, False, None, False, False), (149, 862, 0, 0, 'coreference', '', 'coreference', 'NOUN', 'NN', 'conj', 'xxxx', True, False, False, False, True, False, None, False, False), (150, 873, 0, 0, '.', '', '.', 'PUNCT', '.', 'punct', '.', False, False, False, False, False, False, None, False, False), (151, 875, 0, 1, 'Over', '', 'over', 'ADP', 'IN', 'prep', 'Xxxx', True, True, False, True, False, False, True, False, False), (152, 880, 0, 0, 'the', '', 'the', 'DET', 'DT', 'det', 'xxx', True, True, False, False, True, False, None, False, False), (153, 884, 1, 1, 'course', '', 'course', 'NOUN', 'NN', 'pobj', 'xxxx', True, False, False, False, True, False, None, False, False), (154, 891, 0, 1, 'of', '', 'of', 'ADP', 'IN', 'prep', 'xx', True, True, False, False, True, False, None, False, False), (155, 894, 0, 0, 'the', '', 'the', 'DET', 'DT', 'det', 'xxx', True, True, False, False, True, False, None, False, False), (156, 898, 0, 0, 'five', 'DATE', 'five', 'NUM', 'CD', 'nummod', 'xxxx', True, True, False, False, True, False, None, False, False), (157, 902, 0, 0, '-', 'DATE', '-', 'PUNCT', 'HYPH', 'punct', '-', False, False, False, False, False, False, None, False, False), (158, 903, 2, 0, 'year', 'DATE', 'year', 'NOUN', 'NN', 'compound', 'xxxx', True, False, False, False, True, False, None, False, False), (159, 908, 2, 0, 'program', '', 'program', 'NOUN', 'NN', 'pobj', 'xxxx', True, False, False, False, True, False, None, False, False), (160, 915, 0, 0, ',', '', ',', 'PUNCT', ',', 'punct', ',', False, False, False, False, False, False, None, False, False), (161, 917, 0, 0, 'our', '', '-PRON-', 'DET', 'PRP$', 'poss', 'xxx', True, True, False, False, True, False, None, False, False), (162, 921, 0, 0, 'current', '', 'current', 'ADJ', 'JJ', 'amod', 'xxxx', True, False, False, False, True, False, None, False, False), (163, 929, 2, 0, 'goals', '', 'goal', 'NOUN', 'NNS', 'nsubj', 'xxxx', True, False, False, False, True, False, None, False, False), (164, 935, 3, 2, 'call', '', 'call', 'VERB', 'VBP', 'ROOT', 'xxxx', True, True, False, False, True, False, None, False, False), (165, 940, 0, 1, 'for', '', 'for', 'ADP', 'IN', 'prep', 'xxx', True, True, False, False, True, False, None, False, False), (166, 944, 0, 1, 'annotation', '', 'annotation', 'NOUN', 'NN', 'pobj', 'xxxx', True, False, False, False, True, False, None, False, False), (167, 955, 0, 1, 'of', '', 'of', 'ADP', 'IN', 'prep', 'xx', True, True, False, False, True, False, None, False, False), (168, 958, 0, 0, 'over', 'CARDINAL', 'over', 'ADP', 'IN', 'quantmod', 'xxxx', True, True, False, False, True, False, None, False, False), (169, 963, 0, 0, 'a', 'CARDINAL', 'a', 'DET', 'DT', 'quantmod', 'x', True, True, False, False, True, False, None, False, False), (170, 965, 2, 0, 'million', 'CARDINAL', 'million', 'NUM', 'CD', 'nummod', 'xxxx', True, False, False, False, True, False, None, False, False), (171, 973, 1, 4, 'words', '', 'word', 'NOUN', 'NNS', 'pobj', 'xxxx', True, False, False, False, True, False, None, False, False), (172, 979, 0, 1, 'each', '', 'each', 'DET', 'DT', 'npadvmod', 'xxxx', True, True, False, False, True, False, None, False, False), (173, 984, 0, 1, 'of', '', 'of', 'ADP', 'IN', 'prep', 'xx', True, True, False, False, True, False, None, False, False), (174, 987, 0, 2, 'English', 'LANGUAGE', 'English', 'PROPN', 'NNP', 'pobj', 'Xxxxx', True, False, False, True, False, False, None, False, False), (175, 995, 0, 0, 'and', '', 'and', 'CCONJ', 'CC', 'cc', 'xxx', True, True, False, False, True, False, None, False, False), (176, 999, 0, 0, 'Chinese', 'LANGUAGE', 'Chinese', 'PROPN', 'NNP', 'conj', 'Xxxxx', True, False, False, True, False, False, None, False, False), (177, 1006, 0, 0, ',', '', ',', 'PUNCT', ',', 'punct', ',', False, False, False, False, False, False, None, False, False), (178, 1008, 0, 0, 'and', '', 'and', 'CCONJ', 'CC', 'cc', 'xxx', True, True, False, False, True, False, None, False, False), (179, 1012, 0, 0, 'half', 'CARDINAL', 'half', 'DET', 'PDT', 'quantmod', 'xxxx', True, False, False, False, True, False, None, False, False), (180, 1017, 0, 0, 'a', 'CARDINAL', 'a', 'DET', 'DT', 'quantmod', 'x', True, True, False, False, True, False, None, False, False), (181, 1019, 2, 0, 'million', 'CARDINAL', 'million', 'NUM', 'CD', 'nummod', 'xxxx', True, False, False, False, True, False, None, False, False), (182, 1027, 1, 1, 'words', '', 'word', 'NOUN', 'NNS', 'conj', 'xxxx', True, False, False, False, True, False, None, False, False), (183, 1033, 0, 1, 'of', '', 'of', 'ADP', 'IN', 'prep', 'xx', True, True, False, False, True, False, None, False, False), (184, 1036, 0, 0, 'Arabic', 'LANGUAGE', 'Arabic', 'PROPN', 'NNP', 'pobj', 'Xxxxx', True, False, False, True, False, False, None, False, False), (185, 1042, 0, 0, '.', '', '.', 'PUNCT', '.', 'punct', '.', False, False, False, False, False, False, None, False, False)]\n",
            "Its semantic representation will include word sense disambiguation for nouns and verbs, with each word sense connected to an ontology, and coreference.\n",
            "['The', 'OntoNotes', 'project', 'is', 'a', 'collaborative', 'effort', 'between', 'BBN', 'Technologies', ',', 'the', 'University', 'of', 'Colorado', ',', 'the', 'University', 'of', 'Pennsylvania', ',', 'and', 'the', 'University', 'of', 'Southern', 'California', \"'s\", 'Information', 'Sciences', 'Institute', 'to', 'produce', 'such', 'a', 'resource', '.', 'It', 'aims', 'to', 'annotate', 'a', 'large', 'corpus', 'comprising', 'various', 'genres', 'of', 'text', '(', 'news', ',', 'conversational', 'telephone', 'speech', ',', 'weblogs', ',', 'use', 'net', ',', 'broadcast', ',', 'talk', 'shows', ')', 'in', 'three', 'languages', '(', 'English', ',', 'Chinese', ',', 'and', 'Arabic', ')', 'with', 'structural', 'information', '(', 'syntax', 'and', 'predicate', 'argument', 'structure', ')', 'and', 'shallow', 'semantics', '(', 'word', 'sense', 'linked', 'to', 'an', 'ontology', 'and', 'coreference', ')', '.', 'OntoNotes', 'builds', 'on', 'two', 'time', '-', 'tested', 'resources', ',', 'following', 'the', 'Penn', 'Treebank', 'for', 'syntax', 'and', 'the', 'Penn', 'PropBank', 'for', 'predicate', '-', 'argument', 'structure', '.', 'Its', 'semantic', 'representation', 'will', 'include', 'word', 'sense', 'disambiguation', 'for', 'nouns', 'and', 'verbs', ',', 'with', 'each', 'word', 'sense', 'connected', 'to', 'an', 'ontology', ',', 'and', 'coreference', '.', 'Over', 'the', 'course', 'of', 'the', 'five', '-', 'year', 'program', ',', 'our', 'current', 'goals', 'call', 'for', 'annotation', 'of', 'over', 'a', 'million', 'words', 'each', 'of', 'English', 'and', 'Chinese', ',', 'and', 'half', 'a', 'million', 'words', 'of', 'Arabic', '.']\n",
            "[(0, 0, 0, 0, 'The', '', 'the', 'DET', 'DT', 'det', 'Xxx', True, True, False, True, False, False, True, False, False), (1, 4, 0, 0, 'OntoNotes', 'ORG', 'OntoNotes', 'PROPN', 'NNP', 'compound', 'XxxxXxxxx', True, False, False, False, False, False, None, False, False), (2, 14, 2, 0, 'project', '', 'project', 'NOUN', 'NN', 'nsubj', 'xxxx', True, False, False, False, True, False, None, False, False), (3, 22, 1, 2, 'is', '', 'be', 'AUX', 'VBZ', 'ROOT', 'xx', True, True, False, False, True, False, None, False, False), (4, 25, 0, 0, 'a', '', 'a', 'DET', 'DT', 'det', 'x', True, True, False, False, True, False, None, False, False), (5, 27, 0, 0, 'collaborative', '', 'collaborative', 'ADJ', 'JJ', 'amod', 'xxxx', True, False, False, False, True, False, None, False, False), (6, 41, 2, 2, 'effort', '', 'effort', 'NOUN', 'NN', 'attr', 'xxxx', True, False, False, False, True, False, None, False, False), (7, 48, 0, 1, 'between', '', 'between', 'ADP', 'IN', 'prep', 'xxxx', True, True, False, False, True, False, None, False, False), (8, 56, 0, 0, 'BBN', 'ORG', 'BBN', 'PROPN', 'NNP', 'compound', 'XXX', True, False, False, False, False, True, None, False, False), (9, 60, 1, 2, 'Technologies', 'ORG', 'Technologies', 'PROPN', 'NNPS', 'pobj', 'Xxxxx', True, False, False, True, False, False, None, False, False), (10, 72, 0, 0, ',', '', ',', 'PUNCT', ',', 'punct', ',', False, False, False, False, False, False, None, False, False), (11, 74, 0, 0, 'the', 'ORG', 'the', 'DET', 'DT', 'det', 'xxx', True, True, False, False, True, False, None, False, False), (12, 78, 1, 3, 'University', 'ORG', 'University', 'PROPN', 'NNP', 'appos', 'Xxxxx', True, False, False, True, False, False, None, False, False), (13, 89, 0, 1, 'of', 'ORG', 'of', 'ADP', 'IN', 'prep', 'xx', True, True, False, False, True, False, None, False, False), (14, 92, 0, 0, 'Colorado', 'ORG', 'Colorado', 'PROPN', 'NNP', 'pobj', 'Xxxxx', True, False, False, True, False, False, None, False, False), (15, 100, 0, 0, ',', '', ',', 'PUNCT', ',', 'punct', ',', False, False, False, False, False, False, None, False, False), (16, 102, 0, 0, 'the', 'ORG', 'the', 'DET', 'DT', 'det', 'xxx', True, True, False, False, True, False, None, False, False), (17, 106, 1, 4, 'University', 'ORG', 'University', 'PROPN', 'NNP', 'conj', 'Xxxxx', True, False, False, True, False, False, None, False, False), (18, 117, 0, 1, 'of', 'ORG', 'of', 'ADP', 'IN', 'prep', 'xx', True, True, False, False, True, False, None, False, False), (19, 120, 0, 0, 'Pennsylvania', 'ORG', 'Pennsylvania', 'PROPN', 'NNP', 'pobj', 'Xxxxx', True, False, False, True, False, False, None, False, False), (20, 132, 0, 0, ',', '', ',', 'PUNCT', ',', 'punct', ',', False, False, False, False, False, False, None, False, False), (21, 134, 0, 0, 'and', '', 'and', 'CCONJ', 'CC', 'cc', 'xxx', True, True, False, False, True, False, None, False, False), (22, 138, 0, 0, 'the', 'ORG', 'the', 'DET', 'DT', 'det', 'xxx', True, True, False, False, True, False, None, False, False), (23, 142, 1, 2, 'University', 'ORG', 'University', 'PROPN', 'NNP', 'poss', 'Xxxxx', True, False, False, True, False, False, None, False, False), (24, 153, 0, 1, 'of', 'ORG', 'of', 'ADP', 'IN', 'prep', 'xx', True, True, False, False, True, False, None, False, False), (25, 156, 0, 0, 'Southern', 'ORG', 'Southern', 'PROPN', 'NNP', 'compound', 'Xxxxx', True, False, False, True, False, False, None, False, False), (26, 165, 1, 0, 'California', 'ORG', 'California', 'PROPN', 'NNP', 'pobj', 'Xxxxx', True, False, False, True, False, False, None, False, False), (27, 175, 0, 0, \"'s\", 'ORG', \"'s\", 'PART', 'POS', 'case', \"'x\", False, True, False, False, True, False, None, False, False), (28, 178, 0, 0, 'Information', 'ORG', 'Information', 'PROPN', 'NNP', 'compound', 'Xxxxx', True, False, False, True, False, False, None, False, False), (29, 190, 1, 0, 'Sciences', 'ORG', 'Sciences', 'PROPN', 'NNPS', 'compound', 'Xxxxx', True, False, False, True, False, False, None, False, False), (30, 199, 2, 0, 'Institute', 'ORG', 'Institute', 'PROPN', 'NNP', 'conj', 'Xxxxx', True, False, False, True, False, False, None, False, False), (31, 209, 0, 0, 'to', '', 'to', 'PART', 'TO', 'aux', 'xx', True, True, False, False, True, False, None, False, False), (32, 212, 1, 1, 'produce', '', 'produce', 'VERB', 'VB', 'acl', 'xxxx', True, False, False, False, True, False, None, False, False), (33, 220, 0, 0, 'such', '', 'such', 'DET', 'PDT', 'predet', 'xxxx', True, True, False, False, True, False, None, False, False), (34, 225, 0, 0, 'a', '', 'a', 'DET', 'DT', 'det', 'x', True, True, False, False, True, False, None, False, False), (35, 227, 2, 0, 'resource', '', 'resource', 'NOUN', 'NN', 'dobj', 'xxxx', True, False, False, False, True, False, None, False, False), (36, 235, 0, 0, '.', '', '.', 'PUNCT', '.', 'punct', '.', False, False, False, False, False, False, None, False, False), (37, 237, 0, 0, 'It', '', '-PRON-', 'PRON', 'PRP', 'nsubj', 'Xx', True, True, False, True, False, False, True, False, False), (38, 240, 1, 2, 'aims', '', 'aim', 'VERB', 'VBZ', 'ROOT', 'xxxx', True, False, False, False, True, False, None, False, False), (39, 245, 0, 0, 'to', '', 'to', 'PART', 'TO', 'aux', 'xx', True, True, False, False, True, False, None, False, False), (40, 248, 1, 2, 'annotate', '', 'annotate', 'VERB', 'VB', 'xcomp', 'xxxx', True, False, False, False, True, False, None, False, False), (41, 257, 0, 0, 'a', '', 'a', 'DET', 'DT', 'det', 'x', True, True, False, False, True, False, None, False, False), (42, 259, 0, 0, 'large', '', 'large', 'ADJ', 'JJ', 'amod', 'xxxx', True, False, False, False, True, False, None, False, False), (43, 265, 2, 1, 'corpus', '', 'corpus', 'NOUN', 'NN', 'dobj', 'xxxx', True, False, False, False, True, False, None, False, False), (44, 272, 0, 1, 'comprising', '', 'comprise', 'VERB', 'VBG', 'acl', 'xxxx', True, False, False, False, True, False, None, False, False), (45, 283, 0, 0, 'various', '', 'various', 'ADJ', 'JJ', 'amod', 'xxxx', True, True, False, False, True, False, None, False, False), (46, 291, 1, 1, 'genres', '', 'genre', 'NOUN', 'NNS', 'dobj', 'xxxx', True, False, False, False, True, False, None, False, False), (47, 298, 0, 1, 'of', '', 'of', 'ADP', 'IN', 'prep', 'xx', True, True, False, False, True, False, None, False, False), (48, 301, 0, 1, 'text', '', 'text', 'NOUN', 'NN', 'pobj', 'xxxx', True, False, False, False, True, False, None, False, False), (49, 306, 0, 0, '(', '', '(', 'PUNCT', '-LRB-', 'punct', '(', False, False, True, False, False, False, None, False, False), (50, 307, 1, 3, 'news', '', 'news', 'NOUN', 'NN', 'appos', 'xxxx', True, False, False, False, True, False, None, False, False), (51, 311, 0, 0, ',', '', ',', 'PUNCT', ',', 'punct', ',', False, False, False, False, False, False, None, False, False), (52, 313, 0, 0, 'conversational', '', 'conversational', 'ADJ', 'JJ', 'amod', 'xxxx', True, False, False, False, True, False, None, False, False), (53, 328, 0, 0, 'telephone', '', 'telephone', 'NOUN', 'NN', 'compound', 'xxxx', True, False, False, False, True, False, None, False, False), (54, 338, 2, 2, 'speech', '', 'speech', 'NOUN', 'NN', 'conj', 'xxxx', True, False, False, False, True, False, None, False, False), (55, 344, 0, 0, ',', '', ',', 'PUNCT', ',', 'punct', ',', False, False, False, False, False, False, None, False, False), (56, 346, 0, 0, 'weblogs', '', 'weblogs', 'PROPN', 'NNP', 'conj', 'xxxx', True, False, False, False, True, False, None, False, False), (57, 353, 0, 0, ',', '', ',', 'PUNCT', ',', 'punct', ',', False, False, False, False, False, False, None, False, False), (58, 355, 0, 4, 'use', '', 'use', 'VERB', 'VBP', 'dep', 'xxx', True, False, False, False, True, False, None, False, False), (59, 359, 0, 2, 'net', '', 'net', 'NOUN', 'NN', 'dobj', 'xxx', True, False, False, False, True, False, None, False, False), (60, 362, 0, 0, ',', '', ',', 'PUNCT', ',', 'punct', ',', False, False, False, False, False, False, None, False, False), (61, 364, 0, 0, 'broadcast', '', 'broadcast', 'NOUN', 'NN', 'conj', 'xxxx', True, False, False, False, True, False, None, False, False), (62, 373, 0, 0, ',', '', ',', 'PUNCT', ',', 'punct', ',', False, False, False, False, False, False, None, False, False), (63, 375, 0, 0, 'talk', '', 'talk', 'NOUN', 'NN', 'compound', 'xxxx', True, False, False, False, True, False, None, False, False), (64, 380, 2, 1, 'shows', '', 'show', 'NOUN', 'NNS', 'dobj', 'xxxx', True, False, False, False, True, False, None, False, False), (65, 385, 0, 0, ')', '', ')', 'PUNCT', '-RRB-', 'punct', ')', False, False, True, False, False, False, None, False, False), (66, 387, 0, 1, 'in', '', 'in', 'ADP', 'IN', 'prep', 'xx', True, True, False, False, True, False, False, False, False), (67, 390, 0, 0, 'three', 'CARDINAL', 'three', 'NUM', 'CD', 'nummod', 'xxxx', True, True, False, False, True, False, None, False, False), (68, 396, 1, 3, 'languages', '', 'language', 'NOUN', 'NNS', 'pobj', 'xxxx', True, False, False, False, True, False, None, False, False), (69, 406, 0, 0, '(', '', '(', 'PUNCT', '-LRB-', 'punct', '(', False, False, True, False, False, False, None, False, False), (70, 407, 0, 2, 'English', 'LANGUAGE', 'English', 'PROPN', 'NNP', 'appos', 'Xxxxx', True, False, False, True, False, False, None, False, False), (71, 414, 0, 0, ',', '', ',', 'PUNCT', ',', 'punct', ',', False, False, False, False, False, False, None, False, False), (72, 416, 0, 3, 'Chinese', 'LANGUAGE', 'chinese', 'ADJ', 'JJ', 'conj', 'Xxxxx', True, False, False, True, False, False, None, False, False), (73, 423, 0, 0, ',', '', ',', 'PUNCT', ',', 'punct', ',', False, False, False, False, False, False, None, False, False), (74, 425, 0, 0, 'and', '', 'and', 'CCONJ', 'CC', 'cc', 'xxx', True, True, False, False, True, False, None, False, False), (75, 429, 0, 0, 'Arabic', 'LANGUAGE', 'Arabic', 'PROPN', 'NNP', 'conj', 'Xxxxx', True, False, False, True, False, False, None, False, False), (76, 435, 0, 0, ')', '', ')', 'PUNCT', '-RRB-', 'punct', ')', False, False, True, False, False, False, None, False, False), (77, 437, 0, 1, 'with', '', 'with', 'ADP', 'IN', 'prep', 'xxxx', True, True, False, False, True, False, False, False, False), (78, 442, 0, 0, 'structural', '', 'structural', 'ADJ', 'JJ', 'amod', 'xxxx', True, False, False, False, True, False, None, False, False), (79, 453, 1, 5, 'information', '', 'information', 'NOUN', 'NN', 'pobj', 'xxxx', True, False, False, False, True, False, None, False, False), (80, 465, 0, 0, '(', '', '(', 'PUNCT', '-LRB-', 'punct', '(', False, False, True, False, False, False, None, False, False), (81, 466, 0, 2, 'syntax', '', 'syntax', 'VERB', 'VB', 'appos', 'xxxx', True, False, False, False, True, False, None, False, False), (82, 473, 0, 0, 'and', '', 'and', 'CCONJ', 'CC', 'cc', 'xxx', True, True, False, False, True, False, None, False, False), (83, 477, 0, 1, 'predicate', '', 'predicate', 'VERB', 'VB', 'conj', 'xxxx', True, False, False, False, True, False, None, False, False), (84, 487, 0, 0, 'argument', '', 'argument', 'NOUN', 'NN', 'compound', 'xxxx', True, False, False, False, True, False, None, False, False), (85, 496, 1, 0, 'structure', '', 'structure', 'NOUN', 'NN', 'dobj', 'xxxx', True, False, False, False, True, False, None, False, False), (86, 505, 0, 0, ')', '', ')', 'PUNCT', '-RRB-', 'punct', ')', False, False, True, False, False, False, None, False, False), (87, 507, 0, 0, 'and', '', 'and', 'CCONJ', 'CC', 'cc', 'xxx', True, True, False, False, True, False, False, False, False), (88, 511, 0, 0, 'shallow', '', 'shallow', 'ADJ', 'JJ', 'amod', 'xxxx', True, False, False, False, True, False, None, False, False), (89, 519, 1, 3, 'semantics', '', 'semantic', 'NOUN', 'NNS', 'conj', 'xxxx', True, False, False, False, True, False, None, False, False), (90, 529, 0, 0, '(', '', '(', 'PUNCT', '-LRB-', 'punct', '(', False, False, True, False, False, False, None, False, False), (91, 530, 0, 0, 'word', '', 'word', 'NOUN', 'NN', 'compound', 'xxxx', True, False, False, False, True, False, None, False, False), (92, 535, 1, 1, 'sense', '', 'sense', 'NOUN', 'NN', 'appos', 'xxxx', True, False, False, False, True, False, None, False, False), (93, 541, 0, 1, 'linked', '', 'link', 'VERB', 'VBN', 'acl', 'xxxx', True, False, False, False, True, False, None, False, False), (94, 548, 0, 1, 'to', '', 'to', 'ADP', 'IN', 'prep', 'xx', True, True, False, False, True, False, None, False, False), (95, 551, 0, 0, 'an', '', 'an', 'DET', 'DT', 'det', 'xx', True, True, False, False, True, False, None, False, False), (96, 554, 1, 2, 'ontology', '', 'ontology', 'NOUN', 'NN', 'pobj', 'xxxx', True, False, False, False, True, False, None, False, False), (97, 563, 0, 0, 'and', '', 'and', 'CCONJ', 'CC', 'cc', 'xxx', True, True, False, False, True, False, None, False, False), (98, 567, 0, 0, 'coreference', '', 'coreference', 'NOUN', 'NN', 'conj', 'xxxx', True, False, False, False, True, False, None, False, False), (99, 578, 0, 0, ')', '', ')', 'PUNCT', '-RRB-', 'punct', ')', False, False, True, False, False, False, None, False, False), (100, 579, 0, 0, '.', '', '.', 'PUNCT', '.', 'punct', '.', False, False, False, False, False, False, False, False, False), (101, 581, 0, 0, 'OntoNotes', '', 'OntoNotes', 'PROPN', 'NNP', 'nsubj', 'XxxxXxxxx', True, False, False, False, False, False, True, False, False), (102, 591, 1, 5, 'builds', '', 'build', 'VERB', 'VBZ', 'ROOT', 'xxxx', True, False, False, False, True, False, None, False, False), (103, 598, 0, 0, 'on', '', 'on', 'ADP', 'IN', 'prt', 'xx', True, True, False, False, True, False, None, False, False), (104, 601, 0, 0, 'two', 'CARDINAL', 'two', 'NUM', 'CD', 'nummod', 'xxx', True, True, False, False, True, False, None, False, False), (105, 605, 0, 0, 'time', '', 'time', 'NOUN', 'NN', 'npadvmod', 'xxxx', True, False, False, False, True, False, None, False, False), (106, 609, 0, 0, '-', '', '-', 'PUNCT', 'HYPH', 'punct', '-', False, False, False, False, False, False, None, False, False), (107, 610, 2, 0, 'tested', '', 'test', 'VERB', 'VBN', 'amod', 'xxxx', True, False, False, False, True, False, None, False, False), (108, 617, 2, 0, 'resources', '', 'resource', 'NOUN', 'NNS', 'dobj', 'xxxx', True, False, False, False, True, False, None, False, False), (109, 626, 0, 0, ',', '', ',', 'PUNCT', ',', 'punct', ',', False, False, False, False, False, False, None, False, False), (110, 628, 0, 2, 'following', '', 'follow', 'VERB', 'VBG', 'prep', 'xxxx', True, False, False, False, True, False, None, False, False), (111, 638, 0, 0, 'the', 'ORG', 'the', 'DET', 'DT', 'det', 'xxx', True, True, False, False, True, False, None, False, False), (112, 642, 0, 0, 'Penn', 'ORG', 'Penn', 'PROPN', 'NNP', 'compound', 'Xxxx', True, False, False, True, False, False, None, False, False), (113, 647, 2, 1, 'Treebank', 'ORG', 'Treebank', 'PROPN', 'NNP', 'pobj', 'Xxxxx', True, False, False, True, False, False, None, False, False), (114, 656, 0, 1, 'for', '', 'for', 'ADP', 'IN', 'prep', 'xxx', True, True, False, False, True, False, None, False, False), (115, 660, 0, 2, 'syntax', '', 'syntax', 'NOUN', 'NN', 'pobj', 'xxxx', True, False, False, False, True, False, None, False, False), (116, 667, 0, 0, 'and', '', 'and', 'CCONJ', 'CC', 'cc', 'xxx', True, True, False, False, True, False, None, False, False), (117, 671, 0, 0, 'the', 'ORG', 'the', 'DET', 'DT', 'det', 'xxx', True, True, False, False, True, False, None, False, False), (118, 675, 0, 0, 'Penn', 'ORG', 'Penn', 'PROPN', 'NNP', 'compound', 'Xxxx', True, False, False, True, False, False, None, False, False), (119, 680, 2, 0, 'PropBank', 'ORG', 'PropBank', 'PROPN', 'NNP', 'conj', 'XxxxXxxx', True, False, False, False, False, False, None, False, False), (120, 689, 0, 1, 'for', '', 'for', 'ADP', 'IN', 'prep', 'xxx', True, True, False, False, True, False, None, False, False), (121, 693, 0, 0, 'predicate', '', 'predicate', 'NOUN', 'NN', 'compound', 'xxxx', True, False, False, False, True, False, None, False, False), (122, 702, 0, 0, '-', '', '-', 'PUNCT', 'HYPH', 'punct', '-', False, False, False, False, False, False, None, False, False), (123, 703, 2, 0, 'argument', '', 'argument', 'NOUN', 'NN', 'compound', 'xxxx', True, False, False, False, True, False, None, False, False), (124, 712, 1, 0, 'structure', '', 'structure', 'NOUN', 'NN', 'pobj', 'xxxx', True, False, False, False, True, False, None, False, False), (125, 721, 0, 0, '.', '', '.', 'PUNCT', '.', 'punct', '.', False, False, False, False, False, False, None, False, False), (126, 723, 0, 0, 'Its', '', '-PRON-', 'DET', 'PRP$', 'poss', 'Xxx', True, True, False, True, False, False, True, False, False), (127, 727, 0, 0, 'semantic', '', 'semantic', 'ADJ', 'JJ', 'amod', 'xxxx', True, False, False, False, True, False, None, False, False), (128, 736, 2, 0, 'representation', '', 'representation', 'NOUN', 'NN', 'nsubj', 'xxxx', True, False, False, False, True, False, None, False, False), (129, 751, 0, 0, 'will', '', 'will', 'VERB', 'MD', 'aux', 'xxxx', True, True, False, False, True, False, None, False, False), (130, 756, 2, 4, 'include', '', 'include', 'VERB', 'VB', 'ROOT', 'xxxx', True, False, False, False, True, False, None, False, False), (131, 764, 0, 0, 'word', '', 'word', 'NOUN', 'NN', 'compound', 'xxxx', True, False, False, False, True, False, None, False, False), (132, 769, 0, 0, 'sense', '', 'sense', 'NOUN', 'NN', 'compound', 'xxxx', True, False, False, False, True, False, None, False, False), (133, 775, 2, 1, 'disambiguation', '', 'disambiguation', 'NOUN', 'NN', 'dobj', 'xxxx', True, False, False, False, True, False, None, False, False), (134, 790, 0, 1, 'for', '', 'for', 'ADP', 'IN', 'prep', 'xxx', True, True, False, False, True, False, None, False, False), (135, 794, 0, 2, 'nouns', '', 'noun', 'NOUN', 'NNS', 'pobj', 'xxxx', True, False, False, False, True, False, None, False, False), (136, 800, 0, 0, 'and', '', 'and', 'CCONJ', 'CC', 'cc', 'xxx', True, True, False, False, True, False, None, False, False), (137, 804, 0, 0, 'verbs', '', 'verb', 'NOUN', 'NNS', 'conj', 'xxxx', True, False, False, False, True, False, None, False, False), (138, 809, 0, 0, ',', '', ',', 'PUNCT', ',', 'punct', ',', False, False, False, False, False, False, None, False, False), (139, 811, 0, 1, 'with', '', 'with', 'ADP', 'IN', 'prep', 'xxxx', True, True, False, False, True, False, None, False, False), (140, 816, 0, 0, 'each', '', 'each', 'DET', 'DT', 'det', 'xxxx', True, True, False, False, True, False, None, False, False), (141, 821, 0, 0, 'word', '', 'word', 'NOUN', 'NN', 'compound', 'xxxx', True, False, False, False, True, False, None, False, False), (142, 826, 2, 4, 'sense', '', 'sense', 'NOUN', 'NN', 'pobj', 'xxxx', True, False, False, False, True, False, None, False, False), (143, 832, 0, 1, 'connected', '', 'connect', 'VERB', 'VBN', 'acl', 'xxxx', True, False, False, False, True, False, None, False, False), (144, 842, 0, 1, 'to', '', 'to', 'ADP', 'IN', 'prep', 'xx', True, True, False, False, True, False, None, False, False), (145, 845, 0, 0, 'an', '', 'an', 'DET', 'DT', 'det', 'xx', True, True, False, False, True, False, None, False, False), (146, 848, 1, 0, 'ontology', '', 'ontology', 'NOUN', 'NN', 'pobj', 'xxxx', True, False, False, False, True, False, None, False, False), (147, 856, 0, 0, ',', '', ',', 'PUNCT', ',', 'punct', ',', False, False, False, False, False, False, None, False, False), (148, 858, 0, 0, 'and', '', 'and', 'CCONJ', 'CC', 'cc', 'xxx', True, True, False, False, True, False, None, False, False), (149, 862, 0, 0, 'coreference', '', 'coreference', 'NOUN', 'NN', 'conj', 'xxxx', True, False, False, False, True, False, None, False, False), (150, 873, 0, 0, '.', '', '.', 'PUNCT', '.', 'punct', '.', False, False, False, False, False, False, None, False, False), (151, 875, 0, 1, 'Over', '', 'over', 'ADP', 'IN', 'prep', 'Xxxx', True, True, False, True, False, False, True, False, False), (152, 880, 0, 0, 'the', '', 'the', 'DET', 'DT', 'det', 'xxx', True, True, False, False, True, False, None, False, False), (153, 884, 1, 1, 'course', '', 'course', 'NOUN', 'NN', 'pobj', 'xxxx', True, False, False, False, True, False, None, False, False), (154, 891, 0, 1, 'of', '', 'of', 'ADP', 'IN', 'prep', 'xx', True, True, False, False, True, False, None, False, False), (155, 894, 0, 0, 'the', '', 'the', 'DET', 'DT', 'det', 'xxx', True, True, False, False, True, False, None, False, False), (156, 898, 0, 0, 'five', 'DATE', 'five', 'NUM', 'CD', 'nummod', 'xxxx', True, True, False, False, True, False, None, False, False), (157, 902, 0, 0, '-', 'DATE', '-', 'PUNCT', 'HYPH', 'punct', '-', False, False, False, False, False, False, None, False, False), (158, 903, 2, 0, 'year', 'DATE', 'year', 'NOUN', 'NN', 'compound', 'xxxx', True, False, False, False, True, False, None, False, False), (159, 908, 2, 0, 'program', '', 'program', 'NOUN', 'NN', 'pobj', 'xxxx', True, False, False, False, True, False, None, False, False), (160, 915, 0, 0, ',', '', ',', 'PUNCT', ',', 'punct', ',', False, False, False, False, False, False, None, False, False), (161, 917, 0, 0, 'our', '', '-PRON-', 'DET', 'PRP$', 'poss', 'xxx', True, True, False, False, True, False, None, False, False), (162, 921, 0, 0, 'current', '', 'current', 'ADJ', 'JJ', 'amod', 'xxxx', True, False, False, False, True, False, None, False, False), (163, 929, 2, 0, 'goals', '', 'goal', 'NOUN', 'NNS', 'nsubj', 'xxxx', True, False, False, False, True, False, None, False, False), (164, 935, 3, 2, 'call', '', 'call', 'VERB', 'VBP', 'ROOT', 'xxxx', True, True, False, False, True, False, None, False, False), (165, 940, 0, 1, 'for', '', 'for', 'ADP', 'IN', 'prep', 'xxx', True, True, False, False, True, False, None, False, False), (166, 944, 0, 1, 'annotation', '', 'annotation', 'NOUN', 'NN', 'pobj', 'xxxx', True, False, False, False, True, False, None, False, False), (167, 955, 0, 1, 'of', '', 'of', 'ADP', 'IN', 'prep', 'xx', True, True, False, False, True, False, None, False, False), (168, 958, 0, 0, 'over', 'CARDINAL', 'over', 'ADP', 'IN', 'quantmod', 'xxxx', True, True, False, False, True, False, None, False, False), (169, 963, 0, 0, 'a', 'CARDINAL', 'a', 'DET', 'DT', 'quantmod', 'x', True, True, False, False, True, False, None, False, False), (170, 965, 2, 0, 'million', 'CARDINAL', 'million', 'NUM', 'CD', 'nummod', 'xxxx', True, False, False, False, True, False, None, False, False), (171, 973, 1, 4, 'words', '', 'word', 'NOUN', 'NNS', 'pobj', 'xxxx', True, False, False, False, True, False, None, False, False), (172, 979, 0, 1, 'each', '', 'each', 'DET', 'DT', 'npadvmod', 'xxxx', True, True, False, False, True, False, None, False, False), (173, 984, 0, 1, 'of', '', 'of', 'ADP', 'IN', 'prep', 'xx', True, True, False, False, True, False, None, False, False), (174, 987, 0, 2, 'English', 'LANGUAGE', 'English', 'PROPN', 'NNP', 'pobj', 'Xxxxx', True, False, False, True, False, False, None, False, False), (175, 995, 0, 0, 'and', '', 'and', 'CCONJ', 'CC', 'cc', 'xxx', True, True, False, False, True, False, None, False, False), (176, 999, 0, 0, 'Chinese', 'LANGUAGE', 'Chinese', 'PROPN', 'NNP', 'conj', 'Xxxxx', True, False, False, True, False, False, None, False, False), (177, 1006, 0, 0, ',', '', ',', 'PUNCT', ',', 'punct', ',', False, False, False, False, False, False, None, False, False), (178, 1008, 0, 0, 'and', '', 'and', 'CCONJ', 'CC', 'cc', 'xxx', True, True, False, False, True, False, None, False, False), (179, 1012, 0, 0, 'half', 'CARDINAL', 'half', 'DET', 'PDT', 'quantmod', 'xxxx', True, False, False, False, True, False, None, False, False), (180, 1017, 0, 0, 'a', 'CARDINAL', 'a', 'DET', 'DT', 'quantmod', 'x', True, True, False, False, True, False, None, False, False), (181, 1019, 2, 0, 'million', 'CARDINAL', 'million', 'NUM', 'CD', 'nummod', 'xxxx', True, False, False, False, True, False, None, False, False), (182, 1027, 1, 1, 'words', '', 'word', 'NOUN', 'NNS', 'conj', 'xxxx', True, False, False, False, True, False, None, False, False), (183, 1033, 0, 1, 'of', '', 'of', 'ADP', 'IN', 'prep', 'xx', True, True, False, False, True, False, None, False, False), (184, 1036, 0, 0, 'Arabic', 'LANGUAGE', 'Arabic', 'PROPN', 'NNP', 'pobj', 'Xxxxx', True, False, False, True, False, False, None, False, False), (185, 1042, 0, 0, '.', '', '.', 'PUNCT', '.', 'punct', '.', False, False, False, False, False, False, None, False, False)]\n",
            "Over the course of the five-year program, our current goals call for annotation of over a million words each of English and Chinese, and half a million words of Arabic.\n",
            "['The', 'OntoNotes', 'project', 'is', 'a', 'collaborative', 'effort', 'between', 'BBN', 'Technologies', ',', 'the', 'University', 'of', 'Colorado', ',', 'the', 'University', 'of', 'Pennsylvania', ',', 'and', 'the', 'University', 'of', 'Southern', 'California', \"'s\", 'Information', 'Sciences', 'Institute', 'to', 'produce', 'such', 'a', 'resource', '.', 'It', 'aims', 'to', 'annotate', 'a', 'large', 'corpus', 'comprising', 'various', 'genres', 'of', 'text', '(', 'news', ',', 'conversational', 'telephone', 'speech', ',', 'weblogs', ',', 'use', 'net', ',', 'broadcast', ',', 'talk', 'shows', ')', 'in', 'three', 'languages', '(', 'English', ',', 'Chinese', ',', 'and', 'Arabic', ')', 'with', 'structural', 'information', '(', 'syntax', 'and', 'predicate', 'argument', 'structure', ')', 'and', 'shallow', 'semantics', '(', 'word', 'sense', 'linked', 'to', 'an', 'ontology', 'and', 'coreference', ')', '.', 'OntoNotes', 'builds', 'on', 'two', 'time', '-', 'tested', 'resources', ',', 'following', 'the', 'Penn', 'Treebank', 'for', 'syntax', 'and', 'the', 'Penn', 'PropBank', 'for', 'predicate', '-', 'argument', 'structure', '.', 'Its', 'semantic', 'representation', 'will', 'include', 'word', 'sense', 'disambiguation', 'for', 'nouns', 'and', 'verbs', ',', 'with', 'each', 'word', 'sense', 'connected', 'to', 'an', 'ontology', ',', 'and', 'coreference', '.', 'Over', 'the', 'course', 'of', 'the', 'five', '-', 'year', 'program', ',', 'our', 'current', 'goals', 'call', 'for', 'annotation', 'of', 'over', 'a', 'million', 'words', 'each', 'of', 'English', 'and', 'Chinese', ',', 'and', 'half', 'a', 'million', 'words', 'of', 'Arabic', '.']\n",
            "[(0, 0, 0, 0, 'The', '', 'the', 'DET', 'DT', 'det', 'Xxx', True, True, False, True, False, False, True, False, False), (1, 4, 0, 0, 'OntoNotes', 'ORG', 'OntoNotes', 'PROPN', 'NNP', 'compound', 'XxxxXxxxx', True, False, False, False, False, False, None, False, False), (2, 14, 2, 0, 'project', '', 'project', 'NOUN', 'NN', 'nsubj', 'xxxx', True, False, False, False, True, False, None, False, False), (3, 22, 1, 2, 'is', '', 'be', 'AUX', 'VBZ', 'ROOT', 'xx', True, True, False, False, True, False, None, False, False), (4, 25, 0, 0, 'a', '', 'a', 'DET', 'DT', 'det', 'x', True, True, False, False, True, False, None, False, False), (5, 27, 0, 0, 'collaborative', '', 'collaborative', 'ADJ', 'JJ', 'amod', 'xxxx', True, False, False, False, True, False, None, False, False), (6, 41, 2, 2, 'effort', '', 'effort', 'NOUN', 'NN', 'attr', 'xxxx', True, False, False, False, True, False, None, False, False), (7, 48, 0, 1, 'between', '', 'between', 'ADP', 'IN', 'prep', 'xxxx', True, True, False, False, True, False, None, False, False), (8, 56, 0, 0, 'BBN', 'ORG', 'BBN', 'PROPN', 'NNP', 'compound', 'XXX', True, False, False, False, False, True, None, False, False), (9, 60, 1, 2, 'Technologies', 'ORG', 'Technologies', 'PROPN', 'NNPS', 'pobj', 'Xxxxx', True, False, False, True, False, False, None, False, False), (10, 72, 0, 0, ',', '', ',', 'PUNCT', ',', 'punct', ',', False, False, False, False, False, False, None, False, False), (11, 74, 0, 0, 'the', 'ORG', 'the', 'DET', 'DT', 'det', 'xxx', True, True, False, False, True, False, None, False, False), (12, 78, 1, 3, 'University', 'ORG', 'University', 'PROPN', 'NNP', 'appos', 'Xxxxx', True, False, False, True, False, False, None, False, False), (13, 89, 0, 1, 'of', 'ORG', 'of', 'ADP', 'IN', 'prep', 'xx', True, True, False, False, True, False, None, False, False), (14, 92, 0, 0, 'Colorado', 'ORG', 'Colorado', 'PROPN', 'NNP', 'pobj', 'Xxxxx', True, False, False, True, False, False, None, False, False), (15, 100, 0, 0, ',', '', ',', 'PUNCT', ',', 'punct', ',', False, False, False, False, False, False, None, False, False), (16, 102, 0, 0, 'the', 'ORG', 'the', 'DET', 'DT', 'det', 'xxx', True, True, False, False, True, False, None, False, False), (17, 106, 1, 4, 'University', 'ORG', 'University', 'PROPN', 'NNP', 'conj', 'Xxxxx', True, False, False, True, False, False, None, False, False), (18, 117, 0, 1, 'of', 'ORG', 'of', 'ADP', 'IN', 'prep', 'xx', True, True, False, False, True, False, None, False, False), (19, 120, 0, 0, 'Pennsylvania', 'ORG', 'Pennsylvania', 'PROPN', 'NNP', 'pobj', 'Xxxxx', True, False, False, True, False, False, None, False, False), (20, 132, 0, 0, ',', '', ',', 'PUNCT', ',', 'punct', ',', False, False, False, False, False, False, None, False, False), (21, 134, 0, 0, 'and', '', 'and', 'CCONJ', 'CC', 'cc', 'xxx', True, True, False, False, True, False, None, False, False), (22, 138, 0, 0, 'the', 'ORG', 'the', 'DET', 'DT', 'det', 'xxx', True, True, False, False, True, False, None, False, False), (23, 142, 1, 2, 'University', 'ORG', 'University', 'PROPN', 'NNP', 'poss', 'Xxxxx', True, False, False, True, False, False, None, False, False), (24, 153, 0, 1, 'of', 'ORG', 'of', 'ADP', 'IN', 'prep', 'xx', True, True, False, False, True, False, None, False, False), (25, 156, 0, 0, 'Southern', 'ORG', 'Southern', 'PROPN', 'NNP', 'compound', 'Xxxxx', True, False, False, True, False, False, None, False, False), (26, 165, 1, 0, 'California', 'ORG', 'California', 'PROPN', 'NNP', 'pobj', 'Xxxxx', True, False, False, True, False, False, None, False, False), (27, 175, 0, 0, \"'s\", 'ORG', \"'s\", 'PART', 'POS', 'case', \"'x\", False, True, False, False, True, False, None, False, False), (28, 178, 0, 0, 'Information', 'ORG', 'Information', 'PROPN', 'NNP', 'compound', 'Xxxxx', True, False, False, True, False, False, None, False, False), (29, 190, 1, 0, 'Sciences', 'ORG', 'Sciences', 'PROPN', 'NNPS', 'compound', 'Xxxxx', True, False, False, True, False, False, None, False, False), (30, 199, 2, 0, 'Institute', 'ORG', 'Institute', 'PROPN', 'NNP', 'conj', 'Xxxxx', True, False, False, True, False, False, None, False, False), (31, 209, 0, 0, 'to', '', 'to', 'PART', 'TO', 'aux', 'xx', True, True, False, False, True, False, None, False, False), (32, 212, 1, 1, 'produce', '', 'produce', 'VERB', 'VB', 'acl', 'xxxx', True, False, False, False, True, False, None, False, False), (33, 220, 0, 0, 'such', '', 'such', 'DET', 'PDT', 'predet', 'xxxx', True, True, False, False, True, False, None, False, False), (34, 225, 0, 0, 'a', '', 'a', 'DET', 'DT', 'det', 'x', True, True, False, False, True, False, None, False, False), (35, 227, 2, 0, 'resource', '', 'resource', 'NOUN', 'NN', 'dobj', 'xxxx', True, False, False, False, True, False, None, False, False), (36, 235, 0, 0, '.', '', '.', 'PUNCT', '.', 'punct', '.', False, False, False, False, False, False, None, False, False), (37, 237, 0, 0, 'It', '', '-PRON-', 'PRON', 'PRP', 'nsubj', 'Xx', True, True, False, True, False, False, True, False, False), (38, 240, 1, 2, 'aims', '', 'aim', 'VERB', 'VBZ', 'ROOT', 'xxxx', True, False, False, False, True, False, None, False, False), (39, 245, 0, 0, 'to', '', 'to', 'PART', 'TO', 'aux', 'xx', True, True, False, False, True, False, None, False, False), (40, 248, 1, 2, 'annotate', '', 'annotate', 'VERB', 'VB', 'xcomp', 'xxxx', True, False, False, False, True, False, None, False, False), (41, 257, 0, 0, 'a', '', 'a', 'DET', 'DT', 'det', 'x', True, True, False, False, True, False, None, False, False), (42, 259, 0, 0, 'large', '', 'large', 'ADJ', 'JJ', 'amod', 'xxxx', True, False, False, False, True, False, None, False, False), (43, 265, 2, 1, 'corpus', '', 'corpus', 'NOUN', 'NN', 'dobj', 'xxxx', True, False, False, False, True, False, None, False, False), (44, 272, 0, 1, 'comprising', '', 'comprise', 'VERB', 'VBG', 'acl', 'xxxx', True, False, False, False, True, False, None, False, False), (45, 283, 0, 0, 'various', '', 'various', 'ADJ', 'JJ', 'amod', 'xxxx', True, True, False, False, True, False, None, False, False), (46, 291, 1, 1, 'genres', '', 'genre', 'NOUN', 'NNS', 'dobj', 'xxxx', True, False, False, False, True, False, None, False, False), (47, 298, 0, 1, 'of', '', 'of', 'ADP', 'IN', 'prep', 'xx', True, True, False, False, True, False, None, False, False), (48, 301, 0, 1, 'text', '', 'text', 'NOUN', 'NN', 'pobj', 'xxxx', True, False, False, False, True, False, None, False, False), (49, 306, 0, 0, '(', '', '(', 'PUNCT', '-LRB-', 'punct', '(', False, False, True, False, False, False, None, False, False), (50, 307, 1, 3, 'news', '', 'news', 'NOUN', 'NN', 'appos', 'xxxx', True, False, False, False, True, False, None, False, False), (51, 311, 0, 0, ',', '', ',', 'PUNCT', ',', 'punct', ',', False, False, False, False, False, False, None, False, False), (52, 313, 0, 0, 'conversational', '', 'conversational', 'ADJ', 'JJ', 'amod', 'xxxx', True, False, False, False, True, False, None, False, False), (53, 328, 0, 0, 'telephone', '', 'telephone', 'NOUN', 'NN', 'compound', 'xxxx', True, False, False, False, True, False, None, False, False), (54, 338, 2, 2, 'speech', '', 'speech', 'NOUN', 'NN', 'conj', 'xxxx', True, False, False, False, True, False, None, False, False), (55, 344, 0, 0, ',', '', ',', 'PUNCT', ',', 'punct', ',', False, False, False, False, False, False, None, False, False), (56, 346, 0, 0, 'weblogs', '', 'weblogs', 'PROPN', 'NNP', 'conj', 'xxxx', True, False, False, False, True, False, None, False, False), (57, 353, 0, 0, ',', '', ',', 'PUNCT', ',', 'punct', ',', False, False, False, False, False, False, None, False, False), (58, 355, 0, 4, 'use', '', 'use', 'VERB', 'VBP', 'dep', 'xxx', True, False, False, False, True, False, None, False, False), (59, 359, 0, 2, 'net', '', 'net', 'NOUN', 'NN', 'dobj', 'xxx', True, False, False, False, True, False, None, False, False), (60, 362, 0, 0, ',', '', ',', 'PUNCT', ',', 'punct', ',', False, False, False, False, False, False, None, False, False), (61, 364, 0, 0, 'broadcast', '', 'broadcast', 'NOUN', 'NN', 'conj', 'xxxx', True, False, False, False, True, False, None, False, False), (62, 373, 0, 0, ',', '', ',', 'PUNCT', ',', 'punct', ',', False, False, False, False, False, False, None, False, False), (63, 375, 0, 0, 'talk', '', 'talk', 'NOUN', 'NN', 'compound', 'xxxx', True, False, False, False, True, False, None, False, False), (64, 380, 2, 1, 'shows', '', 'show', 'NOUN', 'NNS', 'dobj', 'xxxx', True, False, False, False, True, False, None, False, False), (65, 385, 0, 0, ')', '', ')', 'PUNCT', '-RRB-', 'punct', ')', False, False, True, False, False, False, None, False, False), (66, 387, 0, 1, 'in', '', 'in', 'ADP', 'IN', 'prep', 'xx', True, True, False, False, True, False, False, False, False), (67, 390, 0, 0, 'three', 'CARDINAL', 'three', 'NUM', 'CD', 'nummod', 'xxxx', True, True, False, False, True, False, None, False, False), (68, 396, 1, 3, 'languages', '', 'language', 'NOUN', 'NNS', 'pobj', 'xxxx', True, False, False, False, True, False, None, False, False), (69, 406, 0, 0, '(', '', '(', 'PUNCT', '-LRB-', 'punct', '(', False, False, True, False, False, False, None, False, False), (70, 407, 0, 2, 'English', 'LANGUAGE', 'English', 'PROPN', 'NNP', 'appos', 'Xxxxx', True, False, False, True, False, False, None, False, False), (71, 414, 0, 0, ',', '', ',', 'PUNCT', ',', 'punct', ',', False, False, False, False, False, False, None, False, False), (72, 416, 0, 3, 'Chinese', 'LANGUAGE', 'chinese', 'ADJ', 'JJ', 'conj', 'Xxxxx', True, False, False, True, False, False, None, False, False), (73, 423, 0, 0, ',', '', ',', 'PUNCT', ',', 'punct', ',', False, False, False, False, False, False, None, False, False), (74, 425, 0, 0, 'and', '', 'and', 'CCONJ', 'CC', 'cc', 'xxx', True, True, False, False, True, False, None, False, False), (75, 429, 0, 0, 'Arabic', 'LANGUAGE', 'Arabic', 'PROPN', 'NNP', 'conj', 'Xxxxx', True, False, False, True, False, False, None, False, False), (76, 435, 0, 0, ')', '', ')', 'PUNCT', '-RRB-', 'punct', ')', False, False, True, False, False, False, None, False, False), (77, 437, 0, 1, 'with', '', 'with', 'ADP', 'IN', 'prep', 'xxxx', True, True, False, False, True, False, False, False, False), (78, 442, 0, 0, 'structural', '', 'structural', 'ADJ', 'JJ', 'amod', 'xxxx', True, False, False, False, True, False, None, False, False), (79, 453, 1, 5, 'information', '', 'information', 'NOUN', 'NN', 'pobj', 'xxxx', True, False, False, False, True, False, None, False, False), (80, 465, 0, 0, '(', '', '(', 'PUNCT', '-LRB-', 'punct', '(', False, False, True, False, False, False, None, False, False), (81, 466, 0, 2, 'syntax', '', 'syntax', 'VERB', 'VB', 'appos', 'xxxx', True, False, False, False, True, False, None, False, False), (82, 473, 0, 0, 'and', '', 'and', 'CCONJ', 'CC', 'cc', 'xxx', True, True, False, False, True, False, None, False, False), (83, 477, 0, 1, 'predicate', '', 'predicate', 'VERB', 'VB', 'conj', 'xxxx', True, False, False, False, True, False, None, False, False), (84, 487, 0, 0, 'argument', '', 'argument', 'NOUN', 'NN', 'compound', 'xxxx', True, False, False, False, True, False, None, False, False), (85, 496, 1, 0, 'structure', '', 'structure', 'NOUN', 'NN', 'dobj', 'xxxx', True, False, False, False, True, False, None, False, False), (86, 505, 0, 0, ')', '', ')', 'PUNCT', '-RRB-', 'punct', ')', False, False, True, False, False, False, None, False, False), (87, 507, 0, 0, 'and', '', 'and', 'CCONJ', 'CC', 'cc', 'xxx', True, True, False, False, True, False, False, False, False), (88, 511, 0, 0, 'shallow', '', 'shallow', 'ADJ', 'JJ', 'amod', 'xxxx', True, False, False, False, True, False, None, False, False), (89, 519, 1, 3, 'semantics', '', 'semantic', 'NOUN', 'NNS', 'conj', 'xxxx', True, False, False, False, True, False, None, False, False), (90, 529, 0, 0, '(', '', '(', 'PUNCT', '-LRB-', 'punct', '(', False, False, True, False, False, False, None, False, False), (91, 530, 0, 0, 'word', '', 'word', 'NOUN', 'NN', 'compound', 'xxxx', True, False, False, False, True, False, None, False, False), (92, 535, 1, 1, 'sense', '', 'sense', 'NOUN', 'NN', 'appos', 'xxxx', True, False, False, False, True, False, None, False, False), (93, 541, 0, 1, 'linked', '', 'link', 'VERB', 'VBN', 'acl', 'xxxx', True, False, False, False, True, False, None, False, False), (94, 548, 0, 1, 'to', '', 'to', 'ADP', 'IN', 'prep', 'xx', True, True, False, False, True, False, None, False, False), (95, 551, 0, 0, 'an', '', 'an', 'DET', 'DT', 'det', 'xx', True, True, False, False, True, False, None, False, False), (96, 554, 1, 2, 'ontology', '', 'ontology', 'NOUN', 'NN', 'pobj', 'xxxx', True, False, False, False, True, False, None, False, False), (97, 563, 0, 0, 'and', '', 'and', 'CCONJ', 'CC', 'cc', 'xxx', True, True, False, False, True, False, None, False, False), (98, 567, 0, 0, 'coreference', '', 'coreference', 'NOUN', 'NN', 'conj', 'xxxx', True, False, False, False, True, False, None, False, False), (99, 578, 0, 0, ')', '', ')', 'PUNCT', '-RRB-', 'punct', ')', False, False, True, False, False, False, None, False, False), (100, 579, 0, 0, '.', '', '.', 'PUNCT', '.', 'punct', '.', False, False, False, False, False, False, False, False, False), (101, 581, 0, 0, 'OntoNotes', '', 'OntoNotes', 'PROPN', 'NNP', 'nsubj', 'XxxxXxxxx', True, False, False, False, False, False, True, False, False), (102, 591, 1, 5, 'builds', '', 'build', 'VERB', 'VBZ', 'ROOT', 'xxxx', True, False, False, False, True, False, None, False, False), (103, 598, 0, 0, 'on', '', 'on', 'ADP', 'IN', 'prt', 'xx', True, True, False, False, True, False, None, False, False), (104, 601, 0, 0, 'two', 'CARDINAL', 'two', 'NUM', 'CD', 'nummod', 'xxx', True, True, False, False, True, False, None, False, False), (105, 605, 0, 0, 'time', '', 'time', 'NOUN', 'NN', 'npadvmod', 'xxxx', True, False, False, False, True, False, None, False, False), (106, 609, 0, 0, '-', '', '-', 'PUNCT', 'HYPH', 'punct', '-', False, False, False, False, False, False, None, False, False), (107, 610, 2, 0, 'tested', '', 'test', 'VERB', 'VBN', 'amod', 'xxxx', True, False, False, False, True, False, None, False, False), (108, 617, 2, 0, 'resources', '', 'resource', 'NOUN', 'NNS', 'dobj', 'xxxx', True, False, False, False, True, False, None, False, False), (109, 626, 0, 0, ',', '', ',', 'PUNCT', ',', 'punct', ',', False, False, False, False, False, False, None, False, False), (110, 628, 0, 2, 'following', '', 'follow', 'VERB', 'VBG', 'prep', 'xxxx', True, False, False, False, True, False, None, False, False), (111, 638, 0, 0, 'the', 'ORG', 'the', 'DET', 'DT', 'det', 'xxx', True, True, False, False, True, False, None, False, False), (112, 642, 0, 0, 'Penn', 'ORG', 'Penn', 'PROPN', 'NNP', 'compound', 'Xxxx', True, False, False, True, False, False, None, False, False), (113, 647, 2, 1, 'Treebank', 'ORG', 'Treebank', 'PROPN', 'NNP', 'pobj', 'Xxxxx', True, False, False, True, False, False, None, False, False), (114, 656, 0, 1, 'for', '', 'for', 'ADP', 'IN', 'prep', 'xxx', True, True, False, False, True, False, None, False, False), (115, 660, 0, 2, 'syntax', '', 'syntax', 'NOUN', 'NN', 'pobj', 'xxxx', True, False, False, False, True, False, None, False, False), (116, 667, 0, 0, 'and', '', 'and', 'CCONJ', 'CC', 'cc', 'xxx', True, True, False, False, True, False, None, False, False), (117, 671, 0, 0, 'the', 'ORG', 'the', 'DET', 'DT', 'det', 'xxx', True, True, False, False, True, False, None, False, False), (118, 675, 0, 0, 'Penn', 'ORG', 'Penn', 'PROPN', 'NNP', 'compound', 'Xxxx', True, False, False, True, False, False, None, False, False), (119, 680, 2, 0, 'PropBank', 'ORG', 'PropBank', 'PROPN', 'NNP', 'conj', 'XxxxXxxx', True, False, False, False, False, False, None, False, False), (120, 689, 0, 1, 'for', '', 'for', 'ADP', 'IN', 'prep', 'xxx', True, True, False, False, True, False, None, False, False), (121, 693, 0, 0, 'predicate', '', 'predicate', 'NOUN', 'NN', 'compound', 'xxxx', True, False, False, False, True, False, None, False, False), (122, 702, 0, 0, '-', '', '-', 'PUNCT', 'HYPH', 'punct', '-', False, False, False, False, False, False, None, False, False), (123, 703, 2, 0, 'argument', '', 'argument', 'NOUN', 'NN', 'compound', 'xxxx', True, False, False, False, True, False, None, False, False), (124, 712, 1, 0, 'structure', '', 'structure', 'NOUN', 'NN', 'pobj', 'xxxx', True, False, False, False, True, False, None, False, False), (125, 721, 0, 0, '.', '', '.', 'PUNCT', '.', 'punct', '.', False, False, False, False, False, False, None, False, False), (126, 723, 0, 0, 'Its', '', '-PRON-', 'DET', 'PRP$', 'poss', 'Xxx', True, True, False, True, False, False, True, False, False), (127, 727, 0, 0, 'semantic', '', 'semantic', 'ADJ', 'JJ', 'amod', 'xxxx', True, False, False, False, True, False, None, False, False), (128, 736, 2, 0, 'representation', '', 'representation', 'NOUN', 'NN', 'nsubj', 'xxxx', True, False, False, False, True, False, None, False, False), (129, 751, 0, 0, 'will', '', 'will', 'VERB', 'MD', 'aux', 'xxxx', True, True, False, False, True, False, None, False, False), (130, 756, 2, 4, 'include', '', 'include', 'VERB', 'VB', 'ROOT', 'xxxx', True, False, False, False, True, False, None, False, False), (131, 764, 0, 0, 'word', '', 'word', 'NOUN', 'NN', 'compound', 'xxxx', True, False, False, False, True, False, None, False, False), (132, 769, 0, 0, 'sense', '', 'sense', 'NOUN', 'NN', 'compound', 'xxxx', True, False, False, False, True, False, None, False, False), (133, 775, 2, 1, 'disambiguation', '', 'disambiguation', 'NOUN', 'NN', 'dobj', 'xxxx', True, False, False, False, True, False, None, False, False), (134, 790, 0, 1, 'for', '', 'for', 'ADP', 'IN', 'prep', 'xxx', True, True, False, False, True, False, None, False, False), (135, 794, 0, 2, 'nouns', '', 'noun', 'NOUN', 'NNS', 'pobj', 'xxxx', True, False, False, False, True, False, None, False, False), (136, 800, 0, 0, 'and', '', 'and', 'CCONJ', 'CC', 'cc', 'xxx', True, True, False, False, True, False, None, False, False), (137, 804, 0, 0, 'verbs', '', 'verb', 'NOUN', 'NNS', 'conj', 'xxxx', True, False, False, False, True, False, None, False, False), (138, 809, 0, 0, ',', '', ',', 'PUNCT', ',', 'punct', ',', False, False, False, False, False, False, None, False, False), (139, 811, 0, 1, 'with', '', 'with', 'ADP', 'IN', 'prep', 'xxxx', True, True, False, False, True, False, None, False, False), (140, 816, 0, 0, 'each', '', 'each', 'DET', 'DT', 'det', 'xxxx', True, True, False, False, True, False, None, False, False), (141, 821, 0, 0, 'word', '', 'word', 'NOUN', 'NN', 'compound', 'xxxx', True, False, False, False, True, False, None, False, False), (142, 826, 2, 4, 'sense', '', 'sense', 'NOUN', 'NN', 'pobj', 'xxxx', True, False, False, False, True, False, None, False, False), (143, 832, 0, 1, 'connected', '', 'connect', 'VERB', 'VBN', 'acl', 'xxxx', True, False, False, False, True, False, None, False, False), (144, 842, 0, 1, 'to', '', 'to', 'ADP', 'IN', 'prep', 'xx', True, True, False, False, True, False, None, False, False), (145, 845, 0, 0, 'an', '', 'an', 'DET', 'DT', 'det', 'xx', True, True, False, False, True, False, None, False, False), (146, 848, 1, 0, 'ontology', '', 'ontology', 'NOUN', 'NN', 'pobj', 'xxxx', True, False, False, False, True, False, None, False, False), (147, 856, 0, 0, ',', '', ',', 'PUNCT', ',', 'punct', ',', False, False, False, False, False, False, None, False, False), (148, 858, 0, 0, 'and', '', 'and', 'CCONJ', 'CC', 'cc', 'xxx', True, True, False, False, True, False, None, False, False), (149, 862, 0, 0, 'coreference', '', 'coreference', 'NOUN', 'NN', 'conj', 'xxxx', True, False, False, False, True, False, None, False, False), (150, 873, 0, 0, '.', '', '.', 'PUNCT', '.', 'punct', '.', False, False, False, False, False, False, None, False, False), (151, 875, 0, 1, 'Over', '', 'over', 'ADP', 'IN', 'prep', 'Xxxx', True, True, False, True, False, False, True, False, False), (152, 880, 0, 0, 'the', '', 'the', 'DET', 'DT', 'det', 'xxx', True, True, False, False, True, False, None, False, False), (153, 884, 1, 1, 'course', '', 'course', 'NOUN', 'NN', 'pobj', 'xxxx', True, False, False, False, True, False, None, False, False), (154, 891, 0, 1, 'of', '', 'of', 'ADP', 'IN', 'prep', 'xx', True, True, False, False, True, False, None, False, False), (155, 894, 0, 0, 'the', '', 'the', 'DET', 'DT', 'det', 'xxx', True, True, False, False, True, False, None, False, False), (156, 898, 0, 0, 'five', 'DATE', 'five', 'NUM', 'CD', 'nummod', 'xxxx', True, True, False, False, True, False, None, False, False), (157, 902, 0, 0, '-', 'DATE', '-', 'PUNCT', 'HYPH', 'punct', '-', False, False, False, False, False, False, None, False, False), (158, 903, 2, 0, 'year', 'DATE', 'year', 'NOUN', 'NN', 'compound', 'xxxx', True, False, False, False, True, False, None, False, False), (159, 908, 2, 0, 'program', '', 'program', 'NOUN', 'NN', 'pobj', 'xxxx', True, False, False, False, True, False, None, False, False), (160, 915, 0, 0, ',', '', ',', 'PUNCT', ',', 'punct', ',', False, False, False, False, False, False, None, False, False), (161, 917, 0, 0, 'our', '', '-PRON-', 'DET', 'PRP$', 'poss', 'xxx', True, True, False, False, True, False, None, False, False), (162, 921, 0, 0, 'current', '', 'current', 'ADJ', 'JJ', 'amod', 'xxxx', True, False, False, False, True, False, None, False, False), (163, 929, 2, 0, 'goals', '', 'goal', 'NOUN', 'NNS', 'nsubj', 'xxxx', True, False, False, False, True, False, None, False, False), (164, 935, 3, 2, 'call', '', 'call', 'VERB', 'VBP', 'ROOT', 'xxxx', True, True, False, False, True, False, None, False, False), (165, 940, 0, 1, 'for', '', 'for', 'ADP', 'IN', 'prep', 'xxx', True, True, False, False, True, False, None, False, False), (166, 944, 0, 1, 'annotation', '', 'annotation', 'NOUN', 'NN', 'pobj', 'xxxx', True, False, False, False, True, False, None, False, False), (167, 955, 0, 1, 'of', '', 'of', 'ADP', 'IN', 'prep', 'xx', True, True, False, False, True, False, None, False, False), (168, 958, 0, 0, 'over', 'CARDINAL', 'over', 'ADP', 'IN', 'quantmod', 'xxxx', True, True, False, False, True, False, None, False, False), (169, 963, 0, 0, 'a', 'CARDINAL', 'a', 'DET', 'DT', 'quantmod', 'x', True, True, False, False, True, False, None, False, False), (170, 965, 2, 0, 'million', 'CARDINAL', 'million', 'NUM', 'CD', 'nummod', 'xxxx', True, False, False, False, True, False, None, False, False), (171, 973, 1, 4, 'words', '', 'word', 'NOUN', 'NNS', 'pobj', 'xxxx', True, False, False, False, True, False, None, False, False), (172, 979, 0, 1, 'each', '', 'each', 'DET', 'DT', 'npadvmod', 'xxxx', True, True, False, False, True, False, None, False, False), (173, 984, 0, 1, 'of', '', 'of', 'ADP', 'IN', 'prep', 'xx', True, True, False, False, True, False, None, False, False), (174, 987, 0, 2, 'English', 'LANGUAGE', 'English', 'PROPN', 'NNP', 'pobj', 'Xxxxx', True, False, False, True, False, False, None, False, False), (175, 995, 0, 0, 'and', '', 'and', 'CCONJ', 'CC', 'cc', 'xxx', True, True, False, False, True, False, None, False, False), (176, 999, 0, 0, 'Chinese', 'LANGUAGE', 'Chinese', 'PROPN', 'NNP', 'conj', 'Xxxxx', True, False, False, True, False, False, None, False, False), (177, 1006, 0, 0, ',', '', ',', 'PUNCT', ',', 'punct', ',', False, False, False, False, False, False, None, False, False), (178, 1008, 0, 0, 'and', '', 'and', 'CCONJ', 'CC', 'cc', 'xxx', True, True, False, False, True, False, None, False, False), (179, 1012, 0, 0, 'half', 'CARDINAL', 'half', 'DET', 'PDT', 'quantmod', 'xxxx', True, False, False, False, True, False, None, False, False), (180, 1017, 0, 0, 'a', 'CARDINAL', 'a', 'DET', 'DT', 'quantmod', 'x', True, True, False, False, True, False, None, False, False), (181, 1019, 2, 0, 'million', 'CARDINAL', 'million', 'NUM', 'CD', 'nummod', 'xxxx', True, False, False, False, True, False, None, False, False), (182, 1027, 1, 1, 'words', '', 'word', 'NOUN', 'NNS', 'conj', 'xxxx', True, False, False, False, True, False, None, False, False), (183, 1033, 0, 1, 'of', '', 'of', 'ADP', 'IN', 'prep', 'xx', True, True, False, False, True, False, None, False, False), (184, 1036, 0, 0, 'Arabic', 'LANGUAGE', 'Arabic', 'PROPN', 'NNP', 'pobj', 'Xxxxx', True, False, False, True, False, False, None, False, False), (185, 1042, 0, 0, '.', '', '.', 'PUNCT', '.', 'punct', '.', False, False, False, False, False, False, None, False, False)]\n"
          ],
          "name": "stdout"
        }
      ]
    }
  ]
}